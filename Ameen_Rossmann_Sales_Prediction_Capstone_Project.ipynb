{
  "nbformat": 4,
  "nbformat_minor": 0,
  "metadata": {
    "kernelspec": {
      "display_name": "Python 3",
      "language": "python",
      "name": "python3"
    },
    "language_info": {
      "codemirror_mode": {
        "name": "ipython",
        "version": 3
      },
      "file_extension": ".py",
      "mimetype": "text/x-python",
      "name": "python",
      "nbconvert_exporter": "python",
      "pygments_lexer": "ipython3",
      "version": "3.6.6"
    },
    "colab": {
      "name": "Ameen Rossmann Sales Prediction - Capstone Project.ipynb",
      "provenance": [],
      "collapsed_sections": [],
      "include_colab_link": true
    }
  },
  "cells": [
    {
      "cell_type": "markdown",
      "metadata": {
        "id": "view-in-github",
        "colab_type": "text"
      },
      "source": [
        "<a href=\"https://colab.research.google.com/github/hrithikwel8/Rossmann_Sales_Prediction/blob/main/Ameen_Rossmann_Sales_Prediction_Capstone_Project.ipynb\" target=\"_parent\"><img src=\"https://colab.research.google.com/assets/colab-badge.svg\" alt=\"Open In Colab\"/></a>"
      ]
    },
    {
      "cell_type": "markdown",
      "metadata": {
        "id": "tOGC-qoyhJeX"
      },
      "source": [
        "# <b><u> Project Title : Sales Prediction : Predicting sales of a major store chain Rossmann</u></b>"
      ]
    },
    {
      "cell_type": "markdown",
      "metadata": {
        "id": "Y06xIdG26kRF"
      },
      "source": [
        "## <b> Problem Description </b>\n",
        "\n",
        "### Rossmann operates over 3,000 drug stores in 7 European countries. Currently, Rossmann store managers are tasked with predicting their daily sales for up to six weeks in advance. Store sales are influenced by many factors, including promotions, competition, school and state holidays, seasonality, and locality. With thousands of individual managers predicting sales based on their unique circumstances, the accuracy of results can be quite varied.\n",
        "\n",
        "### You are provided with historical sales data for 1,115 Rossmann stores. The task is to forecast the \"Sales\" column for the test set. Note that some stores in the dataset were temporarily closed for refurbishment."
      ]
    },
    {
      "cell_type": "markdown",
      "metadata": {
        "id": "WWeU1f9bwqQq"
      },
      "source": [
        "## <b> Data Description </b>\n",
        "\n",
        "### <b>Rossmann Stores Data.csv </b> - historical data including Sales\n",
        "### <b>store.csv </b> - supplemental information about the stores\n",
        "\n",
        "\n",
        "### <b><u>Data fields</u></b>\n",
        "### Most of the fields are self-explanatory. The following are descriptions for those that aren't.\n",
        "\n",
        "* #### Id - an Id that represents a (Store, Date) duple within the test set\n",
        "* #### Store - a unique Id for each store\n",
        "* #### Sales - the turnover for any given day (this is what you are predicting)\n",
        "* #### Customers - the number of customers on a given day\n",
        "* #### Open - an indicator for whether the store was open: 0 = closed, 1 = open\n",
        "* #### StateHoliday - indicates a state holiday. Normally all stores, with few exceptions, are closed on state holidays. Note that all schools are closed on public holidays and weekends. a = public holiday, b = Easter holiday, c = Christmas, 0 = None\n",
        "* #### SchoolHoliday - indicates if the (Store, Date) was affected by the closure of public schools\n",
        "* #### StoreType - differentiates between 4 different store models: a, b, c, d\n",
        "* #### Assortment - describes an assortment level: a = basic, b = extra, c = extended\n",
        "* #### CompetitionDistance - distance in meters to the nearest competitor store\n",
        "* #### CompetitionOpenSince[Month/Year] - gives the approximate year and month of the time the nearest competitor was opened\n",
        "* #### Promo - indicates whether a store is running a promo on that day\n",
        "* #### Promo2 - Promo2 is a continuing and consecutive promotion for some stores: 0 = store is not participating, 1 = store is participating\n",
        "* #### Promo2Since[Year/Week] - describes the year and calendar week when the store started participating in Promo2\n",
        "* #### PromoInterval - describes the consecutive intervals Promo2 is started, naming the months the promotion is started anew. E.g. \"Feb,May,Aug,Nov\" means each round starts in February, May, August, November of any given year for that store"
      ]
    },
    {
      "cell_type": "code",
      "metadata": {
        "colab": {
          "base_uri": "https://localhost:8080/"
        },
        "id": "kcDGBg7mcJZ5",
        "outputId": "3d93798b-8caa-4f6f-f7f4-b1e9ed7ef21a"
      },
      "source": [
        "# Importing the libraries\n",
        "import numpy as np\n",
        "import pandas as pd\n",
        "from datetime import date, timedelta\n",
        "import matplotlib.pyplot as plt\n",
        "import seaborn as sns\n",
        "\n",
        "from statsmodels.stats.outliers_influence import variance_inflation_factor\n",
        "from sklearn.preprocessing import MinMaxScaler\n",
        "from sklearn.model_selection import train_test_split\n",
        "from sklearn.model_selection import GridSearchCV\n",
        "from sklearn.linear_model import LinearRegression\n",
        "from sklearn.linear_model import Lasso\n",
        "from sklearn.linear_model import Ridge\n",
        "from sklearn.linear_model import ElasticNet\n",
        "from sklearn.metrics import r2_score\n",
        "from sklearn.metrics import mean_squared_error\n",
        "\n",
        "import warnings\n",
        "warnings.filterwarnings('ignore')\n",
        "%matplotlib inline"
      ],
      "execution_count": null,
      "outputs": [
        {
          "output_type": "stream",
          "text": [
            "/usr/local/lib/python3.7/dist-packages/statsmodels/tools/_testing.py:19: FutureWarning: pandas.util.testing is deprecated. Use the functions in the public API at pandas.testing instead.\n",
            "  import pandas.util.testing as tm\n"
          ],
          "name": "stderr"
        }
      ]
    },
    {
      "cell_type": "code",
      "metadata": {
        "colab": {
          "base_uri": "https://localhost:8080/"
        },
        "id": "Sqg07TzgZr3f",
        "outputId": "681c1926-631e-44fd-ec96-40f54a7df779"
      },
      "source": [
        "from google.colab import drive\n",
        "drive.mount('/content/drive')"
      ],
      "execution_count": null,
      "outputs": [
        {
          "output_type": "stream",
          "text": [
            "Mounted at /content/drive\n"
          ],
          "name": "stdout"
        }
      ]
    },
    {
      "cell_type": "code",
      "metadata": {
        "id": "-BG6f0e5Zr1N"
      },
      "source": [
        "store_data_df = pd.read_csv('/content/drive/MyDrive/AlmaBetter Data Science/CAPSTONE PROJECT-2/Retail Sales Prediction/Data & Resources/Rossmann Stores Data.csv')\n",
        "store_df = pd.read_csv('/content/drive/MyDrive/AlmaBetter Data Science/CAPSTONE PROJECT-2/Retail Sales Prediction/Data & Resources/store.csv')"
      ],
      "execution_count": null,
      "outputs": []
    },
    {
      "cell_type": "markdown",
      "metadata": {
        "id": "6HymcG99YlhB"
      },
      "source": [
        "**Checking the assumptions of Linear Regression**"
      ]
    },
    {
      "cell_type": "markdown",
      "metadata": {
        "id": "_nR9mvUsB-sr"
      },
      "source": [
        "We are using linear regression model so, we need to check 4 basic assumptions of linear regression.\n",
        "\n",
        "1. There need to be linear relationship between independent and dependent variables\n",
        "2. The sum of residuals should be near 0\n",
        "3. There should not be multicollinearity\n",
        "4. These should not be heteroscedasticity"
      ]
    },
    {
      "cell_type": "code",
      "metadata": {
        "colab": {
          "base_uri": "https://localhost:8080/",
          "height": 298
        },
        "id": "Hx-PkcXDfpgp",
        "outputId": "722997c0-a689-4146-adc0-f73c5cef3106"
      },
      "source": [
        "# Plotting the relationship between sales and customer\n",
        "sns.scatterplot(data=sales_df,x='Customers_log_t',y='Sales_log_t')"
      ],
      "execution_count": null,
      "outputs": [
        {
          "output_type": "execute_result",
          "data": {
            "text/plain": [
              "<matplotlib.axes._subplots.AxesSubplot at 0x7fb6aecfe490>"
            ]
          },
          "metadata": {
            "tags": []
          },
          "execution_count": 80
        },
        {
          "output_type": "display_data",
          "data": {
            "image/png": "[encoded data removed]",
            "text/plain": [
              "<Figure size 432x288 with 1 Axes>"
            ]
          },
          "metadata": {
            "tags": [],
            "needs_background": "light"
          }
        }
      ]
    },
    {
      "cell_type": "code",
      "metadata": {
        "id": "_hhsammVfpYq",
        "colab": {
          "base_uri": "https://localhost:8080/",
          "height": 297
        },
        "outputId": "7d63f719-ccae-4193-ee37-11524f99a3dc"
      },
      "source": [
        "# Plotting the relationship between Sales and Competition Distance\n",
        "sns.scatterplot(data=sales_df,x='CompetitionDistance',y='Sales_log_t')"
      ],
      "execution_count": null,
      "outputs": [
        {
          "output_type": "execute_result",
          "data": {
            "text/plain": [
              "<matplotlib.axes._subplots.AxesSubplot at 0x7fb6aec5a950>"
            ]
          },
          "metadata": {
            "tags": []
          },
          "execution_count": 81
        },
        {
          "output_type": "display_data",
          "data": {
            "image/png": "[encoded data removed]",
            "text/plain": [
              "<Figure size 432x288 with 1 Axes>"
            ]
          },
          "metadata": {
            "tags": [],
            "needs_background": "light"
          }
        }
      ]
    },
    {
      "cell_type": "code",
      "metadata": {
        "id": "clbpGpzofpU2",
        "colab": {
          "base_uri": "https://localhost:8080/",
          "height": 297
        },
        "outputId": "2fbc553b-664e-41a0-fcfb-935cebdcbd0d"
      },
      "source": [
        "# Plotting the relationship between Sales and Compition Open Since Number Of Days\n",
        "sns.scatterplot(data=sales_df,x='CompetitionTime',y='Sales_log_t')"
      ],
      "execution_count": null,
      "outputs": [
        {
          "output_type": "execute_result",
          "data": {
            "text/plain": [
              "<matplotlib.axes._subplots.AxesSubplot at 0x7fb6aec3d5d0>"
            ]
          },
          "metadata": {
            "tags": []
          },
          "execution_count": 82
        },
        {
          "output_type": "display_data",
          "data": {
            "image/png": "[encoded data removed]",
            "text/plain": [
              "<Figure size 432x288 with 1 Axes>"
            ]
          },
          "metadata": {
            "tags": [],
            "needs_background": "light"
          }
        }
      ]
    },
    {
      "cell_type": "code",
      "metadata": {
        "colab": {
          "base_uri": "https://localhost:8080/"
        },
        "id": "HDr46PhNfpPC",
        "outputId": "bb7c8e4b-1edc-46a1-e53f-ebd6f9e5d6d9"
      },
      "source": [
        "# Checking the mean of Residuals\n",
        "sum(y_pred-y_test)/ len(sales_df)"
      ],
      "execution_count": null,
      "outputs": [
        {
          "output_type": "execute_result",
          "data": {
            "text/plain": [
              "-0.0007064634619246783"
            ]
          },
          "metadata": {
            "tags": []
          },
          "execution_count": 83
        }
      ]
    },
    {
      "cell_type": "code",
      "metadata": {
        "colab": {
          "base_uri": "https://localhost:8080/",
          "height": 283
        },
        "id": "OXObell8svJX",
        "outputId": "a1fdd833-4310-4ca0-a4c8-203ed0e429df"
      },
      "source": [
        "# Checking Homoscedasticity\n",
        "error_terms = y_pred-y_test\n",
        "plot = sns.scatterplot(x=y_test,y=error_terms)\n",
        "# plot.map_dataframe(plot_hline,y=0)\n",
        "plt.plot([0,max(y_test)], [0,0], 'r-')"
      ],
      "execution_count": null,
      "outputs": [
        {
          "output_type": "execute_result",
          "data": {
            "text/plain": [
              "[<matplotlib.lines.Line2D at 0x7fb6aeb6f150>]"
            ]
          },
          "metadata": {
            "tags": []
          },
          "execution_count": 84
        },
        {
          "output_type": "display_data",
          "data": {
            "image/png": "[encoded data removed]",
            "text/plain": [
              "<Figure size 432x288 with 1 Axes>"
            ]
          },
          "metadata": {
            "tags": [],
            "needs_background": "light"
          }
        }
      ]
    },
    {
      "cell_type": "markdown",
      "metadata": {
        "id": "gulqG5FS08fk"
      },
      "source": [
        "**Predicting Sales for next six weeks**"
      ]
    },
    {
      "cell_type": "markdown",
      "metadata": {
        "id": "8dRBnl7fDgM5"
      },
      "source": [
        "Now that we have linear regression models that performing well. we need to predict Sales for next 6 weeks in Advance.\n",
        "\n",
        "To do that we need independent variables data to create X_test data set.\n",
        "So we need to generate data for X_test and then we can use the data for prediction."
      ]
    },
    {
      "cell_type": "code",
      "metadata": {
        "id": "bKP1FoLb5hp7",
        "colab": {
          "base_uri": "https://localhost:8080/",
          "height": 226
        },
        "outputId": "50158221-9a46-40ac-c887-6fc97fe73f2a"
      },
      "source": [
        "train_data_independent_variables.head()"
      ],
      "execution_count": null,
      "outputs": [
        {
          "output_type": "execute_result",
          "data": {
            "text/html": [
              "<div>\n",
              "<style scoped>\n",
              "    .dataframe tbody tr th:only-of-type {\n",
              "        vertical-align: middle;\n",
              "    }\n",
              "\n",
              "    .dataframe tbody tr th {\n",
              "        vertical-align: top;\n",
              "    }\n",
              "\n",
              "    .dataframe thead th {\n",
              "        text-align: right;\n",
              "    }\n",
              "</style>\n",
              "<table border=\"1\" class=\"dataframe\">\n",
              "  <thead>\n",
              "    <tr style=\"text-align: right;\">\n",
              "      <th></th>\n",
              "      <th>Store</th>\n",
              "      <th>DayOfWeek</th>\n",
              "      <th>Open</th>\n",
              "      <th>Promo</th>\n",
              "      <th>SchoolHoliday</th>\n",
              "      <th>public_holiday</th>\n",
              "      <th>easter_holiday</th>\n",
              "      <th>christmas</th>\n",
              "      <th>Month</th>\n",
              "      <th>Day</th>\n",
              "      <th>CompetitionDistance</th>\n",
              "      <th>Store_Type</th>\n",
              "      <th>Assortment_Level</th>\n",
              "      <th>Promo_cont</th>\n",
              "      <th>CompetitionTime</th>\n",
              "    </tr>\n",
              "  </thead>\n",
              "  <tbody>\n",
              "    <tr>\n",
              "      <th>504524</th>\n",
              "      <td>554</td>\n",
              "      <td>1</td>\n",
              "      <td>1</td>\n",
              "      <td>0</td>\n",
              "      <td>0</td>\n",
              "      <td>0</td>\n",
              "      <td>0</td>\n",
              "      <td>0</td>\n",
              "      <td>2</td>\n",
              "      <td>23</td>\n",
              "      <td>1200.0</td>\n",
              "      <td>3</td>\n",
              "      <td>3</td>\n",
              "      <td>0</td>\n",
              "      <td>0</td>\n",
              "    </tr>\n",
              "    <tr>\n",
              "      <th>246042</th>\n",
              "      <td>271</td>\n",
              "      <td>5</td>\n",
              "      <td>1</td>\n",
              "      <td>0</td>\n",
              "      <td>1</td>\n",
              "      <td>0</td>\n",
              "      <td>0</td>\n",
              "      <td>0</td>\n",
              "      <td>8</td>\n",
              "      <td>15</td>\n",
              "      <td>420.0</td>\n",
              "      <td>1</td>\n",
              "      <td>1</td>\n",
              "      <td>0</td>\n",
              "      <td>0</td>\n",
              "    </tr>\n",
              "    <tr>\n",
              "      <th>657094</th>\n",
              "      <td>722</td>\n",
              "      <td>5</td>\n",
              "      <td>1</td>\n",
              "      <td>1</td>\n",
              "      <td>1</td>\n",
              "      <td>0</td>\n",
              "      <td>0</td>\n",
              "      <td>0</td>\n",
              "      <td>8</td>\n",
              "      <td>2</td>\n",
              "      <td>50.0</td>\n",
              "      <td>1</td>\n",
              "      <td>1</td>\n",
              "      <td>0</td>\n",
              "      <td>0</td>\n",
              "    </tr>\n",
              "    <tr>\n",
              "      <th>415179</th>\n",
              "      <td>455</td>\n",
              "      <td>2</td>\n",
              "      <td>1</td>\n",
              "      <td>1</td>\n",
              "      <td>0</td>\n",
              "      <td>0</td>\n",
              "      <td>0</td>\n",
              "      <td>0</td>\n",
              "      <td>7</td>\n",
              "      <td>2</td>\n",
              "      <td>7660.0</td>\n",
              "      <td>4</td>\n",
              "      <td>3</td>\n",
              "      <td>0</td>\n",
              "      <td>1035</td>\n",
              "    </tr>\n",
              "    <tr>\n",
              "      <th>101053</th>\n",
              "      <td>111</td>\n",
              "      <td>4</td>\n",
              "      <td>1</td>\n",
              "      <td>0</td>\n",
              "      <td>0</td>\n",
              "      <td>0</td>\n",
              "      <td>0</td>\n",
              "      <td>0</td>\n",
              "      <td>1</td>\n",
              "      <td>16</td>\n",
              "      <td>7890.0</td>\n",
              "      <td>4</td>\n",
              "      <td>3</td>\n",
              "      <td>1</td>\n",
              "      <td>0</td>\n",
              "    </tr>\n",
              "  </tbody>\n",
              "</table>\n",
              "</div>"
            ],
            "text/plain": [
              "        Store  DayOfWeek  Open  ...  Assortment_Level  Promo_cont  CompetitionTime\n",
              "504524    554          1     1  ...                 3           0                0\n",
              "246042    271          5     1  ...                 1           0                0\n",
              "657094    722          5     1  ...                 1           0                0\n",
              "415179    455          2     1  ...                 3           0             1035\n",
              "101053    111          4     1  ...                 3           1                0\n",
              "\n",
              "[5 rows x 15 columns]"
            ]
          },
          "metadata": {
            "tags": []
          },
          "execution_count": 120
        }
      ]
    },
    {
      "cell_type": "markdown",
      "metadata": {
        "id": "ttuZvE_LTLo4"
      },
      "source": [
        "Our models are trained train_data_independent_variables dataset so we need to generate data with columns in the same order to predict sales on the generated data."
      ]
    },
    {
      "cell_type": "code",
      "metadata": {
        "id": "WDbBPjUZnbgq"
      },
      "source": [
        "# these functions uses train_data_independent_variables dataframe as reference dataframe\n",
        "# function to check if there is a holiday on given date and holiday name\n",
        "def get_holidays(ref_date, holiday):\n",
        "  # check reference dataset for holidays\n",
        "  # get first instance of each month and day\n",
        "  df_group = train_data_independent_variables.groupby(['Month','Day']).first()\n",
        "  # get array of values for given holiday\n",
        "  val_array = df_group[holiday].values\n",
        "  # convert given date to array of day_of_year\n",
        "  day_of_year = ref_date.apply(lambda x: x.timetuple().tm_yday).values\n",
        "  # return the array of holiday values for given date\n",
        "  return val_array[day_of_year - 1] # remove 1 as array index start from 0"
      ],
      "execution_count": null,
      "outputs": []
    },
    {
      "cell_type": "code",
      "metadata": {
        "id": "nXjGIJ6FngMG"
      },
      "source": [
        "# function to check if there is school holiday on given date\n",
        "def get_school_holidays(ref_date):\n",
        "  # schools have holidays on sunday and any of other holidays or have vacations\n",
        "  # first get holidays as sundays\n",
        "  sundays = ref_date.apply(lambda x: 1 if x.weekday() == 6 else 0) \n",
        "  # get school holidays from reference dataset\n",
        "  holidays = get_holidays(ref_date, 'SchoolHoliday')\n",
        "  school_holidays = []\n",
        "  # create a loop to get school holidays\n",
        "  for i in range(len(ref_date)):\n",
        "    # if it's sunday then it's school holiday else get school holiday from refence dataset\n",
        "    if sundays[i] == 1:\n",
        "      school_holidays.append(1)\n",
        "    else:\n",
        "      school_holidays.append(holidays[i])\n",
        "  return school_holidays"
      ],
      "execution_count": null,
      "outputs": []
    },
    {
      "cell_type": "code",
      "metadata": {
        "id": "3DKt1Lu2n_me"
      },
      "source": [
        "# function to get reference value of given variable from the reference data set\n",
        "def get_ref_value(store_ids, var_name):\n",
        "  # first group reference dataset by store and get first instance of given variable as series\n",
        "  # then convert it to array of values\n",
        "  first_inst = train_data_independent_variables.groupby(['Store']).first()[var_name].values\n",
        "  # now get array of result values by indexing from dataset\n",
        "  return first_inst[store_ids - 1] # remove 1 as array index start from 0"
      ],
      "execution_count": null,
      "outputs": []
    },
    {
      "cell_type": "code",
      "metadata": {
        "id": "hDiZmzxfnlKj"
      },
      "source": [
        "# function to get promo_cont from reference dataset\n",
        "def get_promo_cont(store_ids, months):\n",
        "  # first group reference dataset by store and month and get first instance of each group\n",
        "  # then convert it to array of values for variable promo_cont\n",
        "  values = train_data_independent_variables.groupby(['Store','Month']).first()['Promo_cont'].values\n",
        "  # now get array of indices to get promo_count value\n",
        "  indices = []\n",
        "  month_values = months.values\n",
        "  for index, id in enumerate(store_ids):\n",
        "    # we have used groupby first on store and then months so values are arranged first by store then month\n",
        "    # so we can get index by first multiplying store id with 12(total months) and then adding month value for\n",
        "    # a particular store id \n",
        "    index = ((id - 1)*12) + month_values[index] - 1  # remove 1 as array index start from 0\n",
        "    indices.append(index)\n",
        "  # return prmo_count values as array\n",
        "  return values[indices]"
      ],
      "execution_count": null,
      "outputs": []
    },
    {
      "cell_type": "code",
      "metadata": {
        "id": "kHz5Hdls6mQo"
      },
      "source": [
        "# function to get values for variable Open from reference dataset\n",
        "def get_open(dataset):\n",
        "  # we can calculate store being with probability values calculated from reference dataset\n",
        "  # from EDA we can see that most stores are closed on public holiday, easter holiday and christmas\n",
        "  # first calculate probabilities for each store being open on holidays\n",
        "  store_open_public_holiday = train_data_independent_variables.groupby(['Store','public_holiday']).sum().iloc[1::2]['Open'].values\n",
        "  store_total_public_holiday = train_data_independent_variables.groupby(['Store','public_holiday']).count().iloc[1::2]['Open'].values\n",
        "  open_prob_public_holiday = store_open_public_holiday / store_total_public_holiday\n",
        "  # easter holiday\n",
        "  store_open_easter_holiday = train_data_independent_variables.groupby(['Store','easter_holiday']).sum().iloc[1::2]['Open'].values\n",
        "  store_total_easter_holiday = train_data_independent_variables.groupby(['Store','easter_holiday']).count().iloc[1::2]['Open'].values\n",
        "  open_prob_easter_holiday = store_open_easter_holiday / store_total_easter_holiday\n",
        "  # christmas\n",
        "  store_open_christmas = train_data_independent_variables.groupby(['Store','christmas']).sum().iloc[1::2]['Open'].values\n",
        "  store_total_christmas = train_data_independent_variables.groupby(['Store','christmas']).count().iloc[1::2]['Open'].values\n",
        "  open_prob_christmas = store_open_christmas / store_total_christmas\n",
        "  # sundays\n",
        "  store_open_sundays = train_data_independent_variables.groupby(['Store','DayOfWeek']).sum().iloc[6::7]['Open'].values\n",
        "  store_total_sundays = train_data_independent_variables.groupby(['Store','DayOfWeek']).count().iloc[6::7]['Open'].values\n",
        "  open_prob_sundays = store_open_sundays / store_total_sundays\n",
        "  # non sundays\n",
        "  store_open_days = train_data_independent_variables.groupby(['Store']).sum()['Open'].values - store_open_sundays\n",
        "  store_total_days = train_data_independent_variables.groupby(['Store']).count()['Open'].values - store_total_sundays\n",
        "  open_prob_days = store_open_days / store_total_days\n",
        "  # create a list for open values\n",
        "  open_val = []\n",
        "  for i in range(len(dataset)):\n",
        "    # get a random value from [0,1)\n",
        "    rand = random.random()\n",
        "    # get i'th observation from dataset\n",
        "    observation = dataset.iloc[i]\n",
        "    store_id = observation['Store'] - 1  # remove 1 as array index start from 0\n",
        "    # if probability of store being open in holiday is higher than random number we mark store as open\n",
        "    # first check for christmas\n",
        "    if (int(observation['christmas']) == 1) and (open_prob_christmas[store_id] > rand):\n",
        "      open_val.append(1)\n",
        "    # check for easter\n",
        "    elif (int(observation['easter_holiday']) == 1) and (open_prob_easter_holiday[store_id] > rand):\n",
        "      open_val.append(1)\n",
        "    # check for public holiday\n",
        "    elif (int(observation['public_holiday']) == 1) and (open_prob_public_holiday[store_id] > rand):\n",
        "      open_val.append(1)\n",
        "    else:\n",
        "      # check for sunday\n",
        "      if int(observation['DayOfWeek']) == 7:\n",
        "        if open_prob_sundays[store_id] > rand:\n",
        "          open_val.append(1)\n",
        "        else:\n",
        "          open_val.append(0)\n",
        "      else:  # check for other days\n",
        "        if open_prob_days[store_id] > rand:\n",
        "          open_val.append(1)\n",
        "        else:\n",
        "          open_val.append(0)\n",
        "  return open_val"
      ],
      "execution_count": null,
      "outputs": []
    },
    {
      "cell_type": "code",
      "metadata": {
        "id": "J2fLp-ntT4kc"
      },
      "source": [
        "# function to generate data for next 6 weeks from given starting date \n",
        "# this function uses train_data_independent_variables dataframe as reference dataframe\n",
        "def generate_date_for_six_week(start_date):\n",
        "  # Creating new dataframe to generate data\n",
        "  new_df = pd.DataFrame()\n",
        "  # Creating stores list for our new dataframe using for loop\n",
        "  store_list = []\n",
        "  # Creating date for next six weeks for new dataframe\n",
        "  date_time = []\n",
        "  for i in range(1, 1116):  # adding all the stores with id from 1 to 1115\n",
        "    for j in range(42):  # days of 6 week = 6*7 = 42\n",
        "      store_list.append(i)\n",
        "      date_time.append(start_date + timedelta(j))\n",
        "  # Adding the column Stores in our new dataframe\n",
        "  new_df['Store'] = store_list\n",
        "  # Adding the dates in our new dataframe\n",
        "  new_df['Date_time'] = date_time\n",
        "  # Adding day of week\n",
        "  new_df['DayOfWeek'] = new_df['Date_time'].apply(lambda x: x.weekday()+1)  # add as weekday start from 0\n",
        "  # add store open as 0 for now we will update it later\n",
        "  new_df['Open'] = 0\n",
        "  # create a list for promo offers\n",
        "  stores_promo = []\n",
        "  # create a loop to calculate probability for each store running promo\n",
        "  for i in range(1, 1116):\n",
        "    total_days = (split_date - first_date).days\n",
        "    # get number of days current store running promo\n",
        "    promo_days = len(train_data_independent_variables[(train_data_independent_variables['Store']==i) & (train_data_independent_variables['Promo']==1)])\n",
        "    # calculate the probability of store running promo and add it to the list\n",
        "    prob = promo_days / total_days\n",
        "    # from the probability calculate if store running promo on given day or not\n",
        "    for j in range(42):\n",
        "      # if probability is higher than random number[0,1) then store will run promo\n",
        "      if prob > (random.random()):\n",
        "        stores_promo.append(1)\n",
        "      else:\n",
        "        stores_promo.append(0)\n",
        "  # Adding Promo\n",
        "  new_df['Promo'] = stores_promo\n",
        "  # Add school holiday\n",
        "  new_df['SchoolHoliday'] = get_school_holidays(new_df['Date_time'])\n",
        "  # public_holiday, easter_holiday and christmas comes on same day and same month every year\n",
        "  # so we can add these holidays from our reference dataset \n",
        "  new_df['public_holiday'] = get_holidays(new_df['Date_time'],'public_holiday')\n",
        "  new_df['easter_holiday'] = get_holidays(new_df['Date_time'],'easter_holiday')\n",
        "  new_df['christmas'] = get_holidays(new_df['Date_time'],'christmas')\n",
        "  # Add Month and Day from the date\n",
        "  new_df['Month'] = new_df['Date_time'].apply(lambda x: x.month)\n",
        "  new_df['Day'] = new_df['Date_time'].apply(lambda x: x.day)\n",
        "  # CompetitionDistance, CompetitionTime, Store_Type and Assortment_Level will be same as reference dataset for each store\n",
        "  # so we can get the value for these variables from reference dataset\n",
        "  new_df['CompetitionDistance'] = get_ref_value(new_df['Store'],'CompetitionDistance')\n",
        "  new_df['Store_Type'] = get_ref_value(new_df['Store'],'Store_Type')\n",
        "  new_df['Assortment_Level'] = get_ref_value(new_df['Store'],'Assortment_Level')\n",
        "  # Promo_cont will run a month so we can get value from reference dataset for given month for each store\n",
        "  new_df['Promo_cont'] = get_promo_cont(new_df['Store'],new_df['Month'])\n",
        "  new_df['CompetitionTime'] = get_ref_value(new_df['Store'],'CompetitionTime')\n",
        "  # update open values\n",
        "  new_df['Open'] = get_open(new_df)\n",
        "  return new_df"
      ],
      "execution_count": null,
      "outputs": []
    },
    {
      "cell_type": "markdown",
      "metadata": {
        "id": "ZudMupC08h4d"
      },
      "source": [
        "Now we have function to generate data we can get data for the last 6 weeks to check prediction of our model on the generated data."
      ]
    },
    {
      "cell_type": "code",
      "metadata": {
        "id": "d6nUls5uWDLc",
        "colab": {
          "base_uri": "https://localhost:8080/",
          "height": 444
        },
        "outputId": "326ae42c-aca7-418b-f6e5-1062de6ae548"
      },
      "source": [
        "gen_df_test = generate_date_for_six_week(split_date + timedelta(1))\n",
        "gen_df_test"
      ],
      "execution_count": null,
      "outputs": [
        {
          "output_type": "execute_result",
          "data": {
            "text/html": [
              "<div>\n",
              "<style scoped>\n",
              "    .dataframe tbody tr th:only-of-type {\n",
              "        vertical-align: middle;\n",
              "    }\n",
              "\n",
              "    .dataframe tbody tr th {\n",
              "        vertical-align: top;\n",
              "    }\n",
              "\n",
              "    .dataframe thead th {\n",
              "        text-align: right;\n",
              "    }\n",
              "</style>\n",
              "<table border=\"1\" class=\"dataframe\">\n",
              "  <thead>\n",
              "    <tr style=\"text-align: right;\">\n",
              "      <th></th>\n",
              "      <th>Store</th>\n",
              "      <th>Date_time</th>\n",
              "      <th>DayOfWeek</th>\n",
              "      <th>Open</th>\n",
              "      <th>Promo</th>\n",
              "      <th>SchoolHoliday</th>\n",
              "      <th>public_holiday</th>\n",
              "      <th>easter_holiday</th>\n",
              "      <th>christmas</th>\n",
              "      <th>Month</th>\n",
              "      <th>Day</th>\n",
              "      <th>CompetitionDistance</th>\n",
              "      <th>Store_Type</th>\n",
              "      <th>Assortment_Level</th>\n",
              "      <th>Promo_cont</th>\n",
              "      <th>CompetitionTime</th>\n",
              "    </tr>\n",
              "  </thead>\n",
              "  <tbody>\n",
              "    <tr>\n",
              "      <th>0</th>\n",
              "      <td>1</td>\n",
              "      <td>2015-06-20</td>\n",
              "      <td>6</td>\n",
              "      <td>1</td>\n",
              "      <td>0</td>\n",
              "      <td>0</td>\n",
              "      <td>0</td>\n",
              "      <td>0</td>\n",
              "      <td>0</td>\n",
              "      <td>6</td>\n",
              "      <td>20</td>\n",
              "      <td>1270.0</td>\n",
              "      <td>3</td>\n",
              "      <td>1</td>\n",
              "      <td>0</td>\n",
              "      <td>2306</td>\n",
              "    </tr>\n",
              "    <tr>\n",
              "      <th>1</th>\n",
              "      <td>1</td>\n",
              "      <td>2015-06-21</td>\n",
              "      <td>7</td>\n",
              "      <td>0</td>\n",
              "      <td>1</td>\n",
              "      <td>1</td>\n",
              "      <td>0</td>\n",
              "      <td>0</td>\n",
              "      <td>0</td>\n",
              "      <td>6</td>\n",
              "      <td>21</td>\n",
              "      <td>1270.0</td>\n",
              "      <td>3</td>\n",
              "      <td>1</td>\n",
              "      <td>0</td>\n",
              "      <td>2306</td>\n",
              "    </tr>\n",
              "    <tr>\n",
              "      <th>2</th>\n",
              "      <td>1</td>\n",
              "      <td>2015-06-22</td>\n",
              "      <td>1</td>\n",
              "      <td>1</td>\n",
              "      <td>0</td>\n",
              "      <td>0</td>\n",
              "      <td>0</td>\n",
              "      <td>0</td>\n",
              "      <td>0</td>\n",
              "      <td>6</td>\n",
              "      <td>22</td>\n",
              "      <td>1270.0</td>\n",
              "      <td>3</td>\n",
              "      <td>1</td>\n",
              "      <td>0</td>\n",
              "      <td>2306</td>\n",
              "    </tr>\n",
              "    <tr>\n",
              "      <th>3</th>\n",
              "      <td>1</td>\n",
              "      <td>2015-06-23</td>\n",
              "      <td>2</td>\n",
              "      <td>1</td>\n",
              "      <td>0</td>\n",
              "      <td>0</td>\n",
              "      <td>0</td>\n",
              "      <td>0</td>\n",
              "      <td>0</td>\n",
              "      <td>6</td>\n",
              "      <td>23</td>\n",
              "      <td>1270.0</td>\n",
              "      <td>3</td>\n",
              "      <td>1</td>\n",
              "      <td>0</td>\n",
              "      <td>2306</td>\n",
              "    </tr>\n",
              "    <tr>\n",
              "      <th>4</th>\n",
              "      <td>1</td>\n",
              "      <td>2015-06-24</td>\n",
              "      <td>3</td>\n",
              "      <td>1</td>\n",
              "      <td>1</td>\n",
              "      <td>0</td>\n",
              "      <td>0</td>\n",
              "      <td>0</td>\n",
              "      <td>0</td>\n",
              "      <td>6</td>\n",
              "      <td>24</td>\n",
              "      <td>1270.0</td>\n",
              "      <td>3</td>\n",
              "      <td>1</td>\n",
              "      <td>0</td>\n",
              "      <td>2306</td>\n",
              "    </tr>\n",
              "    <tr>\n",
              "      <th>...</th>\n",
              "      <td>...</td>\n",
              "      <td>...</td>\n",
              "      <td>...</td>\n",
              "      <td>...</td>\n",
              "      <td>...</td>\n",
              "      <td>...</td>\n",
              "      <td>...</td>\n",
              "      <td>...</td>\n",
              "      <td>...</td>\n",
              "      <td>...</td>\n",
              "      <td>...</td>\n",
              "      <td>...</td>\n",
              "      <td>...</td>\n",
              "      <td>...</td>\n",
              "      <td>...</td>\n",
              "      <td>...</td>\n",
              "    </tr>\n",
              "    <tr>\n",
              "      <th>46825</th>\n",
              "      <td>1115</td>\n",
              "      <td>2015-07-27</td>\n",
              "      <td>1</td>\n",
              "      <td>1</td>\n",
              "      <td>1</td>\n",
              "      <td>0</td>\n",
              "      <td>0</td>\n",
              "      <td>0</td>\n",
              "      <td>0</td>\n",
              "      <td>7</td>\n",
              "      <td>27</td>\n",
              "      <td>5350.0</td>\n",
              "      <td>4</td>\n",
              "      <td>3</td>\n",
              "      <td>0</td>\n",
              "      <td>0</td>\n",
              "    </tr>\n",
              "    <tr>\n",
              "      <th>46826</th>\n",
              "      <td>1115</td>\n",
              "      <td>2015-07-28</td>\n",
              "      <td>2</td>\n",
              "      <td>1</td>\n",
              "      <td>0</td>\n",
              "      <td>1</td>\n",
              "      <td>0</td>\n",
              "      <td>0</td>\n",
              "      <td>0</td>\n",
              "      <td>7</td>\n",
              "      <td>28</td>\n",
              "      <td>5350.0</td>\n",
              "      <td>4</td>\n",
              "      <td>3</td>\n",
              "      <td>0</td>\n",
              "      <td>0</td>\n",
              "    </tr>\n",
              "    <tr>\n",
              "      <th>46827</th>\n",
              "      <td>1115</td>\n",
              "      <td>2015-07-29</td>\n",
              "      <td>3</td>\n",
              "      <td>1</td>\n",
              "      <td>1</td>\n",
              "      <td>1</td>\n",
              "      <td>0</td>\n",
              "      <td>0</td>\n",
              "      <td>0</td>\n",
              "      <td>7</td>\n",
              "      <td>29</td>\n",
              "      <td>5350.0</td>\n",
              "      <td>4</td>\n",
              "      <td>3</td>\n",
              "      <td>0</td>\n",
              "      <td>0</td>\n",
              "    </tr>\n",
              "    <tr>\n",
              "      <th>46828</th>\n",
              "      <td>1115</td>\n",
              "      <td>2015-07-30</td>\n",
              "      <td>4</td>\n",
              "      <td>1</td>\n",
              "      <td>1</td>\n",
              "      <td>1</td>\n",
              "      <td>0</td>\n",
              "      <td>0</td>\n",
              "      <td>0</td>\n",
              "      <td>7</td>\n",
              "      <td>30</td>\n",
              "      <td>5350.0</td>\n",
              "      <td>4</td>\n",
              "      <td>3</td>\n",
              "      <td>0</td>\n",
              "      <td>0</td>\n",
              "    </tr>\n",
              "    <tr>\n",
              "      <th>46829</th>\n",
              "      <td>1115</td>\n",
              "      <td>2015-07-31</td>\n",
              "      <td>5</td>\n",
              "      <td>1</td>\n",
              "      <td>0</td>\n",
              "      <td>1</td>\n",
              "      <td>0</td>\n",
              "      <td>0</td>\n",
              "      <td>0</td>\n",
              "      <td>7</td>\n",
              "      <td>31</td>\n",
              "      <td>5350.0</td>\n",
              "      <td>4</td>\n",
              "      <td>3</td>\n",
              "      <td>0</td>\n",
              "      <td>0</td>\n",
              "    </tr>\n",
              "  </tbody>\n",
              "</table>\n",
              "<p>46830 rows × 16 columns</p>\n",
              "</div>"
            ],
            "text/plain": [
              "       Store   Date_time  ...  Promo_cont  CompetitionTime\n",
              "0          1  2015-06-20  ...           0             2306\n",
              "1          1  2015-06-21  ...           0             2306\n",
              "2          1  2015-06-22  ...           0             2306\n",
              "3          1  2015-06-23  ...           0             2306\n",
              "4          1  2015-06-24  ...           0             2306\n",
              "...      ...         ...  ...         ...              ...\n",
              "46825   1115  2015-07-27  ...           0                0\n",
              "46826   1115  2015-07-28  ...           0                0\n",
              "46827   1115  2015-07-29  ...           0                0\n",
              "46828   1115  2015-07-30  ...           0                0\n",
              "46829   1115  2015-07-31  ...           0                0\n",
              "\n",
              "[46830 rows x 16 columns]"
            ]
          },
          "metadata": {
            "tags": []
          },
          "execution_count": 127
        }
      ]
    },
    {
      "cell_type": "markdown",
      "metadata": {
        "id": "yYmRsPlp9nqP"
      },
      "source": [
        "The generated data is sorted by store and then date. So we need to sort the dependent variable to make sure predictions are in the right order."
      ]
    },
    {
      "cell_type": "code",
      "metadata": {
        "id": "KU0IAkr_2tpJ",
        "colab": {
          "base_uri": "https://localhost:8080/",
          "height": 444
        },
        "outputId": "3c8de209-4ed4-4b2b-991c-43f6025ae71d"
      },
      "source": [
        "test_data_sorted = test_data.sort_values(by=['Store','Year','Month','Day'],ascending=True)\n",
        "test_data_sorted"
      ],
      "execution_count": null,
      "outputs": [
        {
          "output_type": "execute_result",
          "data": {
            "text/html": [
              "<div>\n",
              "<style scoped>\n",
              "    .dataframe tbody tr th:only-of-type {\n",
              "        vertical-align: middle;\n",
              "    }\n",
              "\n",
              "    .dataframe tbody tr th {\n",
              "        vertical-align: top;\n",
              "    }\n",
              "\n",
              "    .dataframe thead th {\n",
              "        text-align: right;\n",
              "    }\n",
              "</style>\n",
              "<table border=\"1\" class=\"dataframe\">\n",
              "  <thead>\n",
              "    <tr style=\"text-align: right;\">\n",
              "      <th></th>\n",
              "      <th>Store</th>\n",
              "      <th>DayOfWeek</th>\n",
              "      <th>Sales</th>\n",
              "      <th>Customers</th>\n",
              "      <th>Open</th>\n",
              "      <th>Promo</th>\n",
              "      <th>SchoolHoliday</th>\n",
              "      <th>public_holiday</th>\n",
              "      <th>easter_holiday</th>\n",
              "      <th>christmas</th>\n",
              "      <th>Year</th>\n",
              "      <th>Month</th>\n",
              "      <th>Day</th>\n",
              "      <th>Sales_log_t</th>\n",
              "      <th>Customers_log_t</th>\n",
              "      <th>CompetitionDistance</th>\n",
              "      <th>Store_Type</th>\n",
              "      <th>Assortment_Level</th>\n",
              "      <th>Promo_cont</th>\n",
              "      <th>CompetitionTime</th>\n",
              "    </tr>\n",
              "  </thead>\n",
              "  <tbody>\n",
              "    <tr>\n",
              "      <th>41</th>\n",
              "      <td>1</td>\n",
              "      <td>6</td>\n",
              "      <td>4097</td>\n",
              "      <td>494</td>\n",
              "      <td>1</td>\n",
              "      <td>0</td>\n",
              "      <td>0</td>\n",
              "      <td>0</td>\n",
              "      <td>0</td>\n",
              "      <td>0</td>\n",
              "      <td>2015</td>\n",
              "      <td>6</td>\n",
              "      <td>20</td>\n",
              "      <td>8.318254</td>\n",
              "      <td>6.204558</td>\n",
              "      <td>1270.0</td>\n",
              "      <td>3</td>\n",
              "      <td>1</td>\n",
              "      <td>0</td>\n",
              "      <td>2483</td>\n",
              "    </tr>\n",
              "    <tr>\n",
              "      <th>40</th>\n",
              "      <td>1</td>\n",
              "      <td>7</td>\n",
              "      <td>0</td>\n",
              "      <td>0</td>\n",
              "      <td>0</td>\n",
              "      <td>0</td>\n",
              "      <td>0</td>\n",
              "      <td>0</td>\n",
              "      <td>0</td>\n",
              "      <td>0</td>\n",
              "      <td>2015</td>\n",
              "      <td>6</td>\n",
              "      <td>21</td>\n",
              "      <td>0.000000</td>\n",
              "      <td>0.000000</td>\n",
              "      <td>1270.0</td>\n",
              "      <td>3</td>\n",
              "      <td>1</td>\n",
              "      <td>0</td>\n",
              "      <td>2484</td>\n",
              "    </tr>\n",
              "    <tr>\n",
              "      <th>39</th>\n",
              "      <td>1</td>\n",
              "      <td>1</td>\n",
              "      <td>3846</td>\n",
              "      <td>489</td>\n",
              "      <td>1</td>\n",
              "      <td>0</td>\n",
              "      <td>0</td>\n",
              "      <td>0</td>\n",
              "      <td>0</td>\n",
              "      <td>0</td>\n",
              "      <td>2015</td>\n",
              "      <td>6</td>\n",
              "      <td>22</td>\n",
              "      <td>8.255049</td>\n",
              "      <td>6.194405</td>\n",
              "      <td>1270.0</td>\n",
              "      <td>3</td>\n",
              "      <td>1</td>\n",
              "      <td>0</td>\n",
              "      <td>2485</td>\n",
              "    </tr>\n",
              "    <tr>\n",
              "      <th>38</th>\n",
              "      <td>1</td>\n",
              "      <td>2</td>\n",
              "      <td>3762</td>\n",
              "      <td>447</td>\n",
              "      <td>1</td>\n",
              "      <td>0</td>\n",
              "      <td>0</td>\n",
              "      <td>0</td>\n",
              "      <td>0</td>\n",
              "      <td>0</td>\n",
              "      <td>2015</td>\n",
              "      <td>6</td>\n",
              "      <td>23</td>\n",
              "      <td>8.232972</td>\n",
              "      <td>6.104793</td>\n",
              "      <td>1270.0</td>\n",
              "      <td>3</td>\n",
              "      <td>1</td>\n",
              "      <td>0</td>\n",
              "      <td>2486</td>\n",
              "    </tr>\n",
              "    <tr>\n",
              "      <th>37</th>\n",
              "      <td>1</td>\n",
              "      <td>3</td>\n",
              "      <td>3346</td>\n",
              "      <td>414</td>\n",
              "      <td>1</td>\n",
              "      <td>0</td>\n",
              "      <td>0</td>\n",
              "      <td>0</td>\n",
              "      <td>0</td>\n",
              "      <td>0</td>\n",
              "      <td>2015</td>\n",
              "      <td>6</td>\n",
              "      <td>24</td>\n",
              "      <td>8.115820</td>\n",
              "      <td>6.028279</td>\n",
              "      <td>1270.0</td>\n",
              "      <td>3</td>\n",
              "      <td>1</td>\n",
              "      <td>0</td>\n",
              "      <td>2487</td>\n",
              "    </tr>\n",
              "    <tr>\n",
              "      <th>...</th>\n",
              "      <td>...</td>\n",
              "      <td>...</td>\n",
              "      <td>...</td>\n",
              "      <td>...</td>\n",
              "      <td>...</td>\n",
              "      <td>...</td>\n",
              "      <td>...</td>\n",
              "      <td>...</td>\n",
              "      <td>...</td>\n",
              "      <td>...</td>\n",
              "      <td>...</td>\n",
              "      <td>...</td>\n",
              "      <td>...</td>\n",
              "      <td>...</td>\n",
              "      <td>...</td>\n",
              "      <td>...</td>\n",
              "      <td>...</td>\n",
              "      <td>...</td>\n",
              "      <td>...</td>\n",
              "      <td>...</td>\n",
              "    </tr>\n",
              "    <tr>\n",
              "      <th>1016271</th>\n",
              "      <td>1115</td>\n",
              "      <td>1</td>\n",
              "      <td>10712</td>\n",
              "      <td>608</td>\n",
              "      <td>1</td>\n",
              "      <td>1</td>\n",
              "      <td>1</td>\n",
              "      <td>0</td>\n",
              "      <td>0</td>\n",
              "      <td>0</td>\n",
              "      <td>2015</td>\n",
              "      <td>7</td>\n",
              "      <td>27</td>\n",
              "      <td>9.279213</td>\n",
              "      <td>6.411818</td>\n",
              "      <td>5350.0</td>\n",
              "      <td>4</td>\n",
              "      <td>3</td>\n",
              "      <td>0</td>\n",
              "      <td>0</td>\n",
              "    </tr>\n",
              "    <tr>\n",
              "      <th>1016270</th>\n",
              "      <td>1115</td>\n",
              "      <td>2</td>\n",
              "      <td>8093</td>\n",
              "      <td>500</td>\n",
              "      <td>1</td>\n",
              "      <td>1</td>\n",
              "      <td>1</td>\n",
              "      <td>0</td>\n",
              "      <td>0</td>\n",
              "      <td>0</td>\n",
              "      <td>2015</td>\n",
              "      <td>7</td>\n",
              "      <td>28</td>\n",
              "      <td>8.998878</td>\n",
              "      <td>6.216606</td>\n",
              "      <td>5350.0</td>\n",
              "      <td>4</td>\n",
              "      <td>3</td>\n",
              "      <td>0</td>\n",
              "      <td>0</td>\n",
              "    </tr>\n",
              "    <tr>\n",
              "      <th>1016269</th>\n",
              "      <td>1115</td>\n",
              "      <td>3</td>\n",
              "      <td>7661</td>\n",
              "      <td>473</td>\n",
              "      <td>1</td>\n",
              "      <td>1</td>\n",
              "      <td>1</td>\n",
              "      <td>0</td>\n",
              "      <td>0</td>\n",
              "      <td>0</td>\n",
              "      <td>2015</td>\n",
              "      <td>7</td>\n",
              "      <td>29</td>\n",
              "      <td>8.944028</td>\n",
              "      <td>6.161207</td>\n",
              "      <td>5350.0</td>\n",
              "      <td>4</td>\n",
              "      <td>3</td>\n",
              "      <td>0</td>\n",
              "      <td>0</td>\n",
              "    </tr>\n",
              "    <tr>\n",
              "      <th>1016268</th>\n",
              "      <td>1115</td>\n",
              "      <td>4</td>\n",
              "      <td>8405</td>\n",
              "      <td>502</td>\n",
              "      <td>1</td>\n",
              "      <td>1</td>\n",
              "      <td>1</td>\n",
              "      <td>0</td>\n",
              "      <td>0</td>\n",
              "      <td>0</td>\n",
              "      <td>2015</td>\n",
              "      <td>7</td>\n",
              "      <td>30</td>\n",
              "      <td>9.036701</td>\n",
              "      <td>6.220590</td>\n",
              "      <td>5350.0</td>\n",
              "      <td>4</td>\n",
              "      <td>3</td>\n",
              "      <td>0</td>\n",
              "      <td>0</td>\n",
              "    </tr>\n",
              "    <tr>\n",
              "      <th>1016267</th>\n",
              "      <td>1115</td>\n",
              "      <td>5</td>\n",
              "      <td>8680</td>\n",
              "      <td>538</td>\n",
              "      <td>1</td>\n",
              "      <td>1</td>\n",
              "      <td>1</td>\n",
              "      <td>0</td>\n",
              "      <td>0</td>\n",
              "      <td>0</td>\n",
              "      <td>2015</td>\n",
              "      <td>7</td>\n",
              "      <td>31</td>\n",
              "      <td>9.068892</td>\n",
              "      <td>6.289716</td>\n",
              "      <td>5350.0</td>\n",
              "      <td>4</td>\n",
              "      <td>3</td>\n",
              "      <td>0</td>\n",
              "      <td>0</td>\n",
              "    </tr>\n",
              "  </tbody>\n",
              "</table>\n",
              "<p>46830 rows × 20 columns</p>\n",
              "</div>"
            ],
            "text/plain": [
              "         Store  DayOfWeek  Sales  ...  Assortment_Level  Promo_cont  CompetitionTime\n",
              "41           1          6   4097  ...                 1           0             2483\n",
              "40           1          7      0  ...                 1           0             2484\n",
              "39           1          1   3846  ...                 1           0             2485\n",
              "38           1          2   3762  ...                 1           0             2486\n",
              "37           1          3   3346  ...                 1           0             2487\n",
              "...        ...        ...    ...  ...               ...         ...              ...\n",
              "1016271   1115          1  10712  ...                 3           0                0\n",
              "1016270   1115          2   8093  ...                 3           0                0\n",
              "1016269   1115          3   7661  ...                 3           0                0\n",
              "1016268   1115          4   8405  ...                 3           0                0\n",
              "1016267   1115          5   8680  ...                 3           0                0\n",
              "\n",
              "[46830 rows x 20 columns]"
            ]
          },
          "metadata": {
            "tags": []
          },
          "execution_count": 128
        }
      ]
    },
    {
      "cell_type": "markdown",
      "metadata": {
        "id": "np99FJOP_sTY"
      },
      "source": [
        "Now we can create a test dataset from generated data and predict sales values in log transform and compare it with our previous prediction. This comparison gives us the accuracy of our data generating function."
      ]
    },
    {
      "cell_type": "code",
      "metadata": {
        "id": "O8SkZfxy-6wB"
      },
      "source": [
        "# get test dataset for generated data\n",
        "X_test_gen = gen_df_test.drop(columns=['Date_time']).values\n",
        "y_test_gen = test_data_sorted['Sales_log_t'].values\n",
        "# scale the dataset to feed it in model\n",
        "X_test_gen = scaler.transform(X_test_gen)"
      ],
      "execution_count": null,
      "outputs": []
    },
    {
      "cell_type": "code",
      "metadata": {
        "id": "pjwgQaaXJI3f"
      },
      "source": [
        "# use stack model to predict the result\n",
        "y_pred_gen = stack_predict(X_test_gen)"
      ],
      "execution_count": null,
      "outputs": []
    },
    {
      "cell_type": "code",
      "metadata": {
        "colab": {
          "base_uri": "https://localhost:8080/"
        },
        "id": "b_efN0HEJts5",
        "outputId": "d3065b27-4410-41f0-9e02-a329eb918ded"
      },
      "source": [
        "# Evaluation metrics for Stack model\n",
        "evaluation_metrics(y_test_gen , y_pred_gen, len(independent_variables))"
      ],
      "execution_count": null,
      "outputs": [
        {
          "output_type": "stream",
          "text": [
            "Mean Squared Error : 2.75\n",
            "Root Mean Squared Error : 2\n",
            "Mean Absolute Error : 0.6\n",
            "Mean Absolute Percentage Error : 9.47 %\n",
            "R-Square : 0.71\n",
            "Adjusted R-Square :  0.71\n"
          ],
          "name": "stdout"
        }
      ]
    },
    {
      "cell_type": "code",
      "metadata": {
        "colab": {
          "base_uri": "https://localhost:8080/",
          "height": 374
        },
        "id": "IxGzoXY5Jts6",
        "outputId": "5a45765a-9312-4b65-8f72-24e6bb1d253c"
      },
      "source": [
        "# Plot first 80 observations between actual and predicted\n",
        "plt.figure(figsize=(16,6))\n",
        "plt.plot(y_test_gen[0:80])\n",
        "plt.plot(y_pred_gen[0:80])\n",
        "plt.legend(['Actual','Predicted'])\n",
        "plt.show()"
      ],
      "execution_count": null,
      "outputs": [
        {
          "output_type": "display_data",
          "data": {
            "image/png": "[encoded data removed]",
            "text/plain": [
              "<Figure size 1152x432 with 1 Axes>"
            ]
          },
          "metadata": {
            "tags": [],
            "needs_background": "light"
          }
        }
      ]
    },
    {
      "cell_type": "markdown",
      "metadata": {
        "id": "HCLEG4B0zLnJ"
      },
      "source": [
        "After checking generative function efficiency let's generate data for the next 6 weeks to predict sales for the problem statement."
      ]
    },
    {
      "cell_type": "code",
      "metadata": {
        "id": "8vyIDy30JlOY",
        "colab": {
          "base_uri": "https://localhost:8080/",
          "height": 444
        },
        "outputId": "6544fa30-c372-4ea7-94a2-299156509df9"
      },
      "source": [
        "data_advance = generate_date_for_six_week(last_date + timedelta(1))\n",
        "data_advance"
      ],
      "execution_count": null,
      "outputs": [
        {
          "output_type": "execute_result",
          "data": {
            "text/html": [
              "<div>\n",
              "<style scoped>\n",
              "    .dataframe tbody tr th:only-of-type {\n",
              "        vertical-align: middle;\n",
              "    }\n",
              "\n",
              "    .dataframe tbody tr th {\n",
              "        vertical-align: top;\n",
              "    }\n",
              "\n",
              "    .dataframe thead th {\n",
              "        text-align: right;\n",
              "    }\n",
              "</style>\n",
              "<table border=\"1\" class=\"dataframe\">\n",
              "  <thead>\n",
              "    <tr style=\"text-align: right;\">\n",
              "      <th></th>\n",
              "      <th>Store</th>\n",
              "      <th>Date_time</th>\n",
              "      <th>DayOfWeek</th>\n",
              "      <th>Open</th>\n",
              "      <th>Promo</th>\n",
              "      <th>SchoolHoliday</th>\n",
              "      <th>public_holiday</th>\n",
              "      <th>easter_holiday</th>\n",
              "      <th>christmas</th>\n",
              "      <th>Month</th>\n",
              "      <th>Day</th>\n",
              "      <th>CompetitionDistance</th>\n",
              "      <th>Store_Type</th>\n",
              "      <th>Assortment_Level</th>\n",
              "      <th>Promo_cont</th>\n",
              "      <th>CompetitionTime</th>\n",
              "    </tr>\n",
              "  </thead>\n",
              "  <tbody>\n",
              "    <tr>\n",
              "      <th>0</th>\n",
              "      <td>1</td>\n",
              "      <td>2015-08-01</td>\n",
              "      <td>6</td>\n",
              "      <td>1</td>\n",
              "      <td>0</td>\n",
              "      <td>1</td>\n",
              "      <td>0</td>\n",
              "      <td>0</td>\n",
              "      <td>0</td>\n",
              "      <td>8</td>\n",
              "      <td>1</td>\n",
              "      <td>1270.0</td>\n",
              "      <td>3</td>\n",
              "      <td>1</td>\n",
              "      <td>0</td>\n",
              "      <td>2306</td>\n",
              "    </tr>\n",
              "    <tr>\n",
              "      <th>1</th>\n",
              "      <td>1</td>\n",
              "      <td>2015-08-02</td>\n",
              "      <td>7</td>\n",
              "      <td>0</td>\n",
              "      <td>1</td>\n",
              "      <td>1</td>\n",
              "      <td>0</td>\n",
              "      <td>0</td>\n",
              "      <td>0</td>\n",
              "      <td>8</td>\n",
              "      <td>2</td>\n",
              "      <td>1270.0</td>\n",
              "      <td>3</td>\n",
              "      <td>1</td>\n",
              "      <td>0</td>\n",
              "      <td>2306</td>\n",
              "    </tr>\n",
              "    <tr>\n",
              "      <th>2</th>\n",
              "      <td>1</td>\n",
              "      <td>2015-08-03</td>\n",
              "      <td>1</td>\n",
              "      <td>1</td>\n",
              "      <td>1</td>\n",
              "      <td>0</td>\n",
              "      <td>0</td>\n",
              "      <td>0</td>\n",
              "      <td>0</td>\n",
              "      <td>8</td>\n",
              "      <td>3</td>\n",
              "      <td>1270.0</td>\n",
              "      <td>3</td>\n",
              "      <td>1</td>\n",
              "      <td>0</td>\n",
              "      <td>2306</td>\n",
              "    </tr>\n",
              "    <tr>\n",
              "      <th>3</th>\n",
              "      <td>1</td>\n",
              "      <td>2015-08-04</td>\n",
              "      <td>2</td>\n",
              "      <td>0</td>\n",
              "      <td>0</td>\n",
              "      <td>0</td>\n",
              "      <td>0</td>\n",
              "      <td>0</td>\n",
              "      <td>0</td>\n",
              "      <td>8</td>\n",
              "      <td>4</td>\n",
              "      <td>1270.0</td>\n",
              "      <td>3</td>\n",
              "      <td>1</td>\n",
              "      <td>0</td>\n",
              "      <td>2306</td>\n",
              "    </tr>\n",
              "    <tr>\n",
              "      <th>4</th>\n",
              "      <td>1</td>\n",
              "      <td>2015-08-05</td>\n",
              "      <td>3</td>\n",
              "      <td>1</td>\n",
              "      <td>0</td>\n",
              "      <td>1</td>\n",
              "      <td>0</td>\n",
              "      <td>0</td>\n",
              "      <td>0</td>\n",
              "      <td>8</td>\n",
              "      <td>5</td>\n",
              "      <td>1270.0</td>\n",
              "      <td>3</td>\n",
              "      <td>1</td>\n",
              "      <td>0</td>\n",
              "      <td>2306</td>\n",
              "    </tr>\n",
              "    <tr>\n",
              "      <th>...</th>\n",
              "      <td>...</td>\n",
              "      <td>...</td>\n",
              "      <td>...</td>\n",
              "      <td>...</td>\n",
              "      <td>...</td>\n",
              "      <td>...</td>\n",
              "      <td>...</td>\n",
              "      <td>...</td>\n",
              "      <td>...</td>\n",
              "      <td>...</td>\n",
              "      <td>...</td>\n",
              "      <td>...</td>\n",
              "      <td>...</td>\n",
              "      <td>...</td>\n",
              "      <td>...</td>\n",
              "      <td>...</td>\n",
              "    </tr>\n",
              "    <tr>\n",
              "      <th>46825</th>\n",
              "      <td>1115</td>\n",
              "      <td>2015-09-07</td>\n",
              "      <td>1</td>\n",
              "      <td>1</td>\n",
              "      <td>1</td>\n",
              "      <td>0</td>\n",
              "      <td>0</td>\n",
              "      <td>0</td>\n",
              "      <td>0</td>\n",
              "      <td>9</td>\n",
              "      <td>7</td>\n",
              "      <td>5350.0</td>\n",
              "      <td>4</td>\n",
              "      <td>3</td>\n",
              "      <td>1</td>\n",
              "      <td>0</td>\n",
              "    </tr>\n",
              "    <tr>\n",
              "      <th>46826</th>\n",
              "      <td>1115</td>\n",
              "      <td>2015-09-08</td>\n",
              "      <td>2</td>\n",
              "      <td>1</td>\n",
              "      <td>0</td>\n",
              "      <td>0</td>\n",
              "      <td>0</td>\n",
              "      <td>0</td>\n",
              "      <td>0</td>\n",
              "      <td>9</td>\n",
              "      <td>8</td>\n",
              "      <td>5350.0</td>\n",
              "      <td>4</td>\n",
              "      <td>3</td>\n",
              "      <td>1</td>\n",
              "      <td>0</td>\n",
              "    </tr>\n",
              "    <tr>\n",
              "      <th>46827</th>\n",
              "      <td>1115</td>\n",
              "      <td>2015-09-09</td>\n",
              "      <td>3</td>\n",
              "      <td>1</td>\n",
              "      <td>0</td>\n",
              "      <td>0</td>\n",
              "      <td>0</td>\n",
              "      <td>0</td>\n",
              "      <td>0</td>\n",
              "      <td>9</td>\n",
              "      <td>9</td>\n",
              "      <td>5350.0</td>\n",
              "      <td>4</td>\n",
              "      <td>3</td>\n",
              "      <td>1</td>\n",
              "      <td>0</td>\n",
              "    </tr>\n",
              "    <tr>\n",
              "      <th>46828</th>\n",
              "      <td>1115</td>\n",
              "      <td>2015-09-10</td>\n",
              "      <td>4</td>\n",
              "      <td>1</td>\n",
              "      <td>1</td>\n",
              "      <td>0</td>\n",
              "      <td>0</td>\n",
              "      <td>0</td>\n",
              "      <td>0</td>\n",
              "      <td>9</td>\n",
              "      <td>10</td>\n",
              "      <td>5350.0</td>\n",
              "      <td>4</td>\n",
              "      <td>3</td>\n",
              "      <td>1</td>\n",
              "      <td>0</td>\n",
              "    </tr>\n",
              "    <tr>\n",
              "      <th>46829</th>\n",
              "      <td>1115</td>\n",
              "      <td>2015-09-11</td>\n",
              "      <td>5</td>\n",
              "      <td>1</td>\n",
              "      <td>0</td>\n",
              "      <td>0</td>\n",
              "      <td>0</td>\n",
              "      <td>0</td>\n",
              "      <td>0</td>\n",
              "      <td>9</td>\n",
              "      <td>11</td>\n",
              "      <td>5350.0</td>\n",
              "      <td>4</td>\n",
              "      <td>3</td>\n",
              "      <td>1</td>\n",
              "      <td>0</td>\n",
              "    </tr>\n",
              "  </tbody>\n",
              "</table>\n",
              "<p>46830 rows × 16 columns</p>\n",
              "</div>"
            ],
            "text/plain": [
              "       Store   Date_time  ...  Promo_cont  CompetitionTime\n",
              "0          1  2015-08-01  ...           0             2306\n",
              "1          1  2015-08-02  ...           0             2306\n",
              "2          1  2015-08-03  ...           0             2306\n",
              "3          1  2015-08-04  ...           0             2306\n",
              "4          1  2015-08-05  ...           0             2306\n",
              "...      ...         ...  ...         ...              ...\n",
              "46825   1115  2015-09-07  ...           1                0\n",
              "46826   1115  2015-09-08  ...           1                0\n",
              "46827   1115  2015-09-09  ...           1                0\n",
              "46828   1115  2015-09-10  ...           1                0\n",
              "46829   1115  2015-09-11  ...           1                0\n",
              "\n",
              "[46830 rows x 16 columns]"
            ]
          },
          "metadata": {
            "tags": []
          },
          "execution_count": 136
        }
      ]
    },
    {
      "cell_type": "code",
      "metadata": {
        "id": "GsM9g9Vi1i1E"
      },
      "source": [
        "# get test dataset for generated data\n",
        "X_test_gen_adv = data_advance.drop(columns=['Date_time']).values\n",
        "# scale the dataset to feed it in model\n",
        "X_test_gen_adv = scaler.transform(X_test_gen_adv)"
      ],
      "execution_count": null,
      "outputs": []
    },
    {
      "cell_type": "code",
      "metadata": {
        "id": "LMIIMP_71AYx"
      },
      "source": [
        "# use stack model to predict the result\n",
        "y_pred_gen_adv = stack_predict(X_test_gen_adv)"
      ],
      "execution_count": null,
      "outputs": []
    },
    {
      "cell_type": "markdown",
      "metadata": {
        "id": "kf-yvbAR2Mz0"
      },
      "source": [
        "We got out predictions but they are in log transform state, we need to convert them into proper sales value."
      ]
    },
    {
      "cell_type": "code",
      "metadata": {
        "id": "zn435c272Gey",
        "colab": {
          "base_uri": "https://localhost:8080/"
        },
        "outputId": "c8904b1c-7dfa-4b83-bbdd-84dbddc38cc6"
      },
      "source": [
        "# apply exponent function to convert log values to original Sales value\n",
        "final_pred = np.exp(y_pred_gen_adv)\n",
        "# total of Sales for next 6 week\n",
        "total = int(sum(final_pred))\n",
        "print('Total of Predicted Sales in next 6 week will be: ' + str(total))"
      ],
      "execution_count": null,
      "outputs": [
        {
          "output_type": "stream",
          "text": [
            "Total of Predicted Sales in next 6 week will be: 250776406\n"
          ],
          "name": "stdout"
        }
      ]
    },
    {
      "cell_type": "code",
      "metadata": {
        "id": "i4wOHfYN_IZv",
        "colab": {
          "base_uri": "https://localhost:8080/",
          "height": 226
        },
        "outputId": "027e0f57-bb00-4f5d-c7c2-558179b49bbb"
      },
      "source": [
        "data_advance['Sales'] = final_pred.astype(np.int)\n",
        "data_advance.head()"
      ],
      "execution_count": null,
      "outputs": [
        {
          "output_type": "execute_result",
          "data": {
            "text/html": [
              "<div>\n",
              "<style scoped>\n",
              "    .dataframe tbody tr th:only-of-type {\n",
              "        vertical-align: middle;\n",
              "    }\n",
              "\n",
              "    .dataframe tbody tr th {\n",
              "        vertical-align: top;\n",
              "    }\n",
              "\n",
              "    .dataframe thead th {\n",
              "        text-align: right;\n",
              "    }\n",
              "</style>\n",
              "<table border=\"1\" class=\"dataframe\">\n",
              "  <thead>\n",
              "    <tr style=\"text-align: right;\">\n",
              "      <th></th>\n",
              "      <th>Store</th>\n",
              "      <th>Date_time</th>\n",
              "      <th>DayOfWeek</th>\n",
              "      <th>Open</th>\n",
              "      <th>Promo</th>\n",
              "      <th>SchoolHoliday</th>\n",
              "      <th>public_holiday</th>\n",
              "      <th>easter_holiday</th>\n",
              "      <th>christmas</th>\n",
              "      <th>Month</th>\n",
              "      <th>Day</th>\n",
              "      <th>CompetitionDistance</th>\n",
              "      <th>Store_Type</th>\n",
              "      <th>Assortment_Level</th>\n",
              "      <th>Promo_cont</th>\n",
              "      <th>CompetitionTime</th>\n",
              "      <th>Sales</th>\n",
              "    </tr>\n",
              "  </thead>\n",
              "  <tbody>\n",
              "    <tr>\n",
              "      <th>0</th>\n",
              "      <td>1</td>\n",
              "      <td>2015-08-01</td>\n",
              "      <td>6</td>\n",
              "      <td>1</td>\n",
              "      <td>0</td>\n",
              "      <td>1</td>\n",
              "      <td>0</td>\n",
              "      <td>0</td>\n",
              "      <td>0</td>\n",
              "      <td>8</td>\n",
              "      <td>1</td>\n",
              "      <td>1270.0</td>\n",
              "      <td>3</td>\n",
              "      <td>1</td>\n",
              "      <td>0</td>\n",
              "      <td>2306</td>\n",
              "      <td>5326</td>\n",
              "    </tr>\n",
              "    <tr>\n",
              "      <th>1</th>\n",
              "      <td>1</td>\n",
              "      <td>2015-08-02</td>\n",
              "      <td>7</td>\n",
              "      <td>0</td>\n",
              "      <td>1</td>\n",
              "      <td>1</td>\n",
              "      <td>0</td>\n",
              "      <td>0</td>\n",
              "      <td>0</td>\n",
              "      <td>8</td>\n",
              "      <td>2</td>\n",
              "      <td>1270.0</td>\n",
              "      <td>3</td>\n",
              "      <td>1</td>\n",
              "      <td>0</td>\n",
              "      <td>2306</td>\n",
              "      <td>1</td>\n",
              "    </tr>\n",
              "    <tr>\n",
              "      <th>2</th>\n",
              "      <td>1</td>\n",
              "      <td>2015-08-03</td>\n",
              "      <td>1</td>\n",
              "      <td>1</td>\n",
              "      <td>1</td>\n",
              "      <td>0</td>\n",
              "      <td>0</td>\n",
              "      <td>0</td>\n",
              "      <td>0</td>\n",
              "      <td>8</td>\n",
              "      <td>3</td>\n",
              "      <td>1270.0</td>\n",
              "      <td>3</td>\n",
              "      <td>1</td>\n",
              "      <td>0</td>\n",
              "      <td>2306</td>\n",
              "      <td>7918</td>\n",
              "    </tr>\n",
              "    <tr>\n",
              "      <th>3</th>\n",
              "      <td>1</td>\n",
              "      <td>2015-08-04</td>\n",
              "      <td>2</td>\n",
              "      <td>0</td>\n",
              "      <td>0</td>\n",
              "      <td>0</td>\n",
              "      <td>0</td>\n",
              "      <td>0</td>\n",
              "      <td>0</td>\n",
              "      <td>8</td>\n",
              "      <td>4</td>\n",
              "      <td>1270.0</td>\n",
              "      <td>3</td>\n",
              "      <td>1</td>\n",
              "      <td>0</td>\n",
              "      <td>2306</td>\n",
              "      <td>1</td>\n",
              "    </tr>\n",
              "    <tr>\n",
              "      <th>4</th>\n",
              "      <td>1</td>\n",
              "      <td>2015-08-05</td>\n",
              "      <td>3</td>\n",
              "      <td>1</td>\n",
              "      <td>0</td>\n",
              "      <td>1</td>\n",
              "      <td>0</td>\n",
              "      <td>0</td>\n",
              "      <td>0</td>\n",
              "      <td>8</td>\n",
              "      <td>5</td>\n",
              "      <td>1270.0</td>\n",
              "      <td>3</td>\n",
              "      <td>1</td>\n",
              "      <td>0</td>\n",
              "      <td>2306</td>\n",
              "      <td>5649</td>\n",
              "    </tr>\n",
              "  </tbody>\n",
              "</table>\n",
              "</div>"
            ],
            "text/plain": [
              "   Store   Date_time  DayOfWeek  ...  Promo_cont  CompetitionTime  Sales\n",
              "0      1  2015-08-01          6  ...           0             2306   5326\n",
              "1      1  2015-08-02          7  ...           0             2306      1\n",
              "2      1  2015-08-03          1  ...           0             2306   7918\n",
              "3      1  2015-08-04          2  ...           0             2306      1\n",
              "4      1  2015-08-05          3  ...           0             2306   5649\n",
              "\n",
              "[5 rows x 17 columns]"
            ]
          },
          "metadata": {
            "tags": []
          },
          "execution_count": 140
        }
      ]
    }
  ]
}