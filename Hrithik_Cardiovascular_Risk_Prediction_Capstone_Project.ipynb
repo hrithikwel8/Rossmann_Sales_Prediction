{
  "nbformat": 4,
  "nbformat_minor": 0,
  "metadata": {
    "colab": {
      "name": "Hrithik_Cardiovascular Risk Prediction - Capstone Project.ipynb",
      "provenance": [],
      "collapsed_sections": [],
      "include_colab_link": true
    },
    "kernelspec": {
      "name": "python3",
      "display_name": "Python 3"
    },
    "language_info": {
      "name": "python"
    }
  },
  "cells": [
    {
      "cell_type": "markdown",
      "metadata": {
        "id": "view-in-github",
        "colab_type": "text"
      },
      "source": [
        "<a href=\"https://colab.research.google.com/github/hrithikwel8/Rossmann_Sales_Prediction/blob/main/Hrithik_Cardiovascular_Risk_Prediction_Capstone_Project.ipynb\" target=\"_parent\"><img src=\"https://colab.research.google.com/assets/colab-badge.svg\" alt=\"Open In Colab\"/></a>"
      ]
    },
    {
      "cell_type": "markdown",
      "metadata": {
        "id": "EuWN0uckl3Bk"
      },
      "source": [
        "**PROBLEM STATEMENT**"
      ]
    },
    {
      "cell_type": "markdown",
      "metadata": {
        "id": "i--wGbeRk_6a"
      },
      "source": [
        "The dataset is from an ongoing cardiovascular study on residents of the town of Framingham, Massachusetts.\n",
        "The classification goal is to predict whether the patient has a 10-year risk of future coronary heart disease (CHD).\n",
        "The dataset provides the patients’ information. It includes over 4,000 records and 15 attributes. \n",
        "\n",
        "**Variables**\n",
        "\n",
        "Each attribute is a potential risk factor. There are both demographic, behavioral, and medical risk factors. \n",
        "\n",
        "**Data Description**\n",
        "\n",
        "**Demographic:**\n",
        "\n",
        "• Sex: male or female(\"M\" or \"F\") \n",
        "\n",
        "• Age: Age of the patient;(Continuous - Although the recorded ages have been truncated to whole numbers, the concept of age is continuous)\n",
        "\n",
        "**Behavioral**\n",
        "\n",
        "• is_smoking: whether or not the patient is a current smoker (\"YES\" or \"NO\") \n",
        "\n",
        "• Cigs Per Day: the number of cigarettes that the person smoked on average in one day.(can be considered continuous as one can have any number of cigarettes, even half a cigarette.)\n",
        "\n",
        "**Medical(History)**\n",
        "\n",
        "• BP Meds: whether or not the patient was on blood pressure medication (Nominal) \n",
        "\n",
        "• Prevalent Stroke: whether or not the patient had previously had a stroke (Nominal) \n",
        "\n",
        "• Prevalent Hyp: whether or not the patient was hypertensive (Nominal) \n",
        "\n",
        "• Diabetes: whether or not the patient had diabetes (Nominal) \n",
        "Medical(current) \n",
        "\n",
        "• Tot Chol: total cholesterol level (Continuous) \n",
        "\n",
        "• Sys BP: systolic blood pressure (Continuous)\n",
        "\n",
        "• Dia BP: diastolic blood pressure (Continuous) \n",
        "\n",
        "• BMI: Body Mass Index (Continuous)\n",
        "\n",
        "• Heart Rate: heart rate (Continuous - In medical research, variables such as heart rate though in fact discrete, yet are considered continuous because of large number of possible values.) \n",
        "\n",
        "• Glucose: glucose level (Continuous) \n",
        "Predict variable (desired target) \n",
        "\n",
        "• 10-year risk of coronary heart disease CHD(binary: “1”, means “Yes”, “0” means “No”) - DV\n"
      ]
    },
    {
      "cell_type": "code",
      "metadata": {
        "id": "gR2NCEQIhqqU"
      },
      "source": [
        "#Importing Libraries\n",
        "\n",
        "import numpy as np\n",
        "import pandas as pd\n",
        "import matplotlib.pyplot as plt\n",
        "import seaborn as sns\n",
        "\n",
        "from sklearn.model_selection import train_test_split\n",
        "from sklearn.model_selection import GridSearchCV\n",
        "from sklearn.model_selection import RandomizedSearchCV\n",
        "from sklearn.preprocessing  import OneHotEncoder\n",
        "from sklearn import ensemble\n",
        "\n",
        "import warnings\n",
        "warnings.filterwarnings('ignore')\n",
        "%matplotlib inline"
      ],
      "execution_count": 1,
      "outputs": []
    },
    {
      "cell_type": "markdown",
      "metadata": {
        "id": "RroLBzf0kt1Y"
      },
      "source": [
        "#Reading the data"
      ]
    },
    {
      "cell_type": "code",
      "metadata": {
        "colab": {
          "base_uri": "https://localhost:8080/"
        },
        "id": "DNiTaEeax4fe",
        "outputId": "a14c2dbf-521b-47c1-c142-34ffcbb0d7b2"
      },
      "source": [
        "from google.colab import drive\n",
        "drive.mount('/content/drive')"
      ],
      "execution_count": 4,
      "outputs": [
        {
          "output_type": "stream",
          "text": [
            "Mounted at /content/drive\n"
          ],
          "name": "stdout"
        }
      ]
    },
    {
      "cell_type": "code",
      "metadata": {
        "id": "iKsqz6sEiZq6"
      },
      "source": [
        "file_path = (\"/content/drive/MyDrive/Cardiovascular Risk Prediction - Hrithik Chourasia/data_cardiovascular_risk.csv\")"
      ],
      "execution_count": 5,
      "outputs": []
    },
    {
      "cell_type": "code",
      "metadata": {
        "id": "QnPuQFq2inn5"
      },
      "source": [
        "cvs_df = pd.read_csv(file_path , index_col = \"id\")"
      ],
      "execution_count": 8,
      "outputs": []
    },
    {
      "cell_type": "markdown",
      "metadata": {
        "id": "i3MmrEUOpwql"
      },
      "source": [
        "#1. Explorartory Data Analysis"
      ]
    },
    {
      "cell_type": "code",
      "metadata": {
        "colab": {
          "base_uri": "https://localhost:8080/",
          "height": 225
        },
        "id": "H04jla35i3OP",
        "outputId": "765e2591-f918-4226-d836-3f911c1555fd"
      },
      "source": [
        "#Checking the first five observations\n",
        "cvs_df.head()"
      ],
      "execution_count": 9,
      "outputs": [
        {
          "output_type": "execute_result",
          "data": {
            "text/html": [
              "<div>\n",
              "<style scoped>\n",
              "    .dataframe tbody tr th:only-of-type {\n",
              "        vertical-align: middle;\n",
              "    }\n",
              "\n",
              "    .dataframe tbody tr th {\n",
              "        vertical-align: top;\n",
              "    }\n",
              "\n",
              "    .dataframe thead th {\n",
              "        text-align: right;\n",
              "    }\n",
              "</style>\n",
              "<table border=\"1\" class=\"dataframe\">\n",
              "  <thead>\n",
              "    <tr style=\"text-align: right;\">\n",
              "      <th></th>\n",
              "      <th>age</th>\n",
              "      <th>education</th>\n",
              "      <th>sex</th>\n",
              "      <th>is_smoking</th>\n",
              "      <th>cigsPerDay</th>\n",
              "      <th>BPMeds</th>\n",
              "      <th>prevalentStroke</th>\n",
              "      <th>prevalentHyp</th>\n",
              "      <th>diabetes</th>\n",
              "      <th>totChol</th>\n",
              "      <th>sysBP</th>\n",
              "      <th>diaBP</th>\n",
              "      <th>BMI</th>\n",
              "      <th>heartRate</th>\n",
              "      <th>glucose</th>\n",
              "      <th>TenYearCHD</th>\n",
              "    </tr>\n",
              "    <tr>\n",
              "      <th>id</th>\n",
              "      <th></th>\n",
              "      <th></th>\n",
              "      <th></th>\n",
              "      <th></th>\n",
              "      <th></th>\n",
              "      <th></th>\n",
              "      <th></th>\n",
              "      <th></th>\n",
              "      <th></th>\n",
              "      <th></th>\n",
              "      <th></th>\n",
              "      <th></th>\n",
              "      <th></th>\n",
              "      <th></th>\n",
              "      <th></th>\n",
              "      <th></th>\n",
              "    </tr>\n",
              "  </thead>\n",
              "  <tbody>\n",
              "    <tr>\n",
              "      <th>0</th>\n",
              "      <td>64</td>\n",
              "      <td>2.0</td>\n",
              "      <td>F</td>\n",
              "      <td>YES</td>\n",
              "      <td>3.0</td>\n",
              "      <td>0.0</td>\n",
              "      <td>0</td>\n",
              "      <td>0</td>\n",
              "      <td>0</td>\n",
              "      <td>221.0</td>\n",
              "      <td>148.0</td>\n",
              "      <td>85.0</td>\n",
              "      <td>NaN</td>\n",
              "      <td>90.0</td>\n",
              "      <td>80.0</td>\n",
              "      <td>1</td>\n",
              "    </tr>\n",
              "    <tr>\n",
              "      <th>1</th>\n",
              "      <td>36</td>\n",
              "      <td>4.0</td>\n",
              "      <td>M</td>\n",
              "      <td>NO</td>\n",
              "      <td>0.0</td>\n",
              "      <td>0.0</td>\n",
              "      <td>0</td>\n",
              "      <td>1</td>\n",
              "      <td>0</td>\n",
              "      <td>212.0</td>\n",
              "      <td>168.0</td>\n",
              "      <td>98.0</td>\n",
              "      <td>29.77</td>\n",
              "      <td>72.0</td>\n",
              "      <td>75.0</td>\n",
              "      <td>0</td>\n",
              "    </tr>\n",
              "    <tr>\n",
              "      <th>2</th>\n",
              "      <td>46</td>\n",
              "      <td>1.0</td>\n",
              "      <td>F</td>\n",
              "      <td>YES</td>\n",
              "      <td>10.0</td>\n",
              "      <td>0.0</td>\n",
              "      <td>0</td>\n",
              "      <td>0</td>\n",
              "      <td>0</td>\n",
              "      <td>250.0</td>\n",
              "      <td>116.0</td>\n",
              "      <td>71.0</td>\n",
              "      <td>20.35</td>\n",
              "      <td>88.0</td>\n",
              "      <td>94.0</td>\n",
              "      <td>0</td>\n",
              "    </tr>\n",
              "    <tr>\n",
              "      <th>3</th>\n",
              "      <td>50</td>\n",
              "      <td>1.0</td>\n",
              "      <td>M</td>\n",
              "      <td>YES</td>\n",
              "      <td>20.0</td>\n",
              "      <td>0.0</td>\n",
              "      <td>0</td>\n",
              "      <td>1</td>\n",
              "      <td>0</td>\n",
              "      <td>233.0</td>\n",
              "      <td>158.0</td>\n",
              "      <td>88.0</td>\n",
              "      <td>28.26</td>\n",
              "      <td>68.0</td>\n",
              "      <td>94.0</td>\n",
              "      <td>1</td>\n",
              "    </tr>\n",
              "    <tr>\n",
              "      <th>4</th>\n",
              "      <td>64</td>\n",
              "      <td>1.0</td>\n",
              "      <td>F</td>\n",
              "      <td>YES</td>\n",
              "      <td>30.0</td>\n",
              "      <td>0.0</td>\n",
              "      <td>0</td>\n",
              "      <td>0</td>\n",
              "      <td>0</td>\n",
              "      <td>241.0</td>\n",
              "      <td>136.5</td>\n",
              "      <td>85.0</td>\n",
              "      <td>26.42</td>\n",
              "      <td>70.0</td>\n",
              "      <td>77.0</td>\n",
              "      <td>0</td>\n",
              "    </tr>\n",
              "  </tbody>\n",
              "</table>\n",
              "</div>"
            ],
            "text/plain": [
              "    age  education sex is_smoking  ...    BMI  heartRate  glucose  TenYearCHD\n",
              "id                                 ...                                       \n",
              "0    64        2.0   F        YES  ...    NaN       90.0     80.0           1\n",
              "1    36        4.0   M         NO  ...  29.77       72.0     75.0           0\n",
              "2    46        1.0   F        YES  ...  20.35       88.0     94.0           0\n",
              "3    50        1.0   M        YES  ...  28.26       68.0     94.0           1\n",
              "4    64        1.0   F        YES  ...  26.42       70.0     77.0           0\n",
              "\n",
              "[5 rows x 16 columns]"
            ]
          },
          "metadata": {
            "tags": []
          },
          "execution_count": 9
        }
      ]
    },
    {
      "cell_type": "code",
      "metadata": {
        "colab": {
          "base_uri": "https://localhost:8080/",
          "height": 225
        },
        "id": "6uMXtteSjIqD",
        "outputId": "56264190-3c83-4748-f820-af1c75ee5e98"
      },
      "source": [
        "#Checking the bottom five observations\n",
        "cvs_df.tail()"
      ],
      "execution_count": 10,
      "outputs": [
        {
          "output_type": "execute_result",
          "data": {
            "text/html": [
              "<div>\n",
              "<style scoped>\n",
              "    .dataframe tbody tr th:only-of-type {\n",
              "        vertical-align: middle;\n",
              "    }\n",
              "\n",
              "    .dataframe tbody tr th {\n",
              "        vertical-align: top;\n",
              "    }\n",
              "\n",
              "    .dataframe thead th {\n",
              "        text-align: right;\n",
              "    }\n",
              "</style>\n",
              "<table border=\"1\" class=\"dataframe\">\n",
              "  <thead>\n",
              "    <tr style=\"text-align: right;\">\n",
              "      <th></th>\n",
              "      <th>age</th>\n",
              "      <th>education</th>\n",
              "      <th>sex</th>\n",
              "      <th>is_smoking</th>\n",
              "      <th>cigsPerDay</th>\n",
              "      <th>BPMeds</th>\n",
              "      <th>prevalentStroke</th>\n",
              "      <th>prevalentHyp</th>\n",
              "      <th>diabetes</th>\n",
              "      <th>totChol</th>\n",
              "      <th>sysBP</th>\n",
              "      <th>diaBP</th>\n",
              "      <th>BMI</th>\n",
              "      <th>heartRate</th>\n",
              "      <th>glucose</th>\n",
              "      <th>TenYearCHD</th>\n",
              "    </tr>\n",
              "    <tr>\n",
              "      <th>id</th>\n",
              "      <th></th>\n",
              "      <th></th>\n",
              "      <th></th>\n",
              "      <th></th>\n",
              "      <th></th>\n",
              "      <th></th>\n",
              "      <th></th>\n",
              "      <th></th>\n",
              "      <th></th>\n",
              "      <th></th>\n",
              "      <th></th>\n",
              "      <th></th>\n",
              "      <th></th>\n",
              "      <th></th>\n",
              "      <th></th>\n",
              "      <th></th>\n",
              "    </tr>\n",
              "  </thead>\n",
              "  <tbody>\n",
              "    <tr>\n",
              "      <th>3385</th>\n",
              "      <td>60</td>\n",
              "      <td>1.0</td>\n",
              "      <td>F</td>\n",
              "      <td>NO</td>\n",
              "      <td>0.0</td>\n",
              "      <td>0.0</td>\n",
              "      <td>0</td>\n",
              "      <td>0</td>\n",
              "      <td>0</td>\n",
              "      <td>261.0</td>\n",
              "      <td>123.5</td>\n",
              "      <td>79.0</td>\n",
              "      <td>29.28</td>\n",
              "      <td>70.0</td>\n",
              "      <td>103.0</td>\n",
              "      <td>0</td>\n",
              "    </tr>\n",
              "    <tr>\n",
              "      <th>3386</th>\n",
              "      <td>46</td>\n",
              "      <td>1.0</td>\n",
              "      <td>F</td>\n",
              "      <td>NO</td>\n",
              "      <td>0.0</td>\n",
              "      <td>0.0</td>\n",
              "      <td>0</td>\n",
              "      <td>0</td>\n",
              "      <td>0</td>\n",
              "      <td>199.0</td>\n",
              "      <td>102.0</td>\n",
              "      <td>56.0</td>\n",
              "      <td>21.96</td>\n",
              "      <td>80.0</td>\n",
              "      <td>84.0</td>\n",
              "      <td>0</td>\n",
              "    </tr>\n",
              "    <tr>\n",
              "      <th>3387</th>\n",
              "      <td>44</td>\n",
              "      <td>3.0</td>\n",
              "      <td>M</td>\n",
              "      <td>YES</td>\n",
              "      <td>3.0</td>\n",
              "      <td>0.0</td>\n",
              "      <td>0</td>\n",
              "      <td>1</td>\n",
              "      <td>0</td>\n",
              "      <td>352.0</td>\n",
              "      <td>164.0</td>\n",
              "      <td>119.0</td>\n",
              "      <td>28.92</td>\n",
              "      <td>73.0</td>\n",
              "      <td>72.0</td>\n",
              "      <td>1</td>\n",
              "    </tr>\n",
              "    <tr>\n",
              "      <th>3388</th>\n",
              "      <td>60</td>\n",
              "      <td>1.0</td>\n",
              "      <td>M</td>\n",
              "      <td>NO</td>\n",
              "      <td>0.0</td>\n",
              "      <td>NaN</td>\n",
              "      <td>0</td>\n",
              "      <td>1</td>\n",
              "      <td>0</td>\n",
              "      <td>191.0</td>\n",
              "      <td>167.0</td>\n",
              "      <td>105.0</td>\n",
              "      <td>23.01</td>\n",
              "      <td>80.0</td>\n",
              "      <td>85.0</td>\n",
              "      <td>0</td>\n",
              "    </tr>\n",
              "    <tr>\n",
              "      <th>3389</th>\n",
              "      <td>54</td>\n",
              "      <td>3.0</td>\n",
              "      <td>F</td>\n",
              "      <td>NO</td>\n",
              "      <td>0.0</td>\n",
              "      <td>0.0</td>\n",
              "      <td>0</td>\n",
              "      <td>0</td>\n",
              "      <td>0</td>\n",
              "      <td>288.0</td>\n",
              "      <td>124.0</td>\n",
              "      <td>77.0</td>\n",
              "      <td>29.88</td>\n",
              "      <td>79.0</td>\n",
              "      <td>92.0</td>\n",
              "      <td>0</td>\n",
              "    </tr>\n",
              "  </tbody>\n",
              "</table>\n",
              "</div>"
            ],
            "text/plain": [
              "      age  education sex is_smoking  ...    BMI  heartRate  glucose  TenYearCHD\n",
              "id                                   ...                                       \n",
              "3385   60        1.0   F         NO  ...  29.28       70.0    103.0           0\n",
              "3386   46        1.0   F         NO  ...  21.96       80.0     84.0           0\n",
              "3387   44        3.0   M        YES  ...  28.92       73.0     72.0           1\n",
              "3388   60        1.0   M         NO  ...  23.01       80.0     85.0           0\n",
              "3389   54        3.0   F         NO  ...  29.88       79.0     92.0           0\n",
              "\n",
              "[5 rows x 16 columns]"
            ]
          },
          "metadata": {
            "tags": []
          },
          "execution_count": 10
        }
      ]
    },
    {
      "cell_type": "code",
      "metadata": {
        "colab": {
          "base_uri": "https://localhost:8080/"
        },
        "id": "5QWZTenEjbqp",
        "outputId": "2b34ffe9-1c05-4366-82c8-ff7e9aaebac0"
      },
      "source": [
        "#Checking the shape of our dataset\n",
        "cvs_df.shape"
      ],
      "execution_count": 11,
      "outputs": [
        {
          "output_type": "execute_result",
          "data": {
            "text/plain": [
              "(3390, 16)"
            ]
          },
          "metadata": {
            "tags": []
          },
          "execution_count": 11
        }
      ]
    },
    {
      "cell_type": "code",
      "metadata": {
        "colab": {
          "base_uri": "https://localhost:8080/"
        },
        "id": "_Ib9km0mjewL",
        "outputId": "f2095a32-5f03-4af0-8b2e-230a33d06a69"
      },
      "source": [
        "#Looking at the info of our dataset\n",
        "cvs_df.info()"
      ],
      "execution_count": 12,
      "outputs": [
        {
          "output_type": "stream",
          "text": [
            "<class 'pandas.core.frame.DataFrame'>\n",
            "Int64Index: 3390 entries, 0 to 3389\n",
            "Data columns (total 16 columns):\n",
            " #   Column           Non-Null Count  Dtype  \n",
            "---  ------           --------------  -----  \n",
            " 0   age              3390 non-null   int64  \n",
            " 1   education        3303 non-null   float64\n",
            " 2   sex              3390 non-null   object \n",
            " 3   is_smoking       3390 non-null   object \n",
            " 4   cigsPerDay       3368 non-null   float64\n",
            " 5   BPMeds           3346 non-null   float64\n",
            " 6   prevalentStroke  3390 non-null   int64  \n",
            " 7   prevalentHyp     3390 non-null   int64  \n",
            " 8   diabetes         3390 non-null   int64  \n",
            " 9   totChol          3352 non-null   float64\n",
            " 10  sysBP            3390 non-null   float64\n",
            " 11  diaBP            3390 non-null   float64\n",
            " 12  BMI              3376 non-null   float64\n",
            " 13  heartRate        3389 non-null   float64\n",
            " 14  glucose          3086 non-null   float64\n",
            " 15  TenYearCHD       3390 non-null   int64  \n",
            "dtypes: float64(9), int64(5), object(2)\n",
            "memory usage: 450.2+ KB\n"
          ],
          "name": "stdout"
        }
      ]
    },
    {
      "cell_type": "code",
      "metadata": {
        "colab": {
          "base_uri": "https://localhost:8080/",
          "height": 393
        },
        "id": "8WH3FwWJjhzL",
        "outputId": "e4a28087-d2b6-4c95-e812-6855d85b3330"
      },
      "source": [
        "#Looking up for the detailed description of our dataset.\n",
        "cvs_df.describe(include='all')"
      ],
      "execution_count": 13,
      "outputs": [
        {
          "output_type": "execute_result",
          "data": {
            "text/html": [
              "<div>\n",
              "<style scoped>\n",
              "    .dataframe tbody tr th:only-of-type {\n",
              "        vertical-align: middle;\n",
              "    }\n",
              "\n",
              "    .dataframe tbody tr th {\n",
              "        vertical-align: top;\n",
              "    }\n",
              "\n",
              "    .dataframe thead th {\n",
              "        text-align: right;\n",
              "    }\n",
              "</style>\n",
              "<table border=\"1\" class=\"dataframe\">\n",
              "  <thead>\n",
              "    <tr style=\"text-align: right;\">\n",
              "      <th></th>\n",
              "      <th>age</th>\n",
              "      <th>education</th>\n",
              "      <th>sex</th>\n",
              "      <th>is_smoking</th>\n",
              "      <th>cigsPerDay</th>\n",
              "      <th>BPMeds</th>\n",
              "      <th>prevalentStroke</th>\n",
              "      <th>prevalentHyp</th>\n",
              "      <th>diabetes</th>\n",
              "      <th>totChol</th>\n",
              "      <th>sysBP</th>\n",
              "      <th>diaBP</th>\n",
              "      <th>BMI</th>\n",
              "      <th>heartRate</th>\n",
              "      <th>glucose</th>\n",
              "      <th>TenYearCHD</th>\n",
              "    </tr>\n",
              "  </thead>\n",
              "  <tbody>\n",
              "    <tr>\n",
              "      <th>count</th>\n",
              "      <td>3390.000000</td>\n",
              "      <td>3303.000000</td>\n",
              "      <td>3390</td>\n",
              "      <td>3390</td>\n",
              "      <td>3368.000000</td>\n",
              "      <td>3346.000000</td>\n",
              "      <td>3390.000000</td>\n",
              "      <td>3390.000000</td>\n",
              "      <td>3390.000000</td>\n",
              "      <td>3352.000000</td>\n",
              "      <td>3390.00000</td>\n",
              "      <td>3390.000000</td>\n",
              "      <td>3376.000000</td>\n",
              "      <td>3389.000000</td>\n",
              "      <td>3086.000000</td>\n",
              "      <td>3390.000000</td>\n",
              "    </tr>\n",
              "    <tr>\n",
              "      <th>unique</th>\n",
              "      <td>NaN</td>\n",
              "      <td>NaN</td>\n",
              "      <td>2</td>\n",
              "      <td>2</td>\n",
              "      <td>NaN</td>\n",
              "      <td>NaN</td>\n",
              "      <td>NaN</td>\n",
              "      <td>NaN</td>\n",
              "      <td>NaN</td>\n",
              "      <td>NaN</td>\n",
              "      <td>NaN</td>\n",
              "      <td>NaN</td>\n",
              "      <td>NaN</td>\n",
              "      <td>NaN</td>\n",
              "      <td>NaN</td>\n",
              "      <td>NaN</td>\n",
              "    </tr>\n",
              "    <tr>\n",
              "      <th>top</th>\n",
              "      <td>NaN</td>\n",
              "      <td>NaN</td>\n",
              "      <td>F</td>\n",
              "      <td>NO</td>\n",
              "      <td>NaN</td>\n",
              "      <td>NaN</td>\n",
              "      <td>NaN</td>\n",
              "      <td>NaN</td>\n",
              "      <td>NaN</td>\n",
              "      <td>NaN</td>\n",
              "      <td>NaN</td>\n",
              "      <td>NaN</td>\n",
              "      <td>NaN</td>\n",
              "      <td>NaN</td>\n",
              "      <td>NaN</td>\n",
              "      <td>NaN</td>\n",
              "    </tr>\n",
              "    <tr>\n",
              "      <th>freq</th>\n",
              "      <td>NaN</td>\n",
              "      <td>NaN</td>\n",
              "      <td>1923</td>\n",
              "      <td>1703</td>\n",
              "      <td>NaN</td>\n",
              "      <td>NaN</td>\n",
              "      <td>NaN</td>\n",
              "      <td>NaN</td>\n",
              "      <td>NaN</td>\n",
              "      <td>NaN</td>\n",
              "      <td>NaN</td>\n",
              "      <td>NaN</td>\n",
              "      <td>NaN</td>\n",
              "      <td>NaN</td>\n",
              "      <td>NaN</td>\n",
              "      <td>NaN</td>\n",
              "    </tr>\n",
              "    <tr>\n",
              "      <th>mean</th>\n",
              "      <td>49.542183</td>\n",
              "      <td>1.970936</td>\n",
              "      <td>NaN</td>\n",
              "      <td>NaN</td>\n",
              "      <td>9.069477</td>\n",
              "      <td>0.029886</td>\n",
              "      <td>0.006490</td>\n",
              "      <td>0.315339</td>\n",
              "      <td>0.025664</td>\n",
              "      <td>237.074284</td>\n",
              "      <td>132.60118</td>\n",
              "      <td>82.883038</td>\n",
              "      <td>25.794964</td>\n",
              "      <td>75.977279</td>\n",
              "      <td>82.086520</td>\n",
              "      <td>0.150737</td>\n",
              "    </tr>\n",
              "    <tr>\n",
              "      <th>std</th>\n",
              "      <td>8.592878</td>\n",
              "      <td>1.019081</td>\n",
              "      <td>NaN</td>\n",
              "      <td>NaN</td>\n",
              "      <td>11.879078</td>\n",
              "      <td>0.170299</td>\n",
              "      <td>0.080309</td>\n",
              "      <td>0.464719</td>\n",
              "      <td>0.158153</td>\n",
              "      <td>45.247430</td>\n",
              "      <td>22.29203</td>\n",
              "      <td>12.023581</td>\n",
              "      <td>4.115449</td>\n",
              "      <td>11.971868</td>\n",
              "      <td>24.244753</td>\n",
              "      <td>0.357846</td>\n",
              "    </tr>\n",
              "    <tr>\n",
              "      <th>min</th>\n",
              "      <td>32.000000</td>\n",
              "      <td>1.000000</td>\n",
              "      <td>NaN</td>\n",
              "      <td>NaN</td>\n",
              "      <td>0.000000</td>\n",
              "      <td>0.000000</td>\n",
              "      <td>0.000000</td>\n",
              "      <td>0.000000</td>\n",
              "      <td>0.000000</td>\n",
              "      <td>107.000000</td>\n",
              "      <td>83.50000</td>\n",
              "      <td>48.000000</td>\n",
              "      <td>15.960000</td>\n",
              "      <td>45.000000</td>\n",
              "      <td>40.000000</td>\n",
              "      <td>0.000000</td>\n",
              "    </tr>\n",
              "    <tr>\n",
              "      <th>25%</th>\n",
              "      <td>42.000000</td>\n",
              "      <td>1.000000</td>\n",
              "      <td>NaN</td>\n",
              "      <td>NaN</td>\n",
              "      <td>0.000000</td>\n",
              "      <td>0.000000</td>\n",
              "      <td>0.000000</td>\n",
              "      <td>0.000000</td>\n",
              "      <td>0.000000</td>\n",
              "      <td>206.000000</td>\n",
              "      <td>117.00000</td>\n",
              "      <td>74.500000</td>\n",
              "      <td>23.020000</td>\n",
              "      <td>68.000000</td>\n",
              "      <td>71.000000</td>\n",
              "      <td>0.000000</td>\n",
              "    </tr>\n",
              "    <tr>\n",
              "      <th>50%</th>\n",
              "      <td>49.000000</td>\n",
              "      <td>2.000000</td>\n",
              "      <td>NaN</td>\n",
              "      <td>NaN</td>\n",
              "      <td>0.000000</td>\n",
              "      <td>0.000000</td>\n",
              "      <td>0.000000</td>\n",
              "      <td>0.000000</td>\n",
              "      <td>0.000000</td>\n",
              "      <td>234.000000</td>\n",
              "      <td>128.50000</td>\n",
              "      <td>82.000000</td>\n",
              "      <td>25.380000</td>\n",
              "      <td>75.000000</td>\n",
              "      <td>78.000000</td>\n",
              "      <td>0.000000</td>\n",
              "    </tr>\n",
              "    <tr>\n",
              "      <th>75%</th>\n",
              "      <td>56.000000</td>\n",
              "      <td>3.000000</td>\n",
              "      <td>NaN</td>\n",
              "      <td>NaN</td>\n",
              "      <td>20.000000</td>\n",
              "      <td>0.000000</td>\n",
              "      <td>0.000000</td>\n",
              "      <td>1.000000</td>\n",
              "      <td>0.000000</td>\n",
              "      <td>264.000000</td>\n",
              "      <td>144.00000</td>\n",
              "      <td>90.000000</td>\n",
              "      <td>28.040000</td>\n",
              "      <td>83.000000</td>\n",
              "      <td>87.000000</td>\n",
              "      <td>0.000000</td>\n",
              "    </tr>\n",
              "    <tr>\n",
              "      <th>max</th>\n",
              "      <td>70.000000</td>\n",
              "      <td>4.000000</td>\n",
              "      <td>NaN</td>\n",
              "      <td>NaN</td>\n",
              "      <td>70.000000</td>\n",
              "      <td>1.000000</td>\n",
              "      <td>1.000000</td>\n",
              "      <td>1.000000</td>\n",
              "      <td>1.000000</td>\n",
              "      <td>696.000000</td>\n",
              "      <td>295.00000</td>\n",
              "      <td>142.500000</td>\n",
              "      <td>56.800000</td>\n",
              "      <td>143.000000</td>\n",
              "      <td>394.000000</td>\n",
              "      <td>1.000000</td>\n",
              "    </tr>\n",
              "  </tbody>\n",
              "</table>\n",
              "</div>"
            ],
            "text/plain": [
              "                age    education   sex  ...    heartRate      glucose   TenYearCHD\n",
              "count   3390.000000  3303.000000  3390  ...  3389.000000  3086.000000  3390.000000\n",
              "unique          NaN          NaN     2  ...          NaN          NaN          NaN\n",
              "top             NaN          NaN     F  ...          NaN          NaN          NaN\n",
              "freq            NaN          NaN  1923  ...          NaN          NaN          NaN\n",
              "mean      49.542183     1.970936   NaN  ...    75.977279    82.086520     0.150737\n",
              "std        8.592878     1.019081   NaN  ...    11.971868    24.244753     0.357846\n",
              "min       32.000000     1.000000   NaN  ...    45.000000    40.000000     0.000000\n",
              "25%       42.000000     1.000000   NaN  ...    68.000000    71.000000     0.000000\n",
              "50%       49.000000     2.000000   NaN  ...    75.000000    78.000000     0.000000\n",
              "75%       56.000000     3.000000   NaN  ...    83.000000    87.000000     0.000000\n",
              "max       70.000000     4.000000   NaN  ...   143.000000   394.000000     1.000000\n",
              "\n",
              "[11 rows x 16 columns]"
            ]
          },
          "metadata": {
            "tags": []
          },
          "execution_count": 13
        }
      ]
    },
    {
      "cell_type": "code",
      "metadata": {
        "id": "GKdbhpkkxxxy"
      },
      "source": [
        "#Renaming the column names\n",
        "cvs_df.rename(columns = {'totChol' : 'Total_Cholestrol'}, inplace=True)\n",
        "cvs_df.rename(columns = {'sysBP' : 'Systolic_BP'}, inplace=True)\n",
        "cvs_df.rename(columns = {'diaBP' : 'Diastolic_BP'}, inplace=True)"
      ],
      "execution_count": 14,
      "outputs": []
    },
    {
      "cell_type": "code",
      "metadata": {
        "colab": {
          "base_uri": "https://localhost:8080/",
          "height": 225
        },
        "id": "afAF841FzfQG",
        "outputId": "31368a63-fe2b-455f-93d0-b9d2b2a4297e"
      },
      "source": [
        "cvs_df.head()"
      ],
      "execution_count": 79,
      "outputs": [
        {
          "output_type": "execute_result",
          "data": {
            "text/html": [
              "<div>\n",
              "<style scoped>\n",
              "    .dataframe tbody tr th:only-of-type {\n",
              "        vertical-align: middle;\n",
              "    }\n",
              "\n",
              "    .dataframe tbody tr th {\n",
              "        vertical-align: top;\n",
              "    }\n",
              "\n",
              "    .dataframe thead th {\n",
              "        text-align: right;\n",
              "    }\n",
              "</style>\n",
              "<table border=\"1\" class=\"dataframe\">\n",
              "  <thead>\n",
              "    <tr style=\"text-align: right;\">\n",
              "      <th></th>\n",
              "      <th>age</th>\n",
              "      <th>education</th>\n",
              "      <th>sex</th>\n",
              "      <th>is_smoking</th>\n",
              "      <th>cigsPerDay</th>\n",
              "      <th>BPMeds</th>\n",
              "      <th>prevalentStroke</th>\n",
              "      <th>prevalentHyp</th>\n",
              "      <th>diabetes</th>\n",
              "      <th>Total_Cholestrol</th>\n",
              "      <th>Systolic_BP</th>\n",
              "      <th>Diastolic_BP</th>\n",
              "      <th>BMI</th>\n",
              "      <th>heartRate</th>\n",
              "      <th>glucose</th>\n",
              "      <th>TenYearCHD</th>\n",
              "    </tr>\n",
              "    <tr>\n",
              "      <th>id</th>\n",
              "      <th></th>\n",
              "      <th></th>\n",
              "      <th></th>\n",
              "      <th></th>\n",
              "      <th></th>\n",
              "      <th></th>\n",
              "      <th></th>\n",
              "      <th></th>\n",
              "      <th></th>\n",
              "      <th></th>\n",
              "      <th></th>\n",
              "      <th></th>\n",
              "      <th></th>\n",
              "      <th></th>\n",
              "      <th></th>\n",
              "      <th></th>\n",
              "    </tr>\n",
              "  </thead>\n",
              "  <tbody>\n",
              "    <tr>\n",
              "      <th>0</th>\n",
              "      <td>64</td>\n",
              "      <td>2.0</td>\n",
              "      <td>F</td>\n",
              "      <td>YES</td>\n",
              "      <td>3.0</td>\n",
              "      <td>0.0</td>\n",
              "      <td>0</td>\n",
              "      <td>0</td>\n",
              "      <td>0</td>\n",
              "      <td>221.0</td>\n",
              "      <td>148.0</td>\n",
              "      <td>85.0</td>\n",
              "      <td>25.794964</td>\n",
              "      <td>90.0</td>\n",
              "      <td>80.0</td>\n",
              "      <td>1</td>\n",
              "    </tr>\n",
              "    <tr>\n",
              "      <th>1</th>\n",
              "      <td>36</td>\n",
              "      <td>4.0</td>\n",
              "      <td>M</td>\n",
              "      <td>NO</td>\n",
              "      <td>0.0</td>\n",
              "      <td>0.0</td>\n",
              "      <td>0</td>\n",
              "      <td>1</td>\n",
              "      <td>0</td>\n",
              "      <td>212.0</td>\n",
              "      <td>168.0</td>\n",
              "      <td>98.0</td>\n",
              "      <td>29.770000</td>\n",
              "      <td>72.0</td>\n",
              "      <td>75.0</td>\n",
              "      <td>0</td>\n",
              "    </tr>\n",
              "    <tr>\n",
              "      <th>2</th>\n",
              "      <td>46</td>\n",
              "      <td>1.0</td>\n",
              "      <td>F</td>\n",
              "      <td>YES</td>\n",
              "      <td>10.0</td>\n",
              "      <td>0.0</td>\n",
              "      <td>0</td>\n",
              "      <td>0</td>\n",
              "      <td>0</td>\n",
              "      <td>250.0</td>\n",
              "      <td>116.0</td>\n",
              "      <td>71.0</td>\n",
              "      <td>20.350000</td>\n",
              "      <td>88.0</td>\n",
              "      <td>94.0</td>\n",
              "      <td>0</td>\n",
              "    </tr>\n",
              "    <tr>\n",
              "      <th>3</th>\n",
              "      <td>50</td>\n",
              "      <td>1.0</td>\n",
              "      <td>M</td>\n",
              "      <td>YES</td>\n",
              "      <td>20.0</td>\n",
              "      <td>0.0</td>\n",
              "      <td>0</td>\n",
              "      <td>1</td>\n",
              "      <td>0</td>\n",
              "      <td>233.0</td>\n",
              "      <td>158.0</td>\n",
              "      <td>88.0</td>\n",
              "      <td>28.260000</td>\n",
              "      <td>68.0</td>\n",
              "      <td>94.0</td>\n",
              "      <td>1</td>\n",
              "    </tr>\n",
              "    <tr>\n",
              "      <th>4</th>\n",
              "      <td>64</td>\n",
              "      <td>1.0</td>\n",
              "      <td>F</td>\n",
              "      <td>YES</td>\n",
              "      <td>30.0</td>\n",
              "      <td>0.0</td>\n",
              "      <td>0</td>\n",
              "      <td>0</td>\n",
              "      <td>0</td>\n",
              "      <td>241.0</td>\n",
              "      <td>136.5</td>\n",
              "      <td>85.0</td>\n",
              "      <td>26.420000</td>\n",
              "      <td>70.0</td>\n",
              "      <td>77.0</td>\n",
              "      <td>0</td>\n",
              "    </tr>\n",
              "  </tbody>\n",
              "</table>\n",
              "</div>"
            ],
            "text/plain": [
              "    age  education sex is_smoking  ...        BMI  heartRate  glucose  TenYearCHD\n",
              "id                                 ...                                           \n",
              "0    64        2.0   F        YES  ...  25.794964       90.0     80.0           1\n",
              "1    36        4.0   M         NO  ...  29.770000       72.0     75.0           0\n",
              "2    46        1.0   F        YES  ...  20.350000       88.0     94.0           0\n",
              "3    50        1.0   M        YES  ...  28.260000       68.0     94.0           1\n",
              "4    64        1.0   F        YES  ...  26.420000       70.0     77.0           0\n",
              "\n",
              "[5 rows x 16 columns]"
            ]
          },
          "metadata": {
            "tags": []
          },
          "execution_count": 79
        }
      ]
    },
    {
      "cell_type": "markdown",
      "metadata": {
        "id": "aiSNlYtqmiYx"
      },
      "source": [
        "#Exploring the dependent variable"
      ]
    },
    {
      "cell_type": "code",
      "metadata": {
        "colab": {
          "base_uri": "https://localhost:8080/"
        },
        "id": "dBoaw0KVjrKq",
        "outputId": "8aa9b492-5539-47f6-cf6a-01026a14464f"
      },
      "source": [
        "#Checking the values of our DV\n",
        "cvs_df['TenYearCHD'].value_counts()"
      ],
      "execution_count": 16,
      "outputs": [
        {
          "output_type": "execute_result",
          "data": {
            "text/plain": [
              "0    2879\n",
              "1     511\n",
              "Name: TenYearCHD, dtype: int64"
            ]
          },
          "metadata": {
            "tags": []
          },
          "execution_count": 16
        }
      ]
    },
    {
      "cell_type": "code",
      "metadata": {
        "colab": {
          "base_uri": "https://localhost:8080/"
        },
        "id": "XPdjOV64mu95",
        "outputId": "38a78b5c-b784-492c-bc31-a60e5fc680c2"
      },
      "source": [
        "#Checking the Null values\n",
        "cvs_df['TenYearCHD'].isnull().sum()"
      ],
      "execution_count": 17,
      "outputs": [
        {
          "output_type": "execute_result",
          "data": {
            "text/plain": [
              "0"
            ]
          },
          "metadata": {
            "tags": []
          },
          "execution_count": 17
        }
      ]
    },
    {
      "cell_type": "code",
      "metadata": {
        "colab": {
          "base_uri": "https://localhost:8080/",
          "height": 282
        },
        "id": "BqTrB_tEm9uB",
        "outputId": "dcd0b604-df5e-4462-dd8a-ced79b7140ed"
      },
      "source": [
        "# visualizing the target variable\n",
        "g = sns.countplot(cvs_df['TenYearCHD'])\n",
        "g.set_xticklabels(['No Heart Disease','Heart Disease'])\n",
        "plt.show()"
      ],
      "execution_count": 18,
      "outputs": [
        {
          "output_type": "display_data",
          "data": {
            "image/png": "[encoded data removed]",
            "text/plain": [
              "<Figure size 432x288 with 1 Axes>"
            ]
          },
          "metadata": {
            "tags": [],
            "needs_background": "light"
          }
        }
      ]
    },
    {
      "cell_type": "code",
      "metadata": {
        "colab": {
          "base_uri": "https://localhost:8080/"
        },
        "id": "JcmeWxLsfSim",
        "outputId": "b6bfaea7-46b4-4478-bdea-cef4dfbe75f8"
      },
      "source": [
        "# Class count\n",
        "class_count_0, class_count_1 = cvs_df['TenYearCHD'].value_counts()\n",
        "\n",
        "# Separate class\n",
        "class_0 = cvs_df[cvs_df['TenYearCHD'] == 0]\n",
        "class_1 = cvs_df[cvs_df['TenYearCHD'] == 1]\n",
        "print('class 0:', class_0.shape)\n",
        "print('class 1:', class_1.shape)"
      ],
      "execution_count": 19,
      "outputs": [
        {
          "output_type": "stream",
          "text": [
            "class 0: (2879, 16)\n",
            "class 1: (511, 16)\n"
          ],
          "name": "stdout"
        }
      ]
    },
    {
      "cell_type": "markdown",
      "metadata": {
        "id": "lRgMN43LqPCV"
      },
      "source": [
        "\n",
        "\n",
        "Now let's go ahead and check for the missing values in rest of the dataset"
      ]
    },
    {
      "cell_type": "code",
      "metadata": {
        "id": "VRmLTDICnQK4"
      },
      "source": [
        "#Checking the missing values for whole dataset\n",
        "missing_values = cvs_df.isnull()"
      ],
      "execution_count": 20,
      "outputs": []
    },
    {
      "cell_type": "code",
      "metadata": {
        "colab": {
          "base_uri": "https://localhost:8080/",
          "height": 451
        },
        "id": "vZntFLGppMRc",
        "outputId": "2a1a63a4-b951-4127-b40f-dba4143e1a02"
      },
      "source": [
        "missing_values"
      ],
      "execution_count": 21,
      "outputs": [
        {
          "output_type": "execute_result",
          "data": {
            "text/html": [
              "<div>\n",
              "<style scoped>\n",
              "    .dataframe tbody tr th:only-of-type {\n",
              "        vertical-align: middle;\n",
              "    }\n",
              "\n",
              "    .dataframe tbody tr th {\n",
              "        vertical-align: top;\n",
              "    }\n",
              "\n",
              "    .dataframe thead th {\n",
              "        text-align: right;\n",
              "    }\n",
              "</style>\n",
              "<table border=\"1\" class=\"dataframe\">\n",
              "  <thead>\n",
              "    <tr style=\"text-align: right;\">\n",
              "      <th></th>\n",
              "      <th>age</th>\n",
              "      <th>education</th>\n",
              "      <th>sex</th>\n",
              "      <th>is_smoking</th>\n",
              "      <th>cigsPerDay</th>\n",
              "      <th>BPMeds</th>\n",
              "      <th>prevalentStroke</th>\n",
              "      <th>prevalentHyp</th>\n",
              "      <th>diabetes</th>\n",
              "      <th>Total_Cholestrol</th>\n",
              "      <th>Systolic_BP</th>\n",
              "      <th>Diastolic_BP</th>\n",
              "      <th>BMI</th>\n",
              "      <th>heartRate</th>\n",
              "      <th>glucose</th>\n",
              "      <th>TenYearCHD</th>\n",
              "    </tr>\n",
              "    <tr>\n",
              "      <th>id</th>\n",
              "      <th></th>\n",
              "      <th></th>\n",
              "      <th></th>\n",
              "      <th></th>\n",
              "      <th></th>\n",
              "      <th></th>\n",
              "      <th></th>\n",
              "      <th></th>\n",
              "      <th></th>\n",
              "      <th></th>\n",
              "      <th></th>\n",
              "      <th></th>\n",
              "      <th></th>\n",
              "      <th></th>\n",
              "      <th></th>\n",
              "      <th></th>\n",
              "    </tr>\n",
              "  </thead>\n",
              "  <tbody>\n",
              "    <tr>\n",
              "      <th>0</th>\n",
              "      <td>False</td>\n",
              "      <td>False</td>\n",
              "      <td>False</td>\n",
              "      <td>False</td>\n",
              "      <td>False</td>\n",
              "      <td>False</td>\n",
              "      <td>False</td>\n",
              "      <td>False</td>\n",
              "      <td>False</td>\n",
              "      <td>False</td>\n",
              "      <td>False</td>\n",
              "      <td>False</td>\n",
              "      <td>True</td>\n",
              "      <td>False</td>\n",
              "      <td>False</td>\n",
              "      <td>False</td>\n",
              "    </tr>\n",
              "    <tr>\n",
              "      <th>1</th>\n",
              "      <td>False</td>\n",
              "      <td>False</td>\n",
              "      <td>False</td>\n",
              "      <td>False</td>\n",
              "      <td>False</td>\n",
              "      <td>False</td>\n",
              "      <td>False</td>\n",
              "      <td>False</td>\n",
              "      <td>False</td>\n",
              "      <td>False</td>\n",
              "      <td>False</td>\n",
              "      <td>False</td>\n",
              "      <td>False</td>\n",
              "      <td>False</td>\n",
              "      <td>False</td>\n",
              "      <td>False</td>\n",
              "    </tr>\n",
              "    <tr>\n",
              "      <th>2</th>\n",
              "      <td>False</td>\n",
              "      <td>False</td>\n",
              "      <td>False</td>\n",
              "      <td>False</td>\n",
              "      <td>False</td>\n",
              "      <td>False</td>\n",
              "      <td>False</td>\n",
              "      <td>False</td>\n",
              "      <td>False</td>\n",
              "      <td>False</td>\n",
              "      <td>False</td>\n",
              "      <td>False</td>\n",
              "      <td>False</td>\n",
              "      <td>False</td>\n",
              "      <td>False</td>\n",
              "      <td>False</td>\n",
              "    </tr>\n",
              "    <tr>\n",
              "      <th>3</th>\n",
              "      <td>False</td>\n",
              "      <td>False</td>\n",
              "      <td>False</td>\n",
              "      <td>False</td>\n",
              "      <td>False</td>\n",
              "      <td>False</td>\n",
              "      <td>False</td>\n",
              "      <td>False</td>\n",
              "      <td>False</td>\n",
              "      <td>False</td>\n",
              "      <td>False</td>\n",
              "      <td>False</td>\n",
              "      <td>False</td>\n",
              "      <td>False</td>\n",
              "      <td>False</td>\n",
              "      <td>False</td>\n",
              "    </tr>\n",
              "    <tr>\n",
              "      <th>4</th>\n",
              "      <td>False</td>\n",
              "      <td>False</td>\n",
              "      <td>False</td>\n",
              "      <td>False</td>\n",
              "      <td>False</td>\n",
              "      <td>False</td>\n",
              "      <td>False</td>\n",
              "      <td>False</td>\n",
              "      <td>False</td>\n",
              "      <td>False</td>\n",
              "      <td>False</td>\n",
              "      <td>False</td>\n",
              "      <td>False</td>\n",
              "      <td>False</td>\n",
              "      <td>False</td>\n",
              "      <td>False</td>\n",
              "    </tr>\n",
              "    <tr>\n",
              "      <th>...</th>\n",
              "      <td>...</td>\n",
              "      <td>...</td>\n",
              "      <td>...</td>\n",
              "      <td>...</td>\n",
              "      <td>...</td>\n",
              "      <td>...</td>\n",
              "      <td>...</td>\n",
              "      <td>...</td>\n",
              "      <td>...</td>\n",
              "      <td>...</td>\n",
              "      <td>...</td>\n",
              "      <td>...</td>\n",
              "      <td>...</td>\n",
              "      <td>...</td>\n",
              "      <td>...</td>\n",
              "      <td>...</td>\n",
              "    </tr>\n",
              "    <tr>\n",
              "      <th>3385</th>\n",
              "      <td>False</td>\n",
              "      <td>False</td>\n",
              "      <td>False</td>\n",
              "      <td>False</td>\n",
              "      <td>False</td>\n",
              "      <td>False</td>\n",
              "      <td>False</td>\n",
              "      <td>False</td>\n",
              "      <td>False</td>\n",
              "      <td>False</td>\n",
              "      <td>False</td>\n",
              "      <td>False</td>\n",
              "      <td>False</td>\n",
              "      <td>False</td>\n",
              "      <td>False</td>\n",
              "      <td>False</td>\n",
              "    </tr>\n",
              "    <tr>\n",
              "      <th>3386</th>\n",
              "      <td>False</td>\n",
              "      <td>False</td>\n",
              "      <td>False</td>\n",
              "      <td>False</td>\n",
              "      <td>False</td>\n",
              "      <td>False</td>\n",
              "      <td>False</td>\n",
              "      <td>False</td>\n",
              "      <td>False</td>\n",
              "      <td>False</td>\n",
              "      <td>False</td>\n",
              "      <td>False</td>\n",
              "      <td>False</td>\n",
              "      <td>False</td>\n",
              "      <td>False</td>\n",
              "      <td>False</td>\n",
              "    </tr>\n",
              "    <tr>\n",
              "      <th>3387</th>\n",
              "      <td>False</td>\n",
              "      <td>False</td>\n",
              "      <td>False</td>\n",
              "      <td>False</td>\n",
              "      <td>False</td>\n",
              "      <td>False</td>\n",
              "      <td>False</td>\n",
              "      <td>False</td>\n",
              "      <td>False</td>\n",
              "      <td>False</td>\n",
              "      <td>False</td>\n",
              "      <td>False</td>\n",
              "      <td>False</td>\n",
              "      <td>False</td>\n",
              "      <td>False</td>\n",
              "      <td>False</td>\n",
              "    </tr>\n",
              "    <tr>\n",
              "      <th>3388</th>\n",
              "      <td>False</td>\n",
              "      <td>False</td>\n",
              "      <td>False</td>\n",
              "      <td>False</td>\n",
              "      <td>False</td>\n",
              "      <td>True</td>\n",
              "      <td>False</td>\n",
              "      <td>False</td>\n",
              "      <td>False</td>\n",
              "      <td>False</td>\n",
              "      <td>False</td>\n",
              "      <td>False</td>\n",
              "      <td>False</td>\n",
              "      <td>False</td>\n",
              "      <td>False</td>\n",
              "      <td>False</td>\n",
              "    </tr>\n",
              "    <tr>\n",
              "      <th>3389</th>\n",
              "      <td>False</td>\n",
              "      <td>False</td>\n",
              "      <td>False</td>\n",
              "      <td>False</td>\n",
              "      <td>False</td>\n",
              "      <td>False</td>\n",
              "      <td>False</td>\n",
              "      <td>False</td>\n",
              "      <td>False</td>\n",
              "      <td>False</td>\n",
              "      <td>False</td>\n",
              "      <td>False</td>\n",
              "      <td>False</td>\n",
              "      <td>False</td>\n",
              "      <td>False</td>\n",
              "      <td>False</td>\n",
              "    </tr>\n",
              "  </tbody>\n",
              "</table>\n",
              "<p>3390 rows × 16 columns</p>\n",
              "</div>"
            ],
            "text/plain": [
              "        age  education    sex  ...  heartRate  glucose  TenYearCHD\n",
              "id                             ...                                \n",
              "0     False      False  False  ...      False    False       False\n",
              "1     False      False  False  ...      False    False       False\n",
              "2     False      False  False  ...      False    False       False\n",
              "3     False      False  False  ...      False    False       False\n",
              "4     False      False  False  ...      False    False       False\n",
              "...     ...        ...    ...  ...        ...      ...         ...\n",
              "3385  False      False  False  ...      False    False       False\n",
              "3386  False      False  False  ...      False    False       False\n",
              "3387  False      False  False  ...      False    False       False\n",
              "3388  False      False  False  ...      False    False       False\n",
              "3389  False      False  False  ...      False    False       False\n",
              "\n",
              "[3390 rows x 16 columns]"
            ]
          },
          "metadata": {
            "tags": []
          },
          "execution_count": 21
        }
      ]
    },
    {
      "cell_type": "code",
      "metadata": {
        "colab": {
          "base_uri": "https://localhost:8080/",
          "height": 790
        },
        "id": "Zioy0QlbqkLN",
        "outputId": "3ef8189a-d6d0-49c1-f73f-7e6e0176a540"
      },
      "source": [
        "#Plotting the heatmap for missing values \n",
        "\n",
        "plt.figure(figsize=(12,12))\n",
        "sns.heatmap(missing_values)"
      ],
      "execution_count": 22,
      "outputs": [
        {
          "output_type": "execute_result",
          "data": {
            "text/plain": [
              "<matplotlib.axes._subplots.AxesSubplot at 0x7ff48bb52210>"
            ]
          },
          "metadata": {
            "tags": []
          },
          "execution_count": 22
        },
        {
          "output_type": "display_data",
          "data": {
            "image/png": "[encoded data removed]",
            "text/plain": [
              "<Figure size 864x864 with 2 Axes>"
            ]
          },
          "metadata": {
            "tags": [],
            "needs_background": "light"
          }
        }
      ]
    },
    {
      "cell_type": "code",
      "metadata": {
        "colab": {
          "base_uri": "https://localhost:8080/"
        },
        "id": "5tqBR8YIq3N7",
        "outputId": "4342023b-5915-4248-8df5-7b8ff3a7e3a1"
      },
      "source": [
        "# Summing up the missing values \n",
        "cvs_df.isnull().sum()\n"
      ],
      "execution_count": 23,
      "outputs": [
        {
          "output_type": "execute_result",
          "data": {
            "text/plain": [
              "age                   0\n",
              "education            87\n",
              "sex                   0\n",
              "is_smoking            0\n",
              "cigsPerDay           22\n",
              "BPMeds               44\n",
              "prevalentStroke       0\n",
              "prevalentHyp          0\n",
              "diabetes              0\n",
              "Total_Cholestrol     38\n",
              "Systolic_BP           0\n",
              "Diastolic_BP          0\n",
              "BMI                  14\n",
              "heartRate             1\n",
              "glucose             304\n",
              "TenYearCHD            0\n",
              "dtype: int64"
            ]
          },
          "metadata": {
            "tags": []
          },
          "execution_count": 23
        }
      ]
    },
    {
      "cell_type": "markdown",
      "metadata": {
        "id": "CS0W09Fms95S"
      },
      "source": [
        "As we can see above the Glucose feature has the highest number of missing values followed by education, BPmeds, TotalCholestrol, CigsPerday, BMI & heartRate."
      ]
    },
    {
      "cell_type": "code",
      "metadata": {
        "id": "wvxrMD6Qsu7Z"
      },
      "source": [
        "# Filling up the numerical NaN values using mean\n",
        "filling_NaN = cvs_df.fillna(cvs_df.mean(axis=0))"
      ],
      "execution_count": 24,
      "outputs": []
    },
    {
      "cell_type": "code",
      "metadata": {
        "id": "lm8Cc589vkTV"
      },
      "source": [
        "filled_NaN = filling_NaN.isnull()"
      ],
      "execution_count": 25,
      "outputs": []
    },
    {
      "cell_type": "code",
      "metadata": {
        "colab": {
          "base_uri": "https://localhost:8080/",
          "height": 790
        },
        "id": "_QlW-huevbft",
        "outputId": "0a215cab-5213-48a4-b204-fd76a46b99b9"
      },
      "source": [
        "#Plotting the heatmap after treating the missing values\n",
        "plt.figure(figsize=(12,12))\n",
        "sns.heatmap(filled_NaN)"
      ],
      "execution_count": 26,
      "outputs": [
        {
          "output_type": "execute_result",
          "data": {
            "text/plain": [
              "<matplotlib.axes._subplots.AxesSubplot at 0x7ff48bb52e90>"
            ]
          },
          "metadata": {
            "tags": []
          },
          "execution_count": 26
        },
        {
          "output_type": "display_data",
          "data": {
            "image/png": "[encoded data removed]",
            "text/plain": [
              "<Figure size 864x864 with 2 Axes>"
            ]
          },
          "metadata": {
            "tags": [],
            "needs_background": "light"
          }
        }
      ]
    },
    {
      "cell_type": "code",
      "metadata": {
        "id": "xEDhFlXS7fsl"
      },
      "source": [
        "cvs_df.fillna(cvs_df.mean(axis=0), inplace=True)"
      ],
      "execution_count": 27,
      "outputs": []
    },
    {
      "cell_type": "code",
      "metadata": {
        "colab": {
          "base_uri": "https://localhost:8080/"
        },
        "id": "b5czSvdW6wN-",
        "outputId": "8c9ab88a-eb01-46a3-8478-ec297b7e5a20"
      },
      "source": [
        "cvs_df.isnull().sum()"
      ],
      "execution_count": 28,
      "outputs": [
        {
          "output_type": "execute_result",
          "data": {
            "text/plain": [
              "age                 0\n",
              "education           0\n",
              "sex                 0\n",
              "is_smoking          0\n",
              "cigsPerDay          0\n",
              "BPMeds              0\n",
              "prevalentStroke     0\n",
              "prevalentHyp        0\n",
              "diabetes            0\n",
              "Total_Cholestrol    0\n",
              "Systolic_BP         0\n",
              "Diastolic_BP        0\n",
              "BMI                 0\n",
              "heartRate           0\n",
              "glucose             0\n",
              "TenYearCHD          0\n",
              "dtype: int64"
            ]
          },
          "metadata": {
            "tags": []
          },
          "execution_count": 28
        }
      ]
    },
    {
      "cell_type": "markdown",
      "metadata": {
        "id": "-EQ7VFVB1Ad9"
      },
      "source": [
        "As seen above all the missing values has been treated.\n",
        "\n",
        "Now let's check the correlation between each feature."
      ]
    },
    {
      "cell_type": "code",
      "metadata": {
        "colab": {
          "base_uri": "https://localhost:8080/",
          "height": 482
        },
        "id": "qZe3YOb0wW9o",
        "outputId": "e8c650cc-6e6b-4332-d904-f04d7a026fb6"
      },
      "source": [
        "#Checking for correlation\n",
        "cvs_df.corr()"
      ],
      "execution_count": 29,
      "outputs": [
        {
          "output_type": "execute_result",
          "data": {
            "text/html": [
              "<div>\n",
              "<style scoped>\n",
              "    .dataframe tbody tr th:only-of-type {\n",
              "        vertical-align: middle;\n",
              "    }\n",
              "\n",
              "    .dataframe tbody tr th {\n",
              "        vertical-align: top;\n",
              "    }\n",
              "\n",
              "    .dataframe thead th {\n",
              "        text-align: right;\n",
              "    }\n",
              "</style>\n",
              "<table border=\"1\" class=\"dataframe\">\n",
              "  <thead>\n",
              "    <tr style=\"text-align: right;\">\n",
              "      <th></th>\n",
              "      <th>age</th>\n",
              "      <th>education</th>\n",
              "      <th>cigsPerDay</th>\n",
              "      <th>BPMeds</th>\n",
              "      <th>prevalentStroke</th>\n",
              "      <th>prevalentHyp</th>\n",
              "      <th>diabetes</th>\n",
              "      <th>Total_Cholestrol</th>\n",
              "      <th>Systolic_BP</th>\n",
              "      <th>Diastolic_BP</th>\n",
              "      <th>BMI</th>\n",
              "      <th>heartRate</th>\n",
              "      <th>glucose</th>\n",
              "      <th>TenYearCHD</th>\n",
              "    </tr>\n",
              "  </thead>\n",
              "  <tbody>\n",
              "    <tr>\n",
              "      <th>age</th>\n",
              "      <td>1.000000</td>\n",
              "      <td>-0.170243</td>\n",
              "      <td>-0.191956</td>\n",
              "      <td>0.123262</td>\n",
              "      <td>0.059038</td>\n",
              "      <td>0.308826</td>\n",
              "      <td>0.107875</td>\n",
              "      <td>0.272209</td>\n",
              "      <td>0.404845</td>\n",
              "      <td>0.221896</td>\n",
              "      <td>0.137645</td>\n",
              "      <td>-0.002595</td>\n",
              "      <td>0.111241</td>\n",
              "      <td>0.224927</td>\n",
              "    </tr>\n",
              "    <tr>\n",
              "      <th>education</th>\n",
              "      <td>-0.170243</td>\n",
              "      <td>1.000000</td>\n",
              "      <td>0.010945</td>\n",
              "      <td>-0.019474</td>\n",
              "      <td>-0.034191</td>\n",
              "      <td>-0.083753</td>\n",
              "      <td>-0.051115</td>\n",
              "      <td>-0.020170</td>\n",
              "      <td>-0.135743</td>\n",
              "      <td>-0.060218</td>\n",
              "      <td>-0.131656</td>\n",
              "      <td>-0.046489</td>\n",
              "      <td>-0.036360</td>\n",
              "      <td>-0.052074</td>\n",
              "    </tr>\n",
              "    <tr>\n",
              "      <th>cigsPerDay</th>\n",
              "      <td>-0.191956</td>\n",
              "      <td>0.010945</td>\n",
              "      <td>1.000000</td>\n",
              "      <td>-0.036823</td>\n",
              "      <td>-0.042056</td>\n",
              "      <td>-0.079093</td>\n",
              "      <td>-0.049012</td>\n",
              "      <td>-0.024425</td>\n",
              "      <td>-0.100545</td>\n",
              "      <td>-0.068551</td>\n",
              "      <td>-0.100712</td>\n",
              "      <td>0.066514</td>\n",
              "      <td>-0.065553</td>\n",
              "      <td>0.066686</td>\n",
              "    </tr>\n",
              "    <tr>\n",
              "      <th>BPMeds</th>\n",
              "      <td>0.123262</td>\n",
              "      <td>-0.019474</td>\n",
              "      <td>-0.036823</td>\n",
              "      <td>1.000000</td>\n",
              "      <td>0.116670</td>\n",
              "      <td>0.257518</td>\n",
              "      <td>0.070904</td>\n",
              "      <td>0.081381</td>\n",
              "      <td>0.261210</td>\n",
              "      <td>0.199135</td>\n",
              "      <td>0.087301</td>\n",
              "      <td>0.018041</td>\n",
              "      <td>0.061365</td>\n",
              "      <td>0.087420</td>\n",
              "    </tr>\n",
              "    <tr>\n",
              "      <th>prevalentStroke</th>\n",
              "      <td>0.059038</td>\n",
              "      <td>-0.034191</td>\n",
              "      <td>-0.042056</td>\n",
              "      <td>0.116670</td>\n",
              "      <td>1.000000</td>\n",
              "      <td>0.071652</td>\n",
              "      <td>0.010115</td>\n",
              "      <td>-0.010831</td>\n",
              "      <td>0.057568</td>\n",
              "      <td>0.047235</td>\n",
              "      <td>0.017741</td>\n",
              "      <td>-0.019184</td>\n",
              "      <td>0.023061</td>\n",
              "      <td>0.068627</td>\n",
              "    </tr>\n",
              "    <tr>\n",
              "      <th>prevalentHyp</th>\n",
              "      <td>0.308826</td>\n",
              "      <td>-0.083753</td>\n",
              "      <td>-0.079093</td>\n",
              "      <td>0.257518</td>\n",
              "      <td>0.071652</td>\n",
              "      <td>1.000000</td>\n",
              "      <td>0.082565</td>\n",
              "      <td>0.158741</td>\n",
              "      <td>0.699285</td>\n",
              "      <td>0.612897</td>\n",
              "      <td>0.299723</td>\n",
              "      <td>0.150766</td>\n",
              "      <td>0.082747</td>\n",
              "      <td>0.166544</td>\n",
              "    </tr>\n",
              "    <tr>\n",
              "      <th>diabetes</th>\n",
              "      <td>0.107875</td>\n",
              "      <td>-0.051115</td>\n",
              "      <td>-0.049012</td>\n",
              "      <td>0.070904</td>\n",
              "      <td>0.010115</td>\n",
              "      <td>0.082565</td>\n",
              "      <td>1.000000</td>\n",
              "      <td>0.059072</td>\n",
              "      <td>0.124011</td>\n",
              "      <td>0.061165</td>\n",
              "      <td>0.088104</td>\n",
              "      <td>0.039742</td>\n",
              "      <td>0.608937</td>\n",
              "      <td>0.103681</td>\n",
              "    </tr>\n",
              "    <tr>\n",
              "      <th>Total_Cholestrol</th>\n",
              "      <td>0.272209</td>\n",
              "      <td>-0.020170</td>\n",
              "      <td>-0.024425</td>\n",
              "      <td>0.081381</td>\n",
              "      <td>-0.010831</td>\n",
              "      <td>0.158741</td>\n",
              "      <td>0.059072</td>\n",
              "      <td>1.000000</td>\n",
              "      <td>0.197933</td>\n",
              "      <td>0.153826</td>\n",
              "      <td>0.113420</td>\n",
              "      <td>0.087077</td>\n",
              "      <td>0.060291</td>\n",
              "      <td>0.093679</td>\n",
              "    </tr>\n",
              "    <tr>\n",
              "      <th>Systolic_BP</th>\n",
              "      <td>0.404845</td>\n",
              "      <td>-0.135743</td>\n",
              "      <td>-0.100545</td>\n",
              "      <td>0.261210</td>\n",
              "      <td>0.057568</td>\n",
              "      <td>0.699285</td>\n",
              "      <td>0.124011</td>\n",
              "      <td>0.197933</td>\n",
              "      <td>1.000000</td>\n",
              "      <td>0.781908</td>\n",
              "      <td>0.331947</td>\n",
              "      <td>0.178178</td>\n",
              "      <td>0.137020</td>\n",
              "      <td>0.212703</td>\n",
              "    </tr>\n",
              "    <tr>\n",
              "      <th>Diastolic_BP</th>\n",
              "      <td>0.221896</td>\n",
              "      <td>-0.060218</td>\n",
              "      <td>-0.068551</td>\n",
              "      <td>0.199135</td>\n",
              "      <td>0.047235</td>\n",
              "      <td>0.612897</td>\n",
              "      <td>0.061165</td>\n",
              "      <td>0.153826</td>\n",
              "      <td>0.781908</td>\n",
              "      <td>1.000000</td>\n",
              "      <td>0.379661</td>\n",
              "      <td>0.174893</td>\n",
              "      <td>0.068489</td>\n",
              "      <td>0.135979</td>\n",
              "    </tr>\n",
              "    <tr>\n",
              "      <th>BMI</th>\n",
              "      <td>0.137645</td>\n",
              "      <td>-0.131656</td>\n",
              "      <td>-0.100712</td>\n",
              "      <td>0.087301</td>\n",
              "      <td>0.017741</td>\n",
              "      <td>0.299723</td>\n",
              "      <td>0.088104</td>\n",
              "      <td>0.113420</td>\n",
              "      <td>0.331947</td>\n",
              "      <td>0.379661</td>\n",
              "      <td>1.000000</td>\n",
              "      <td>0.069539</td>\n",
              "      <td>0.087939</td>\n",
              "      <td>0.066543</td>\n",
              "    </tr>\n",
              "    <tr>\n",
              "      <th>heartRate</th>\n",
              "      <td>-0.002595</td>\n",
              "      <td>-0.046489</td>\n",
              "      <td>0.066514</td>\n",
              "      <td>0.018041</td>\n",
              "      <td>-0.019184</td>\n",
              "      <td>0.150766</td>\n",
              "      <td>0.039742</td>\n",
              "      <td>0.087077</td>\n",
              "      <td>0.178178</td>\n",
              "      <td>0.174893</td>\n",
              "      <td>0.069539</td>\n",
              "      <td>1.000000</td>\n",
              "      <td>0.083706</td>\n",
              "      <td>0.020224</td>\n",
              "    </tr>\n",
              "    <tr>\n",
              "      <th>glucose</th>\n",
              "      <td>0.111241</td>\n",
              "      <td>-0.036360</td>\n",
              "      <td>-0.065553</td>\n",
              "      <td>0.061365</td>\n",
              "      <td>0.023061</td>\n",
              "      <td>0.082747</td>\n",
              "      <td>0.608937</td>\n",
              "      <td>0.060291</td>\n",
              "      <td>0.137020</td>\n",
              "      <td>0.068489</td>\n",
              "      <td>0.087939</td>\n",
              "      <td>0.083706</td>\n",
              "      <td>1.000000</td>\n",
              "      <td>0.132648</td>\n",
              "    </tr>\n",
              "    <tr>\n",
              "      <th>TenYearCHD</th>\n",
              "      <td>0.224927</td>\n",
              "      <td>-0.052074</td>\n",
              "      <td>0.066686</td>\n",
              "      <td>0.087420</td>\n",
              "      <td>0.068627</td>\n",
              "      <td>0.166544</td>\n",
              "      <td>0.103681</td>\n",
              "      <td>0.093679</td>\n",
              "      <td>0.212703</td>\n",
              "      <td>0.135979</td>\n",
              "      <td>0.066543</td>\n",
              "      <td>0.020224</td>\n",
              "      <td>0.132648</td>\n",
              "      <td>1.000000</td>\n",
              "    </tr>\n",
              "  </tbody>\n",
              "</table>\n",
              "</div>"
            ],
            "text/plain": [
              "                       age  education  ...   glucose  TenYearCHD\n",
              "age               1.000000  -0.170243  ...  0.111241    0.224927\n",
              "education        -0.170243   1.000000  ... -0.036360   -0.052074\n",
              "cigsPerDay       -0.191956   0.010945  ... -0.065553    0.066686\n",
              "BPMeds            0.123262  -0.019474  ...  0.061365    0.087420\n",
              "prevalentStroke   0.059038  -0.034191  ...  0.023061    0.068627\n",
              "prevalentHyp      0.308826  -0.083753  ...  0.082747    0.166544\n",
              "diabetes          0.107875  -0.051115  ...  0.608937    0.103681\n",
              "Total_Cholestrol  0.272209  -0.020170  ...  0.060291    0.093679\n",
              "Systolic_BP       0.404845  -0.135743  ...  0.137020    0.212703\n",
              "Diastolic_BP      0.221896  -0.060218  ...  0.068489    0.135979\n",
              "BMI               0.137645  -0.131656  ...  0.087939    0.066543\n",
              "heartRate        -0.002595  -0.046489  ...  0.083706    0.020224\n",
              "glucose           0.111241  -0.036360  ...  1.000000    0.132648\n",
              "TenYearCHD        0.224927  -0.052074  ...  0.132648    1.000000\n",
              "\n",
              "[14 rows x 14 columns]"
            ]
          },
          "metadata": {
            "tags": []
          },
          "execution_count": 29
        }
      ]
    },
    {
      "cell_type": "code",
      "metadata": {
        "colab": {
          "base_uri": "https://localhost:8080/"
        },
        "id": "07Hpodj4rDij",
        "outputId": "6a01df84-5c56-4ff2-adc7-1a8da75208e2"
      },
      "source": [
        "#checking for correlation between columns \n",
        "print(cvs_df.corr()['TenYearCHD'].abs().sort_values(ascending=False))"
      ],
      "execution_count": 30,
      "outputs": [
        {
          "output_type": "stream",
          "text": [
            "TenYearCHD          1.000000\n",
            "age                 0.224927\n",
            "Systolic_BP         0.212703\n",
            "prevalentHyp        0.166544\n",
            "Diastolic_BP        0.135979\n",
            "glucose             0.132648\n",
            "diabetes            0.103681\n",
            "Total_Cholestrol    0.093679\n",
            "BPMeds              0.087420\n",
            "prevalentStroke     0.068627\n",
            "cigsPerDay          0.066686\n",
            "BMI                 0.066543\n",
            "education           0.052074\n",
            "heartRate           0.020224\n",
            "Name: TenYearCHD, dtype: float64\n"
          ],
          "name": "stdout"
        }
      ]
    },
    {
      "cell_type": "code",
      "metadata": {
        "colab": {
          "base_uri": "https://localhost:8080/",
          "height": 899
        },
        "id": "YJ_hXY9F1lAK",
        "outputId": "bb0a6ebc-999f-4ae4-b4f7-b8a6ccbc646e"
      },
      "source": [
        "#Plotting the correlation matrix using heatmap\n",
        "plt.figure(figsize=(14,14))\n",
        "correlation = cvs_df.corr()\n",
        "sns.heatmap(abs(correlation), annot=True)"
      ],
      "execution_count": 31,
      "outputs": [
        {
          "output_type": "execute_result",
          "data": {
            "text/plain": [
              "<matplotlib.axes._subplots.AxesSubplot at 0x7ff483043310>"
            ]
          },
          "metadata": {
            "tags": []
          },
          "execution_count": 31
        },
        {
          "output_type": "display_data",
          "data": {
            "image/png": "[encoded data removed]",
            "text/plain": [
              "<Figure size 1008x1008 with 2 Axes>"
            ]
          },
          "metadata": {
            "tags": [],
            "needs_background": "light"
          }
        }
      ]
    },
    {
      "cell_type": "code",
      "metadata": {
        "colab": {
          "base_uri": "https://localhost:8080/",
          "height": 1000
        },
        "id": "JCSJtErk2WSc",
        "outputId": "83e9aa82-03aa-4934-8c69-e8d2e75fcfa0"
      },
      "source": [
        "cvs_df.hist(figsize=(16,16))"
      ],
      "execution_count": 32,
      "outputs": [
        {
          "output_type": "execute_result",
          "data": {
            "text/plain": [
              "array([[<matplotlib.axes._subplots.AxesSubplot object at 0x7ff482cff750>,\n",
              "        <matplotlib.axes._subplots.AxesSubplot object at 0x7ff482d12ed0>,\n",
              "        <matplotlib.axes._subplots.AxesSubplot object at 0x7ff4814cf590>,\n",
              "        <matplotlib.axes._subplots.AxesSubplot object at 0x7ff481486c10>],\n",
              "       [<matplotlib.axes._subplots.AxesSubplot object at 0x7ff4814462d0>,\n",
              "        <matplotlib.axes._subplots.AxesSubplot object at 0x7ff4813f9c50>,\n",
              "        <matplotlib.axes._subplots.AxesSubplot object at 0x7ff4813bb290>,\n",
              "        <matplotlib.axes._subplots.AxesSubplot object at 0x7ff481372750>],\n",
              "       [<matplotlib.axes._subplots.AxesSubplot object at 0x7ff481372790>,\n",
              "        <matplotlib.axes._subplots.AxesSubplot object at 0x7ff481326e10>,\n",
              "        <matplotlib.axes._subplots.AxesSubplot object at 0x7ff48129e7d0>,\n",
              "        <matplotlib.axes._subplots.AxesSubplot object at 0x7ff4812d3d50>],\n",
              "       [<matplotlib.axes._subplots.AxesSubplot object at 0x7ff481296310>,\n",
              "        <matplotlib.axes._subplots.AxesSubplot object at 0x7ff48124e890>,\n",
              "        <matplotlib.axes._subplots.AxesSubplot object at 0x7ff481200e10>,\n",
              "        <matplotlib.axes._subplots.AxesSubplot object at 0x7ff4811c33d0>]],\n",
              "      dtype=object)"
            ]
          },
          "metadata": {
            "tags": []
          },
          "execution_count": 32
        },
        {
          "output_type": "display_data",
          "data": {
            "image/png": "[encoded data removed]",
            "text/plain": [
              "<Figure size 1152x1152 with 16 Axes>"
            ]
          },
          "metadata": {
            "tags": [],
            "needs_background": "light"
          }
        }
      ]
    },
    {
      "cell_type": "markdown",
      "metadata": {
        "id": "jUQBOfessABj"
      },
      "source": [
        "#Analysing the categorical features"
      ]
    },
    {
      "cell_type": "code",
      "metadata": {
        "colab": {
          "base_uri": "https://localhost:8080/"
        },
        "id": "yxEb5Dk1djEs",
        "outputId": "e2717f45-3434-453e-a1ea-8d984da80692"
      },
      "source": [
        "#Analysing 'sex' feature\n",
        "cvs_df['sex'].unique()"
      ],
      "execution_count": 33,
      "outputs": [
        {
          "output_type": "execute_result",
          "data": {
            "text/plain": [
              "array(['F', 'M'], dtype=object)"
            ]
          },
          "metadata": {
            "tags": []
          },
          "execution_count": 33
        }
      ]
    },
    {
      "cell_type": "code",
      "metadata": {
        "id": "xoAZQ4Zq4UDj"
      },
      "source": [
        "#one hot encoding\n",
        "#pd.get_dummies(cvs_df.sex).head()"
      ],
      "execution_count": 34,
      "outputs": []
    },
    {
      "cell_type": "code",
      "metadata": {
        "colab": {
          "base_uri": "https://localhost:8080/"
        },
        "id": "zsGIKtfKrbE2",
        "outputId": "d7e2faaa-1ba1-4df4-9122-8f2119462b24"
      },
      "source": [
        "cvs_df['sex'].value_counts()"
      ],
      "execution_count": 35,
      "outputs": [
        {
          "output_type": "execute_result",
          "data": {
            "text/plain": [
              "F    1923\n",
              "M    1467\n",
              "Name: sex, dtype: int64"
            ]
          },
          "metadata": {
            "tags": []
          },
          "execution_count": 35
        }
      ]
    },
    {
      "cell_type": "code",
      "metadata": {
        "colab": {
          "base_uri": "https://localhost:8080/",
          "height": 281
        },
        "id": "roBQsrgNsTjX",
        "outputId": "653f41ad-5214-4a91-aa2d-69f9bc5fe271"
      },
      "source": [
        "# visualizing the sex feature\n",
        "g = sns.countplot(cvs_df['sex'])\n",
        "g.set_xticklabels(['Female','Male'])\n",
        "plt.show()"
      ],
      "execution_count": 36,
      "outputs": [
        {
          "output_type": "display_data",
          "data": {
            "image/png": "[encoded data removed]",
            "text/plain": [
              "<Figure size 432x288 with 1 Axes>"
            ]
          },
          "metadata": {
            "tags": [],
            "needs_background": "light"
          }
        }
      ]
    },
    {
      "cell_type": "code",
      "metadata": {
        "colab": {
          "base_uri": "https://localhost:8080/"
        },
        "id": "MUVRvs2l0_zd",
        "outputId": "bd905f87-b7c6-47e8-f137-1cad6c723a03"
      },
      "source": [
        "#Analysing is_smoking feature\n",
        "cvs_df['is_smoking'].unique()"
      ],
      "execution_count": 37,
      "outputs": [
        {
          "output_type": "execute_result",
          "data": {
            "text/plain": [
              "array(['YES', 'NO'], dtype=object)"
            ]
          },
          "metadata": {
            "tags": []
          },
          "execution_count": 37
        }
      ]
    },
    {
      "cell_type": "code",
      "metadata": {
        "colab": {
          "base_uri": "https://localhost:8080/"
        },
        "id": "kOs2wSvlrp52",
        "outputId": "440b745c-e502-4fb0-8e9e-31f8fc6a2cfc"
      },
      "source": [
        "cvs_df['is_smoking'].value_counts()"
      ],
      "execution_count": 38,
      "outputs": [
        {
          "output_type": "execute_result",
          "data": {
            "text/plain": [
              "NO     1703\n",
              "YES    1687\n",
              "Name: is_smoking, dtype: int64"
            ]
          },
          "metadata": {
            "tags": []
          },
          "execution_count": 38
        }
      ]
    },
    {
      "cell_type": "code",
      "metadata": {
        "id": "XEEBtg0B4MEv"
      },
      "source": [
        "#one hot encoding"
      ],
      "execution_count": 43,
      "outputs": []
    },
    {
      "cell_type": "code",
      "metadata": {
        "colab": {
          "base_uri": "https://localhost:8080/",
          "height": 280
        },
        "id": "fcymzNkIorG8",
        "outputId": "abb00dea-6cde-4d63-ff7c-17e0da6da789"
      },
      "source": [
        "# visualizing the is_smoking feature\n",
        "g = sns.countplot(cvs_df['is_smoking'])\n",
        "plt.show()"
      ],
      "execution_count": 44,
      "outputs": [
        {
          "output_type": "display_data",
          "data": {
            "image/png": "[encoded data removed]",
            "text/plain": [
              "<Figure size 432x288 with 1 Axes>"
            ]
          },
          "metadata": {
            "tags": [],
            "needs_background": "light"
          }
        }
      ]
    },
    {
      "cell_type": "code",
      "metadata": {
        "id": "3ZuOMw_R46Y4"
      },
      "source": [
        ""
      ],
      "execution_count": null,
      "outputs": []
    },
    {
      "cell_type": "code",
      "metadata": {
        "id": "2W_3b7Ce46MZ"
      },
      "source": [
        ""
      ],
      "execution_count": null,
      "outputs": []
    },
    {
      "cell_type": "code",
      "metadata": {
        "id": "JFiqYtC44d3B"
      },
      "source": [
        ""
      ],
      "execution_count": null,
      "outputs": []
    },
    {
      "cell_type": "code",
      "metadata": {
        "id": "LvJ31gsI4c5Z"
      },
      "source": [
        ""
      ],
      "execution_count": null,
      "outputs": []
    },
    {
      "cell_type": "code",
      "metadata": {
        "id": "eXTGnt0b2poC"
      },
      "source": [
        "import seaborn as sns; import matplotlib.pyplot as plt;\n",
        "sns.set();\n",
        "\n",
        "my_palette = {0 : 'olive' , 1 : 'maroon'}\n",
        "#10-year risk of coronary heart disease CHD(binary: “1”, means “Yes”, “0” means “No”)"
      ],
      "execution_count": 60,
      "outputs": []
    },
    {
      "cell_type": "code",
      "metadata": {
        "id": "-cXzJF5r2xgB"
      },
      "source": [
        "from sklearn.preprocessing import StandardScaler"
      ],
      "execution_count": 61,
      "outputs": []
    },
    {
      "cell_type": "code",
      "metadata": {
        "id": "dRlgWjCSr2s-",
        "colab": {
          "base_uri": "https://localhost:8080/",
          "height": 502
        },
        "outputId": "be268a21-c7af-46eb-e787-2a1cdab81fef"
      },
      "source": [
        "plt.figure(figsize = (8,8))\n",
        "sns.countplot(x = cvs_df['sex'], hue = cvs_df['TenYearCHD'], palette = my_palette); plt.show()"
      ],
      "execution_count": 62,
      "outputs": [
        {
          "output_type": "display_data",
          "data": {
            "image/png": "[encoded data removed]",
            "text/plain": [
              "<Figure size 576x576 with 1 Axes>"
            ]
          },
          "metadata": {
            "tags": []
          }
        }
      ]
    },
    {
      "cell_type": "code",
      "metadata": {
        "colab": {
          "base_uri": "https://localhost:8080/",
          "height": 502
        },
        "id": "pWqLRIg72bQZ",
        "outputId": "56c5e57f-d8a0-40dc-9f1d-182637b047cd"
      },
      "source": [
        "plt.figure(figsize = (8,8))\n",
        "my_palette = {0 : 'grey' , 1 : 'orange'}\n",
        "sns.countplot(x = cvs_df['sex'], hue = cvs_df['diabetes'], palette = my_palette); plt.show()"
      ],
      "execution_count": 63,
      "outputs": [
        {
          "output_type": "display_data",
          "data": {
            "image/png": "[encoded data removed]",
            "text/plain": [
              "<Figure size 576x576 with 1 Axes>"
            ]
          },
          "metadata": {
            "tags": []
          }
        }
      ]
    },
    {
      "cell_type": "code",
      "metadata": {
        "colab": {
          "base_uri": "https://localhost:8080/",
          "height": 502
        },
        "id": "pkp1ZgQ-4ELP",
        "outputId": "18abb791-4815-4470-c054-0ee4b53082df"
      },
      "source": [
        "# Is diabetes patients are at more risk of CHD ??\n",
        "my_palette = {0 : 'purple' , 1 : 'black'}\n",
        "plt.figure(figsize = (8,8))\n",
        "sns.countplot(x = cvs_df['diabetes'], hue = cvs_df['TenYearCHD'], palette = my_palette);plt.show()"
      ],
      "execution_count": 84,
      "outputs": [
        {
          "output_type": "display_data",
          "data": {
            "image/png": "[encoded data removed]",
            "text/plain": [
              "<Figure size 576x576 with 1 Axes>"
            ]
          },
          "metadata": {
            "tags": []
          }
        }
      ]
    },
    {
      "cell_type": "code",
      "metadata": {
        "colab": {
          "base_uri": "https://localhost:8080/",
          "height": 502
        },
        "id": "dEBjuFg85u9a",
        "outputId": "50621486-ba78-4f07-c49a-967d6b7394a7"
      },
      "source": [
        "# Is smoking person are at more risk of CHD ??\n",
        "\n",
        "my_palette = {0 : 'teal' , 1 : 'yellow'}\n",
        "plt.figure(figsize = (8,8))\n",
        "sns.countplot(x = cvs_df['is_smoking'], hue = cvs_df['TenYearCHD'], palette = my_palette);plt.show()"
      ],
      "execution_count": 89,
      "outputs": [
        {
          "output_type": "display_data",
          "data": {
            "image/png": "[encoded data removed]",
            "text/plain": [
              "<Figure size 576x576 with 1 Axes>"
            ]
          },
          "metadata": {
            "tags": []
          }
        }
      ]
    },
    {
      "cell_type": "code",
      "metadata": {
        "colab": {
          "base_uri": "https://localhost:8080/",
          "height": 502
        },
        "id": "ZQmnLYRV-Yd1",
        "outputId": "ec8c33e3-60a2-44ae-fe1b-77b288719eec"
      },
      "source": [
        "# Is blood pressure patients are at more risk of CHD ??\n",
        "\n",
        "my_palette = {0 : 'Green' , 1 : 'Blue'}\n",
        "plt.figure(figsize = (8,8))\n",
        "sns.countplot(x = cvs_df['BPMeds'], hue = cvs_df['TenYearCHD'], palette = my_palette);plt.show()"
      ],
      "execution_count": 95,
      "outputs": [
        {
          "output_type": "display_data",
          "data": {
            "image/png": "[encoded data removed]",
            "text/plain": [
              "<Figure size 576x576 with 1 Axes>"
            ]
          },
          "metadata": {
            "tags": []
          }
        }
      ]
    },
    {
      "cell_type": "code",
      "metadata": {
        "id": "vc5S32ZL_8HM"
      },
      "source": [
        ""
      ],
      "execution_count": null,
      "outputs": []
    }
  ]
}