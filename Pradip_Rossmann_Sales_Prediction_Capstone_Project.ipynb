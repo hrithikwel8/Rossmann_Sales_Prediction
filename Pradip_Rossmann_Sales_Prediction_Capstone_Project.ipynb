{
  "nbformat": 4,
  "nbformat_minor": 0,
  "metadata": {
    "colab": {
      "name": "Pradip Rossmann Sales Prediction - Capstone Project.ipynb",
      "provenance": [],
      "collapsed_sections": [],
      "include_colab_link": true
    },
    "kernelspec": {
      "display_name": "Python 3",
      "language": "python",
      "name": "python3"
    },
    "language_info": {
      "codemirror_mode": {
        "name": "ipython",
        "version": 3
      },
      "file_extension": ".py",
      "mimetype": "text/x-python",
      "name": "python",
      "nbconvert_exporter": "python",
      "pygments_lexer": "ipython3",
      "version": "3.6.6"
    }
  },
  "cells": [
    {
      "cell_type": "markdown",
      "metadata": {
        "id": "view-in-github",
        "colab_type": "text"
      },
      "source": [
        "<a href=\"https://colab.research.google.com/github/hrithikwel8/Rossmann_Sales_Prediction/blob/main/Pradip_Rossmann_Sales_Prediction_Capstone_Project.ipynb\" target=\"_parent\"><img src=\"https://colab.research.google.com/assets/colab-badge.svg\" alt=\"Open In Colab\"/></a>"
      ]
    },
    {
      "cell_type": "markdown",
      "metadata": {
        "id": "tOGC-qoyhJeX"
      },
      "source": [
        "# <b><u> Project Title : Sales Prediction : Predicting sales of a major store chain Rossmann</u></b>"
      ]
    },
    {
      "cell_type": "markdown",
      "metadata": {
        "id": "Y06xIdG26kRF"
      },
      "source": [
        "## <b> Problem Description </b>\n",
        "\n",
        "### Rossmann operates over 3,000 drug stores in 7 European countries. Currently, Rossmann store managers are tasked with predicting their daily sales for up to six weeks in advance. Store sales are influenced by many factors, including promotions, competition, school and state holidays, seasonality, and locality. With thousands of individual managers predicting sales based on their unique circumstances, the accuracy of results can be quite varied.\n",
        "\n",
        "### You are provided with historical sales data for 1,115 Rossmann stores. The task is to forecast the \"Sales\" column for the test set. Note that some stores in the dataset were temporarily closed for refurbishment."
      ]
    },
    {
      "cell_type": "markdown",
      "metadata": {
        "id": "WWeU1f9bwqQq"
      },
      "source": [
        "## <b> Data Description </b>\n",
        "\n",
        "### <b>Rossmann Stores Data.csv </b> - historical data including Sales\n",
        "### <b>store.csv </b> - supplemental information about the stores\n",
        "\n",
        "\n",
        "### <b><u>Data fields</u></b>\n",
        "### Most of the fields are self-explanatory. The following are descriptions for those that aren't.\n",
        "\n",
        "* #### Id - an Id that represents a (Store, Date) duple within the test set\n",
        "* #### Store - a unique Id for each store\n",
        "* #### Sales - the turnover for any given day (this is what you are predicting)\n",
        "* #### Customers - the number of customers on a given day\n",
        "* #### Open - an indicator for whether the store was open: 0 = closed, 1 = open\n",
        "* #### StateHoliday - indicates a state holiday. Normally all stores, with few exceptions, are closed on state holidays. Note that all schools are closed on public holidays and weekends. a = public holiday, b = Easter holiday, c = Christmas, 0 = None\n",
        "* #### SchoolHoliday - indicates if the (Store, Date) was affected by the closure of public schools\n",
        "* #### StoreType - differentiates between 4 different store models: a, b, c, d\n",
        "* #### Assortment - describes an assortment level: a = basic, b = extra, c = extended\n",
        "* #### CompetitionDistance - distance in meters to the nearest competitor store\n",
        "* #### CompetitionOpenSince[Month/Year] - gives the approximate year and month of the time the nearest competitor was opened\n",
        "* #### Promo - indicates whether a store is running a promo on that day\n",
        "* #### Promo2 - Promo2 is a continuing and consecutive promotion for some stores: 0 = store is not participating, 1 = store is participating\n",
        "* #### Promo2Since[Year/Week] - describes the year and calendar week when the store started participating in Promo2\n",
        "* #### PromoInterval - describes the consecutive intervals Promo2 is started, naming the months the promotion is started anew. E.g. \"Feb,May,Aug,Nov\" means each round starts in February, May, August, November of any given year for that store"
      ]
    },
    {
      "cell_type": "code",
      "metadata": {
        "id": "dByMsuzT8Tnw",
        "colab": {
          "base_uri": "https://localhost:8080/"
        },
        "outputId": "c6f29b7c-f813-4f9f-be8d-370ae2b62fd2"
      },
      "source": [
        "# Importing the libraries\n",
        "import numpy as np\n",
        "import pandas as pd\n",
        "from datetime import date, timedelta\n",
        "import matplotlib.pyplot as plt\n",
        "import seaborn as sns\n",
        "import random\n",
        "\n",
        "from statsmodels.stats.outliers_influence import variance_inflation_factor\n",
        "from sklearn.preprocessing import MinMaxScaler\n",
        "from sklearn.model_selection import train_test_split\n",
        "from sklearn.model_selection import GridSearchCV\n",
        "from sklearn.linear_model import LinearRegression\n",
        "from sklearn.linear_model import Lasso\n",
        "from sklearn.linear_model import Ridge\n",
        "from sklearn.linear_model import ElasticNet\n",
        "from sklearn.metrics import r2_score\n",
        "from sklearn.metrics import mean_squared_error\n",
        "\n",
        "import warnings\n",
        "warnings.filterwarnings('ignore')\n",
        "%matplotlib inline"
      ],
      "execution_count": null,
      "outputs": [
        {
          "output_type": "stream",
          "text": [
            "/usr/local/lib/python3.7/dist-packages/statsmodels/tools/_testing.py:19: FutureWarning: pandas.util.testing is deprecated. Use the functions in the public API at pandas.testing instead.\n",
            "  import pandas.util.testing as tm\n"
          ],
          "name": "stderr"
        }
      ]
    },
    {
      "cell_type": "code",
      "metadata": {
        "colab": {
          "base_uri": "https://localhost:8080/"
        },
        "id": "diGLcqjo71wi",
        "outputId": "5980f261-8256-42ec-89e0-05c3b95efdec"
      },
      "source": [
        "from google.colab import drive\n",
        "drive.mount('/content/drive')"
      ],
      "execution_count": null,
      "outputs": [
        {
          "output_type": "stream",
          "text": [
            "Drive already mounted at /content/drive; to attempt to forcibly remount, call drive.mount(\"/content/drive\", force_remount=True).\n"
          ],
          "name": "stdout"
        }
      ]
    },
    {
      "cell_type": "code",
      "metadata": {
        "id": "rwGeoAGRW_km"
      },
      "source": [
        "path = '/content/drive/MyDrive/Capstone Project/Retail Sales Prediction/data/'\n",
        "store_data_df = pd.read_csv(path + 'Rossmann Stores Data.csv')\n",
        "store_df = pd.read_csv(path + 'store.csv')"
      ],
      "execution_count": null,
      "outputs": []
    },
    {
      "cell_type": "markdown",
      "metadata": {
        "id": "7W8KSHtIrrm9"
      },
      "source": [
        "#1. EDA"
      ]
    },
    {
      "cell_type": "markdown",
      "metadata": {
        "id": "qm5kM6SeP2m5"
      },
      "source": [
        "Now let's explore \"Rossmann Stores Data.csv\" data file."
      ]
    },
    {
      "cell_type": "code",
      "metadata": {
        "colab": {
          "base_uri": "https://localhost:8080/"
        },
        "id": "c8qsupdll7r0",
        "outputId": "f9d21ea8-2631-4824-effe-0a33ff431c43"
      },
      "source": [
        "store_data_df.info()"
      ],
      "execution_count": null,
      "outputs": [
        {
          "output_type": "stream",
          "text": [
            "<class 'pandas.core.frame.DataFrame'>\n",
            "RangeIndex: 1017209 entries, 0 to 1017208\n",
            "Data columns (total 9 columns):\n",
            " #   Column         Non-Null Count    Dtype \n",
            "---  ------         --------------    ----- \n",
            " 0   Store          1017209 non-null  int64 \n",
            " 1   DayOfWeek      1017209 non-null  int64 \n",
            " 2   Date           1017209 non-null  object\n",
            " 3   Sales          1017209 non-null  int64 \n",
            " 4   Customers      1017209 non-null  int64 \n",
            " 5   Open           1017209 non-null  int64 \n",
            " 6   Promo          1017209 non-null  int64 \n",
            " 7   StateHoliday   1017209 non-null  object\n",
            " 8   SchoolHoliday  1017209 non-null  int64 \n",
            "dtypes: int64(7), object(2)\n",
            "memory usage: 69.8+ MB\n"
          ],
          "name": "stdout"
        }
      ]
    },
    {
      "cell_type": "markdown",
      "metadata": {
        "id": "6dLGkVZjQMpx"
      },
      "source": [
        "This dataset contains information about a particular day for all the stores. Date column contains information about the date on which data is collected.\n",
        "\n",
        "This dataset contains our dependent variable 'Sales' which we need to predict.\n",
        "We have information about the number of customers that visited the store on the date.\n",
        "\n",
        "Open column gives information if the store was open or closed on the date.\n",
        "We also have information about state holidays and school holidays.\n",
        "\n",
        "Promo column contains information about a promotion offer running on a particular day. This is a special promotional offer that runs for only a given day."
      ]
    },
    {
      "cell_type": "code",
      "metadata": {
        "colab": {
          "base_uri": "https://localhost:8080/",
          "height": 300
        },
        "id": "HnZgsxhomEM3",
        "outputId": "fe0e2b7f-2ae3-4eba-9ba0-907af64db62a"
      },
      "source": [
        "store_data_df.describe()"
      ],
      "execution_count": null,
      "outputs": [
        {
          "output_type": "execute_result",
          "data": {
            "text/html": [
              "<div>\n",
              "<style scoped>\n",
              "    .dataframe tbody tr th:only-of-type {\n",
              "        vertical-align: middle;\n",
              "    }\n",
              "\n",
              "    .dataframe tbody tr th {\n",
              "        vertical-align: top;\n",
              "    }\n",
              "\n",
              "    .dataframe thead th {\n",
              "        text-align: right;\n",
              "    }\n",
              "</style>\n",
              "<table border=\"1\" class=\"dataframe\">\n",
              "  <thead>\n",
              "    <tr style=\"text-align: right;\">\n",
              "      <th></th>\n",
              "      <th>Store</th>\n",
              "      <th>DayOfWeek</th>\n",
              "      <th>Sales</th>\n",
              "      <th>Customers</th>\n",
              "      <th>Open</th>\n",
              "      <th>Promo</th>\n",
              "      <th>SchoolHoliday</th>\n",
              "    </tr>\n",
              "  </thead>\n",
              "  <tbody>\n",
              "    <tr>\n",
              "      <th>count</th>\n",
              "      <td>1.017209e+06</td>\n",
              "      <td>1.017209e+06</td>\n",
              "      <td>1.017209e+06</td>\n",
              "      <td>1.017209e+06</td>\n",
              "      <td>1.017209e+06</td>\n",
              "      <td>1.017209e+06</td>\n",
              "      <td>1.017209e+06</td>\n",
              "    </tr>\n",
              "    <tr>\n",
              "      <th>mean</th>\n",
              "      <td>5.584297e+02</td>\n",
              "      <td>3.998341e+00</td>\n",
              "      <td>5.773819e+03</td>\n",
              "      <td>6.331459e+02</td>\n",
              "      <td>8.301067e-01</td>\n",
              "      <td>3.815145e-01</td>\n",
              "      <td>1.786467e-01</td>\n",
              "    </tr>\n",
              "    <tr>\n",
              "      <th>std</th>\n",
              "      <td>3.219087e+02</td>\n",
              "      <td>1.997391e+00</td>\n",
              "      <td>3.849926e+03</td>\n",
              "      <td>4.644117e+02</td>\n",
              "      <td>3.755392e-01</td>\n",
              "      <td>4.857586e-01</td>\n",
              "      <td>3.830564e-01</td>\n",
              "    </tr>\n",
              "    <tr>\n",
              "      <th>min</th>\n",
              "      <td>1.000000e+00</td>\n",
              "      <td>1.000000e+00</td>\n",
              "      <td>0.000000e+00</td>\n",
              "      <td>0.000000e+00</td>\n",
              "      <td>0.000000e+00</td>\n",
              "      <td>0.000000e+00</td>\n",
              "      <td>0.000000e+00</td>\n",
              "    </tr>\n",
              "    <tr>\n",
              "      <th>25%</th>\n",
              "      <td>2.800000e+02</td>\n",
              "      <td>2.000000e+00</td>\n",
              "      <td>3.727000e+03</td>\n",
              "      <td>4.050000e+02</td>\n",
              "      <td>1.000000e+00</td>\n",
              "      <td>0.000000e+00</td>\n",
              "      <td>0.000000e+00</td>\n",
              "    </tr>\n",
              "    <tr>\n",
              "      <th>50%</th>\n",
              "      <td>5.580000e+02</td>\n",
              "      <td>4.000000e+00</td>\n",
              "      <td>5.744000e+03</td>\n",
              "      <td>6.090000e+02</td>\n",
              "      <td>1.000000e+00</td>\n",
              "      <td>0.000000e+00</td>\n",
              "      <td>0.000000e+00</td>\n",
              "    </tr>\n",
              "    <tr>\n",
              "      <th>75%</th>\n",
              "      <td>8.380000e+02</td>\n",
              "      <td>6.000000e+00</td>\n",
              "      <td>7.856000e+03</td>\n",
              "      <td>8.370000e+02</td>\n",
              "      <td>1.000000e+00</td>\n",
              "      <td>1.000000e+00</td>\n",
              "      <td>0.000000e+00</td>\n",
              "    </tr>\n",
              "    <tr>\n",
              "      <th>max</th>\n",
              "      <td>1.115000e+03</td>\n",
              "      <td>7.000000e+00</td>\n",
              "      <td>4.155100e+04</td>\n",
              "      <td>7.388000e+03</td>\n",
              "      <td>1.000000e+00</td>\n",
              "      <td>1.000000e+00</td>\n",
              "      <td>1.000000e+00</td>\n",
              "    </tr>\n",
              "  </tbody>\n",
              "</table>\n",
              "</div>"
            ],
            "text/plain": [
              "              Store     DayOfWeek  ...         Promo  SchoolHoliday\n",
              "count  1.017209e+06  1.017209e+06  ...  1.017209e+06   1.017209e+06\n",
              "mean   5.584297e+02  3.998341e+00  ...  3.815145e-01   1.786467e-01\n",
              "std    3.219087e+02  1.997391e+00  ...  4.857586e-01   3.830564e-01\n",
              "min    1.000000e+00  1.000000e+00  ...  0.000000e+00   0.000000e+00\n",
              "25%    2.800000e+02  2.000000e+00  ...  0.000000e+00   0.000000e+00\n",
              "50%    5.580000e+02  4.000000e+00  ...  0.000000e+00   0.000000e+00\n",
              "75%    8.380000e+02  6.000000e+00  ...  1.000000e+00   0.000000e+00\n",
              "max    1.115000e+03  7.000000e+00  ...  1.000000e+00   1.000000e+00\n",
              "\n",
              "[8 rows x 7 columns]"
            ]
          },
          "metadata": {
            "tags": []
          },
          "execution_count": 24
        }
      ]
    },
    {
      "cell_type": "markdown",
      "metadata": {
        "id": "naaL6SBkcgvb"
      },
      "source": [
        "Let's find out how many stores are open and how many are closed from the dates given in the dataset.\n",
        "\n",
        "This information gives us an idea about what is the probability of the store being open on a particular date."
      ]
    },
    {
      "cell_type": "code",
      "metadata": {
        "colab": {
          "base_uri": "https://localhost:8080/",
          "height": 408
        },
        "id": "A_mui0uKmNDV",
        "outputId": "79fa68d9-cfd1-4944-f985-57e8b4c40e8b"
      },
      "source": [
        "# number of stores open on a given day\n",
        "plt.figure(figsize=(8,6))\n",
        "count = sns.countplot(x=store_data_df['Open'])\n",
        "count.set_title('Number of stores open on given dates')\n",
        "count.set_xticklabels(['closed', 'open'])\n",
        "count.set_xlabel('')"
      ],
      "execution_count": null,
      "outputs": [
        {
          "output_type": "execute_result",
          "data": {
            "text/plain": [
              "Text(0.5, 0, '')"
            ]
          },
          "metadata": {
            "tags": []
          },
          "execution_count": 25
        },
        {
          "output_type": "display_data",
          "data": {
            "image/png": "[encoded data removed]",
            "text/plain": [
              "<Figure size 576x432 with 1 Axes>"
            ]
          },
          "metadata": {
            "tags": [],
            "needs_background": "light"
          }
        }
      ]
    },
    {
      "cell_type": "markdown",
      "metadata": {
        "id": "WY1EftGLeOgZ"
      },
      "source": [
        "Promotional offers attract more customers that lead to increase in sales. Let's find out how many stores run a promotional offer on given dates."
      ]
    },
    {
      "cell_type": "code",
      "metadata": {
        "colab": {
          "base_uri": "https://localhost:8080/",
          "height": 408
        },
        "id": "7oCVzD09mSB8",
        "outputId": "8e88a691-9234-45f4-e37f-beb301733927"
      },
      "source": [
        "# number of promo \n",
        "plt.figure(figsize=(8,6))\n",
        "count = sns.countplot(x=store_data_df['Promo'])\n",
        "count.set_title('Number of stores running promo on given dates')\n",
        "count.set_xticklabels(['No', 'Yes'])\n",
        "count.set_xlabel('')"
      ],
      "execution_count": null,
      "outputs": [
        {
          "output_type": "execute_result",
          "data": {
            "text/plain": [
              "Text(0.5, 0, '')"
            ]
          },
          "metadata": {
            "tags": []
          },
          "execution_count": 26
        },
        {
          "output_type": "display_data",
          "data": {
            "image/png": "[encoded data removed]",
            "text/plain": [
              "<Figure size 576x432 with 1 Axes>"
            ]
          },
          "metadata": {
            "tags": [],
            "needs_background": "light"
          }
        }
      ]
    },
    {
      "cell_type": "markdown",
      "metadata": {
        "id": "Un-Lw0wbfE_4"
      },
      "source": [
        "On school holidays schools remain closed. Does this affect the Sales of stores? Let's find out the number of days schools are closed."
      ]
    },
    {
      "cell_type": "code",
      "metadata": {
        "colab": {
          "base_uri": "https://localhost:8080/",
          "height": 408
        },
        "id": "KCmHy2zXmVu5",
        "outputId": "9565e6c1-0da6-4ec5-dc64-5bdc5f00e378"
      },
      "source": [
        "# number of school holiday\n",
        "plt.figure(figsize=(8,6))\n",
        "count = sns.countplot(x=store_data_df['SchoolHoliday'])\n",
        "count.set_title('Number of days school are closed')\n",
        "count.set_xticklabels(['open', 'closed'])\n",
        "count.set_xlabel('')"
      ],
      "execution_count": null,
      "outputs": [
        {
          "output_type": "execute_result",
          "data": {
            "text/plain": [
              "Text(0.5, 0, '')"
            ]
          },
          "metadata": {
            "tags": []
          },
          "execution_count": 27
        },
        {
          "output_type": "display_data",
          "data": {
            "image/png": "[encoded data removed]",
            "text/plain": [
              "<Figure size 576x432 with 1 Axes>"
            ]
          },
          "metadata": {
            "tags": [],
            "needs_background": "light"
          }
        }
      ]
    },
    {
      "cell_type": "code",
      "metadata": {
        "colab": {
          "base_uri": "https://localhost:8080/"
        },
        "id": "emAMWXZ0mYoQ",
        "outputId": "a9316a6c-d937-47d0-c664-7eb0cbf596c0"
      },
      "source": [
        "store_data_df['StateHoliday'].value_counts()"
      ],
      "execution_count": null,
      "outputs": [
        {
          "output_type": "execute_result",
          "data": {
            "text/plain": [
              "0    855087\n",
              "0    131072\n",
              "a     20260\n",
              "b      6690\n",
              "c      4100\n",
              "Name: StateHoliday, dtype: int64"
            ]
          },
          "metadata": {
            "tags": []
          },
          "execution_count": 28
        }
      ]
    },
    {
      "cell_type": "markdown",
      "metadata": {
        "id": "DAl1I8y5fsQm"
      },
      "source": [
        "The state holiday data is mixed data of 'string' and 'int' type of variable.\n",
        "\n",
        "The data contains information about the type of holiday. There are 3 types of holidays, we can make 3 new features for each holiday and convert them to a binary value."
      ]
    },
    {
      "cell_type": "code",
      "metadata": {
        "id": "Ngn8MdH2mcTD"
      },
      "source": [
        "# convert StateHoliday to binary value features\n",
        "# 1 indicates holiday and 0 indicates no holiday\n",
        "store_data_df['public_holiday'] = store_data_df['StateHoliday'].apply(lambda x: 1 if x=='a' else 0)\n",
        "store_data_df['easter_holiday'] = store_data_df['StateHoliday'].apply(lambda x: 1 if x=='b' else 0)\n",
        "store_data_df['christmas'] = store_data_df['StateHoliday'].apply(lambda x: 1 if x=='c' else 0)\n",
        "store_data_df.drop(columns=['StateHoliday'], inplace=True)"
      ],
      "execution_count": null,
      "outputs": []
    },
    {
      "cell_type": "code",
      "metadata": {
        "colab": {
          "base_uri": "https://localhost:8080/"
        },
        "id": "IwwlsX0zmiyS",
        "outputId": "0e0ee569-f5fe-4fc4-b304-cef9085da835"
      },
      "source": [
        "store_data_df['public_holiday'].value_counts()"
      ],
      "execution_count": null,
      "outputs": [
        {
          "output_type": "execute_result",
          "data": {
            "text/plain": [
              "0    996949\n",
              "1     20260\n",
              "Name: public_holiday, dtype: int64"
            ]
          },
          "metadata": {
            "tags": []
          },
          "execution_count": 30
        }
      ]
    },
    {
      "cell_type": "code",
      "metadata": {
        "colab": {
          "base_uri": "https://localhost:8080/"
        },
        "id": "xwHJPkDGmlOm",
        "outputId": "4e7becf2-2ba1-4655-af5e-a322ebf6e603"
      },
      "source": [
        "store_data_df['easter_holiday'].value_counts()"
      ],
      "execution_count": null,
      "outputs": [
        {
          "output_type": "execute_result",
          "data": {
            "text/plain": [
              "0    1010519\n",
              "1       6690\n",
              "Name: easter_holiday, dtype: int64"
            ]
          },
          "metadata": {
            "tags": []
          },
          "execution_count": 31
        }
      ]
    },
    {
      "cell_type": "code",
      "metadata": {
        "colab": {
          "base_uri": "https://localhost:8080/"
        },
        "id": "pl_rtA6rmpO7",
        "outputId": "4b1fbdb0-ba65-47e4-800b-cb80a11dc4c8"
      },
      "source": [
        "store_data_df['christmas'].value_counts()"
      ],
      "execution_count": null,
      "outputs": [
        {
          "output_type": "execute_result",
          "data": {
            "text/plain": [
              "0    1013109\n",
              "1       4100\n",
              "Name: christmas, dtype: int64"
            ]
          },
          "metadata": {
            "tags": []
          },
          "execution_count": 32
        }
      ]
    },
    {
      "cell_type": "markdown",
      "metadata": {
        "id": "E-xu2lpnhzfd"
      },
      "source": [
        "After getting the numbers of holidays, we can see the ratio of the holiday celebrated by stores. Let's see how many holidays are celebrated by the stores on given dates."
      ]
    },
    {
      "cell_type": "code",
      "metadata": {
        "colab": {
          "base_uri": "https://localhost:8080/",
          "height": 408
        },
        "id": "Pv09p50zmrk_",
        "outputId": "c2d778e3-4244-4661-d8e6-f0bca580ac33"
      },
      "source": [
        "# plot number of holidays present in dataset\n",
        "plt.figure(figsize=(8,6))\n",
        "sns.barplot(x=['Public holiday','Easter holiday','Christmas'],\n",
        "            y=[store_data_df['public_holiday'].value_counts()[1],store_data_df['easter_holiday'].value_counts()[1],store_data_df['christmas'].value_counts()[1]])\n",
        "plt.title('Number of Holidays celebrated by stores')"
      ],
      "execution_count": null,
      "outputs": [
        {
          "output_type": "execute_result",
          "data": {
            "text/plain": [
              "Text(0.5, 1.0, 'Number of Holidays celebrated by stores')"
            ]
          },
          "metadata": {
            "tags": []
          },
          "execution_count": 33
        },
        {
          "output_type": "display_data",
          "data": {
            "image/png": "[encoded data removed]",
            "text/plain": [
              "<Figure size 576x432 with 1 Axes>"
            ]
          },
          "metadata": {
            "tags": [],
            "needs_background": "light"
          }
        }
      ]
    },
    {
      "cell_type": "markdown",
      "metadata": {
        "id": "kn1Q4iftimr5"
      },
      "source": [
        "We have given information about stores being closed for refurbishment. We can assume that data for the stores that are closed for refurbishment is not present.\n",
        "Let's see how many days contain information about how many store data. "
      ]
    },
    {
      "cell_type": "code",
      "metadata": {
        "colab": {
          "base_uri": "https://localhost:8080/",
          "height": 422
        },
        "id": "YoOgSy3cyZUZ",
        "outputId": "b8697106-b3ba-44c0-8131-75b5e75530aa"
      },
      "source": [
        "# count number of stores data given by date\n",
        "plt.figure(figsize=(8,6))\n",
        "sns.countplot(store_data_df.groupby(['Date'])['Store'].count())\n",
        "plt.title('Number of Store data given by date')"
      ],
      "execution_count": null,
      "outputs": [
        {
          "output_type": "execute_result",
          "data": {
            "text/plain": [
              "Text(0.5, 1.0, 'Number of Store data given by date')"
            ]
          },
          "metadata": {
            "tags": []
          },
          "execution_count": 34
        },
        {
          "output_type": "display_data",
          "data": {
            "image/png": "[encoded data removed]",
            "text/plain": [
              "<Figure size 576x432 with 1 Axes>"
            ]
          },
          "metadata": {
            "tags": [],
            "needs_background": "light"
          }
        }
      ]
    },
    {
      "cell_type": "code",
      "metadata": {
        "colab": {
          "base_uri": "https://localhost:8080/"
        },
        "id": "D-P4ZkFH0PgM",
        "outputId": "b94b4fe0-b35b-4431-85c7-9e1b60f84177"
      },
      "source": [
        "store_data_df.groupby(['Date'])['Store'].count().value_counts()"
      ],
      "execution_count": null,
      "outputs": [
        {
          "output_type": "execute_result",
          "data": {
            "text/plain": [
              "1115    757\n",
              "935     184\n",
              "1114      1\n",
              "Name: Store, dtype: int64"
            ]
          },
          "metadata": {
            "tags": []
          },
          "execution_count": 35
        }
      ]
    },
    {
      "cell_type": "markdown",
      "metadata": {
        "id": "XnUlcSIdz8QW"
      },
      "source": [
        "Data for 170 stores is not given for 184 days. \n",
        "\n",
        "We can assume that these stores are closed for refurbishment.\n",
        "\n",
        "The dates are given as string we can convert them to 3 new columns 'Day, Month and Year'."
      ]
    },
    {
      "cell_type": "code",
      "metadata": {
        "id": "8J5LYjDGmGeq"
      },
      "source": [
        "# changing date from string to integer values\n",
        "def get_year(date):\n",
        "  year = date[:4]\n",
        "  return int(year)\n",
        "def get_month(date):\n",
        "  month = date[5:7]\n",
        "  return int(month)\n",
        "def get_day(date):\n",
        "  day = date[8:]\n",
        "  return int(day)"
      ],
      "execution_count": null,
      "outputs": []
    },
    {
      "cell_type": "code",
      "metadata": {
        "id": "KJoX_RduGzAf"
      },
      "source": [
        "# create new features\n",
        "store_data_df['Year'] = store_data_df['Date'].apply(lambda x: get_year(x))\n",
        "store_data_df['Month'] = store_data_df['Date'].apply(lambda x: get_month(x))\n",
        "store_data_df['Day'] = store_data_df['Date'].apply(lambda x: get_day(x))\n",
        "# remove old Date column\n",
        "store_data_df.drop(columns=['Date'], inplace=True)"
      ],
      "execution_count": null,
      "outputs": []
    },
    {
      "cell_type": "code",
      "metadata": {
        "colab": {
          "base_uri": "https://localhost:8080/",
          "height": 206
        },
        "id": "nogBoQt7mKX0",
        "outputId": "0ad8e23c-676c-4b15-e5fc-619c3e5724dc"
      },
      "source": [
        "store_data_df.head()"
      ],
      "execution_count": null,
      "outputs": [
        {
          "output_type": "execute_result",
          "data": {
            "text/html": [
              "<div>\n",
              "<style scoped>\n",
              "    .dataframe tbody tr th:only-of-type {\n",
              "        vertical-align: middle;\n",
              "    }\n",
              "\n",
              "    .dataframe tbody tr th {\n",
              "        vertical-align: top;\n",
              "    }\n",
              "\n",
              "    .dataframe thead th {\n",
              "        text-align: right;\n",
              "    }\n",
              "</style>\n",
              "<table border=\"1\" class=\"dataframe\">\n",
              "  <thead>\n",
              "    <tr style=\"text-align: right;\">\n",
              "      <th></th>\n",
              "      <th>Store</th>\n",
              "      <th>DayOfWeek</th>\n",
              "      <th>Sales</th>\n",
              "      <th>Customers</th>\n",
              "      <th>Open</th>\n",
              "      <th>Promo</th>\n",
              "      <th>SchoolHoliday</th>\n",
              "      <th>public_holiday</th>\n",
              "      <th>easter_holiday</th>\n",
              "      <th>christmas</th>\n",
              "      <th>Year</th>\n",
              "      <th>Month</th>\n",
              "      <th>Day</th>\n",
              "    </tr>\n",
              "  </thead>\n",
              "  <tbody>\n",
              "    <tr>\n",
              "      <th>0</th>\n",
              "      <td>1</td>\n",
              "      <td>5</td>\n",
              "      <td>5263</td>\n",
              "      <td>555</td>\n",
              "      <td>1</td>\n",
              "      <td>1</td>\n",
              "      <td>1</td>\n",
              "      <td>0</td>\n",
              "      <td>0</td>\n",
              "      <td>0</td>\n",
              "      <td>2015</td>\n",
              "      <td>7</td>\n",
              "      <td>31</td>\n",
              "    </tr>\n",
              "    <tr>\n",
              "      <th>1</th>\n",
              "      <td>2</td>\n",
              "      <td>5</td>\n",
              "      <td>6064</td>\n",
              "      <td>625</td>\n",
              "      <td>1</td>\n",
              "      <td>1</td>\n",
              "      <td>1</td>\n",
              "      <td>0</td>\n",
              "      <td>0</td>\n",
              "      <td>0</td>\n",
              "      <td>2015</td>\n",
              "      <td>7</td>\n",
              "      <td>31</td>\n",
              "    </tr>\n",
              "    <tr>\n",
              "      <th>2</th>\n",
              "      <td>3</td>\n",
              "      <td>5</td>\n",
              "      <td>8314</td>\n",
              "      <td>821</td>\n",
              "      <td>1</td>\n",
              "      <td>1</td>\n",
              "      <td>1</td>\n",
              "      <td>0</td>\n",
              "      <td>0</td>\n",
              "      <td>0</td>\n",
              "      <td>2015</td>\n",
              "      <td>7</td>\n",
              "      <td>31</td>\n",
              "    </tr>\n",
              "    <tr>\n",
              "      <th>3</th>\n",
              "      <td>4</td>\n",
              "      <td>5</td>\n",
              "      <td>13995</td>\n",
              "      <td>1498</td>\n",
              "      <td>1</td>\n",
              "      <td>1</td>\n",
              "      <td>1</td>\n",
              "      <td>0</td>\n",
              "      <td>0</td>\n",
              "      <td>0</td>\n",
              "      <td>2015</td>\n",
              "      <td>7</td>\n",
              "      <td>31</td>\n",
              "    </tr>\n",
              "    <tr>\n",
              "      <th>4</th>\n",
              "      <td>5</td>\n",
              "      <td>5</td>\n",
              "      <td>4822</td>\n",
              "      <td>559</td>\n",
              "      <td>1</td>\n",
              "      <td>1</td>\n",
              "      <td>1</td>\n",
              "      <td>0</td>\n",
              "      <td>0</td>\n",
              "      <td>0</td>\n",
              "      <td>2015</td>\n",
              "      <td>7</td>\n",
              "      <td>31</td>\n",
              "    </tr>\n",
              "  </tbody>\n",
              "</table>\n",
              "</div>"
            ],
            "text/plain": [
              "   Store  DayOfWeek  Sales  Customers  ...  christmas  Year  Month  Day\n",
              "0      1          5   5263        555  ...          0  2015      7   31\n",
              "1      2          5   6064        625  ...          0  2015      7   31\n",
              "2      3          5   8314        821  ...          0  2015      7   31\n",
              "3      4          5  13995       1498  ...          0  2015      7   31\n",
              "4      5          5   4822        559  ...          0  2015      7   31\n",
              "\n",
              "[5 rows x 13 columns]"
            ]
          },
          "metadata": {
            "tags": []
          },
          "execution_count": 38
        }
      ]
    },
    {
      "cell_type": "code",
      "metadata": {
        "colab": {
          "base_uri": "https://localhost:8080/",
          "height": 143
        },
        "id": "a1pvxo5qmyx-",
        "outputId": "c91106e6-fbb2-450c-b286-4c5b8767be87"
      },
      "source": [
        "# checking senity of data\n",
        "store_open_df = store_data_df.groupby(['Open']).sum()\n",
        "store_open_df"
      ],
      "execution_count": null,
      "outputs": [
        {
          "output_type": "execute_result",
          "data": {
            "text/html": [
              "<div>\n",
              "<style scoped>\n",
              "    .dataframe tbody tr th:only-of-type {\n",
              "        vertical-align: middle;\n",
              "    }\n",
              "\n",
              "    .dataframe tbody tr th {\n",
              "        vertical-align: top;\n",
              "    }\n",
              "\n",
              "    .dataframe thead th {\n",
              "        text-align: right;\n",
              "    }\n",
              "</style>\n",
              "<table border=\"1\" class=\"dataframe\">\n",
              "  <thead>\n",
              "    <tr style=\"text-align: right;\">\n",
              "      <th></th>\n",
              "      <th>Store</th>\n",
              "      <th>DayOfWeek</th>\n",
              "      <th>Sales</th>\n",
              "      <th>Customers</th>\n",
              "      <th>Promo</th>\n",
              "      <th>SchoolHoliday</th>\n",
              "      <th>public_holiday</th>\n",
              "      <th>easter_holiday</th>\n",
              "      <th>christmas</th>\n",
              "      <th>Year</th>\n",
              "      <th>Month</th>\n",
              "      <th>Day</th>\n",
              "    </tr>\n",
              "    <tr>\n",
              "      <th>Open</th>\n",
              "      <th></th>\n",
              "      <th></th>\n",
              "      <th></th>\n",
              "      <th></th>\n",
              "      <th></th>\n",
              "      <th></th>\n",
              "      <th></th>\n",
              "      <th></th>\n",
              "      <th></th>\n",
              "      <th></th>\n",
              "      <th></th>\n",
              "      <th></th>\n",
              "    </tr>\n",
              "  </thead>\n",
              "  <tbody>\n",
              "    <tr>\n",
              "      <th>0</th>\n",
              "      <td>96511898</td>\n",
              "      <td>1094583</td>\n",
              "      <td>0</td>\n",
              "      <td>0</td>\n",
              "      <td>11184</td>\n",
              "      <td>18264</td>\n",
              "      <td>19566</td>\n",
              "      <td>6545</td>\n",
              "      <td>4029</td>\n",
              "      <td>348024755</td>\n",
              "      <td>1011285</td>\n",
              "      <td>2601495</td>\n",
              "    </tr>\n",
              "    <tr>\n",
              "      <th>1</th>\n",
              "      <td>471527846</td>\n",
              "      <td>2972565</td>\n",
              "      <td>5873180623</td>\n",
              "      <td>644041755</td>\n",
              "      <td>376896</td>\n",
              "      <td>163457</td>\n",
              "      <td>694</td>\n",
              "      <td>145</td>\n",
              "      <td>71</td>\n",
              "      <td>1700463577</td>\n",
              "      <td>4936094</td>\n",
              "      <td>13371524</td>\n",
              "    </tr>\n",
              "  </tbody>\n",
              "</table>\n",
              "</div>"
            ],
            "text/plain": [
              "          Store  DayOfWeek       Sales  ...        Year    Month       Day\n",
              "Open                                    ...                               \n",
              "0      96511898    1094583           0  ...   348024755  1011285   2601495\n",
              "1     471527846    2972565  5873180623  ...  1700463577  4936094  13371524\n",
              "\n",
              "[2 rows x 12 columns]"
            ]
          },
          "metadata": {
            "tags": []
          },
          "execution_count": 39
        }
      ]
    },
    {
      "cell_type": "markdown",
      "metadata": {
        "id": "zT3-5iODkvD_"
      },
      "source": [
        "We have information about holidays. But how to make it useful in Sales predictions?\n",
        "\n",
        "We know that we don't make any sales when a store is closed.\n",
        "\n",
        "So, if we can figure out how many stores are closed on holidays, we can use this data to calculate the probability of how many stores will be open for a given holiday.\n",
        "\n",
        "From this probability, we can predict if the store is going to be open on a particular day or not."
      ]
    },
    {
      "cell_type": "code",
      "metadata": {
        "colab": {
          "base_uri": "https://localhost:8080/",
          "height": 112
        },
        "id": "BHNrAH2Xm1X3",
        "outputId": "305cc190-68a6-4c69-d545-866c640a517c"
      },
      "source": [
        "# calculate number of stores open on holidays\n",
        "store_holiday_df = store_open_df[['SchoolHoliday', 'public_holiday', 'easter_holiday', 'christmas']].reset_index()\n",
        "store_holiday_df['Open'] = store_holiday_df['Open'].apply(lambda x: 'Open' if x==1 else 'Closed')\n",
        "store_holiday_df"
      ],
      "execution_count": null,
      "outputs": [
        {
          "output_type": "execute_result",
          "data": {
            "text/html": [
              "<div>\n",
              "<style scoped>\n",
              "    .dataframe tbody tr th:only-of-type {\n",
              "        vertical-align: middle;\n",
              "    }\n",
              "\n",
              "    .dataframe tbody tr th {\n",
              "        vertical-align: top;\n",
              "    }\n",
              "\n",
              "    .dataframe thead th {\n",
              "        text-align: right;\n",
              "    }\n",
              "</style>\n",
              "<table border=\"1\" class=\"dataframe\">\n",
              "  <thead>\n",
              "    <tr style=\"text-align: right;\">\n",
              "      <th></th>\n",
              "      <th>Open</th>\n",
              "      <th>SchoolHoliday</th>\n",
              "      <th>public_holiday</th>\n",
              "      <th>easter_holiday</th>\n",
              "      <th>christmas</th>\n",
              "    </tr>\n",
              "  </thead>\n",
              "  <tbody>\n",
              "    <tr>\n",
              "      <th>0</th>\n",
              "      <td>Closed</td>\n",
              "      <td>18264</td>\n",
              "      <td>19566</td>\n",
              "      <td>6545</td>\n",
              "      <td>4029</td>\n",
              "    </tr>\n",
              "    <tr>\n",
              "      <th>1</th>\n",
              "      <td>Open</td>\n",
              "      <td>163457</td>\n",
              "      <td>694</td>\n",
              "      <td>145</td>\n",
              "      <td>71</td>\n",
              "    </tr>\n",
              "  </tbody>\n",
              "</table>\n",
              "</div>"
            ],
            "text/plain": [
              "     Open  SchoolHoliday  public_holiday  easter_holiday  christmas\n",
              "0  Closed          18264           19566            6545       4029\n",
              "1    Open         163457             694             145         71"
            ]
          },
          "metadata": {
            "tags": []
          },
          "execution_count": 40
        }
      ]
    },
    {
      "cell_type": "code",
      "metadata": {
        "colab": {
          "base_uri": "https://localhost:8080/",
          "height": 300
        },
        "id": "XGdCeVTom4ey",
        "outputId": "cba829c4-700d-4409-ff36-932cf29d85cd"
      },
      "source": [
        "# melt the data frame to plot bar chart\n",
        "store_holiday_df= pd.melt(store_holiday_df, id_vars =['Open'])\n",
        "store_holiday_df"
      ],
      "execution_count": null,
      "outputs": [
        {
          "output_type": "execute_result",
          "data": {
            "text/html": [
              "<div>\n",
              "<style scoped>\n",
              "    .dataframe tbody tr th:only-of-type {\n",
              "        vertical-align: middle;\n",
              "    }\n",
              "\n",
              "    .dataframe tbody tr th {\n",
              "        vertical-align: top;\n",
              "    }\n",
              "\n",
              "    .dataframe thead th {\n",
              "        text-align: right;\n",
              "    }\n",
              "</style>\n",
              "<table border=\"1\" class=\"dataframe\">\n",
              "  <thead>\n",
              "    <tr style=\"text-align: right;\">\n",
              "      <th></th>\n",
              "      <th>Open</th>\n",
              "      <th>variable</th>\n",
              "      <th>value</th>\n",
              "    </tr>\n",
              "  </thead>\n",
              "  <tbody>\n",
              "    <tr>\n",
              "      <th>0</th>\n",
              "      <td>Closed</td>\n",
              "      <td>SchoolHoliday</td>\n",
              "      <td>18264</td>\n",
              "    </tr>\n",
              "    <tr>\n",
              "      <th>1</th>\n",
              "      <td>Open</td>\n",
              "      <td>SchoolHoliday</td>\n",
              "      <td>163457</td>\n",
              "    </tr>\n",
              "    <tr>\n",
              "      <th>2</th>\n",
              "      <td>Closed</td>\n",
              "      <td>public_holiday</td>\n",
              "      <td>19566</td>\n",
              "    </tr>\n",
              "    <tr>\n",
              "      <th>3</th>\n",
              "      <td>Open</td>\n",
              "      <td>public_holiday</td>\n",
              "      <td>694</td>\n",
              "    </tr>\n",
              "    <tr>\n",
              "      <th>4</th>\n",
              "      <td>Closed</td>\n",
              "      <td>easter_holiday</td>\n",
              "      <td>6545</td>\n",
              "    </tr>\n",
              "    <tr>\n",
              "      <th>5</th>\n",
              "      <td>Open</td>\n",
              "      <td>easter_holiday</td>\n",
              "      <td>145</td>\n",
              "    </tr>\n",
              "    <tr>\n",
              "      <th>6</th>\n",
              "      <td>Closed</td>\n",
              "      <td>christmas</td>\n",
              "      <td>4029</td>\n",
              "    </tr>\n",
              "    <tr>\n",
              "      <th>7</th>\n",
              "      <td>Open</td>\n",
              "      <td>christmas</td>\n",
              "      <td>71</td>\n",
              "    </tr>\n",
              "  </tbody>\n",
              "</table>\n",
              "</div>"
            ],
            "text/plain": [
              "     Open        variable   value\n",
              "0  Closed   SchoolHoliday   18264\n",
              "1    Open   SchoolHoliday  163457\n",
              "2  Closed  public_holiday   19566\n",
              "3    Open  public_holiday     694\n",
              "4  Closed  easter_holiday    6545\n",
              "5    Open  easter_holiday     145\n",
              "6  Closed       christmas    4029\n",
              "7    Open       christmas      71"
            ]
          },
          "metadata": {
            "tags": []
          },
          "execution_count": 41
        }
      ]
    },
    {
      "cell_type": "code",
      "metadata": {
        "colab": {
          "base_uri": "https://localhost:8080/",
          "height": 423
        },
        "id": "V7Epa60Zm6zB",
        "outputId": "9bf8d92b-4825-4297-c13b-817fca65c1e5"
      },
      "source": [
        "plt.figure(figsize=(8,6))\n",
        "sns.barplot(x='variable',y='value',data=store_holiday_df,hue='Open')\n",
        "plt.title('Number of stores open on holidays')"
      ],
      "execution_count": null,
      "outputs": [
        {
          "output_type": "execute_result",
          "data": {
            "text/plain": [
              "Text(0.5, 1.0, 'Number of stores open on holidays')"
            ]
          },
          "metadata": {
            "tags": []
          },
          "execution_count": 42
        },
        {
          "output_type": "display_data",
          "data": {
            "image/png": "[encoded data removed]",
            "text/plain": [
              "<Figure size 576x432 with 1 Axes>"
            ]
          },
          "metadata": {
            "tags": [],
            "needs_background": "light"
          }
        }
      ]
    },
    {
      "cell_type": "markdown",
      "metadata": {
        "id": "bqK05o6wmN12"
      },
      "source": [
        "For the linear regression model, we need to provide data in normal distribution to make accurate predictions. Let's plot distribution graphs."
      ]
    },
    {
      "cell_type": "code",
      "metadata": {
        "colab": {
          "base_uri": "https://localhost:8080/",
          "height": 1000
        },
        "id": "FyU0L_AinBAE",
        "outputId": "8f5c569b-9273-4b74-a739-b652a3933d4f"
      },
      "source": [
        "# plot the distribution of values\n",
        "store_data_df.hist(figsize=(16,16))"
      ],
      "execution_count": null,
      "outputs": [
        {
          "output_type": "execute_result",
          "data": {
            "text/plain": [
              "array([[<matplotlib.axes._subplots.AxesSubplot object at 0x7fb6b3ad72d0>,\n",
              "        <matplotlib.axes._subplots.AxesSubplot object at 0x7fb6b3a8bfd0>,\n",
              "        <matplotlib.axes._subplots.AxesSubplot object at 0x7fb6b38f6c50>,\n",
              "        <matplotlib.axes._subplots.AxesSubplot object at 0x7fb6b3add190>],\n",
              "       [<matplotlib.axes._subplots.AxesSubplot object at 0x7fb6b1dad450>,\n",
              "        <matplotlib.axes._subplots.AxesSubplot object at 0x7fb6b1d61ad0>,\n",
              "        <matplotlib.axes._subplots.AxesSubplot object at 0x7fb6b1d25210>,\n",
              "        <matplotlib.axes._subplots.AxesSubplot object at 0x7fb6b1cda7d0>],\n",
              "       [<matplotlib.axes._subplots.AxesSubplot object at 0x7fb6b1cda810>,\n",
              "        <matplotlib.axes._subplots.AxesSubplot object at 0x7fb6b1c90f90>,\n",
              "        <matplotlib.axes._subplots.AxesSubplot object at 0x7fb6b1c88bd0>,\n",
              "        <matplotlib.axes._subplots.AxesSubplot object at 0x7fb6b1bcb290>],\n",
              "       [<matplotlib.axes._subplots.AxesSubplot object at 0x7fb6b1bff910>,\n",
              "        <matplotlib.axes._subplots.AxesSubplot object at 0x7fb6b1bb8f90>,\n",
              "        <matplotlib.axes._subplots.AxesSubplot object at 0x7fb6b1b79650>,\n",
              "        <matplotlib.axes._subplots.AxesSubplot object at 0x7fb6b1b2fcd0>]],\n",
              "      dtype=object)"
            ]
          },
          "metadata": {
            "tags": []
          },
          "execution_count": 43
        },
        {
          "output_type": "display_data",
          "data": {
            "image/png": "[encoded data removed]",
            "text/plain": [
              "<Figure size 1152x1152 with 16 Axes>"
            ]
          },
          "metadata": {
            "tags": [],
            "needs_background": "light"
          }
        }
      ]
    },
    {
      "cell_type": "markdown",
      "metadata": {
        "id": "vdlhcG0Cm4PA"
      },
      "source": [
        "Sales and Customer data are right-skewed. We can log transform the data to remove this skewness."
      ]
    },
    {
      "cell_type": "code",
      "metadata": {
        "id": "Dm0GGxd2OrnM"
      },
      "source": [
        "# Log transforming features\n",
        "store_data_df['Sales_log_t'] = store_data_df['Sales'].apply(lambda x: np.log(x+1))\n",
        "store_data_df['Customers_log_t'] = store_data_df['Customers'].apply(lambda x: np.log(x+1))"
      ],
      "execution_count": null,
      "outputs": []
    },
    {
      "cell_type": "code",
      "metadata": {
        "colab": {
          "base_uri": "https://localhost:8080/",
          "height": 1000
        },
        "id": "AfE_4FEYRc3s",
        "outputId": "f04fb9e5-e066-41bf-b374-5906637fdd9a"
      },
      "source": [
        "store_data_df.hist(figsize=(16,16))"
      ],
      "execution_count": null,
      "outputs": [
        {
          "output_type": "execute_result",
          "data": {
            "text/plain": [
              "array([[<matplotlib.axes._subplots.AxesSubplot object at 0x7fb6b196aed0>,\n",
              "        <matplotlib.axes._subplots.AxesSubplot object at 0x7fb6b1850a10>,\n",
              "        <matplotlib.axes._subplots.AxesSubplot object at 0x7fb6af02d190>,\n",
              "        <matplotlib.axes._subplots.AxesSubplot object at 0x7fb6af061710>],\n",
              "       [<matplotlib.axes._subplots.AxesSubplot object at 0x7fb6af7b6c90>,\n",
              "        <matplotlib.axes._subplots.AxesSubplot object at 0x7fb6afd17250>,\n",
              "        <matplotlib.axes._subplots.AxesSubplot object at 0x7fb6ae294850>,\n",
              "        <matplotlib.axes._subplots.AxesSubplot object at 0x7fb6ae9c8d10>],\n",
              "       [<matplotlib.axes._subplots.AxesSubplot object at 0x7fb6ae9c8d50>,\n",
              "        <matplotlib.axes._subplots.AxesSubplot object at 0x7fb6b168d410>,\n",
              "        <matplotlib.axes._subplots.AxesSubplot object at 0x7fb6b1677e10>,\n",
              "        <matplotlib.axes._subplots.AxesSubplot object at 0x7fb6b16393d0>],\n",
              "       [<matplotlib.axes._subplots.AxesSubplot object at 0x7fb6b15ee950>,\n",
              "        <matplotlib.axes._subplots.AxesSubplot object at 0x7fb6b15a6ed0>,\n",
              "        <matplotlib.axes._subplots.AxesSubplot object at 0x7fb6b1569490>,\n",
              "        <matplotlib.axes._subplots.AxesSubplot object at 0x7fb6b151ca10>]],\n",
              "      dtype=object)"
            ]
          },
          "metadata": {
            "tags": []
          },
          "execution_count": 45
        },
        {
          "output_type": "display_data",
          "data": {
            "image/png": "[encoded data removed]",
            "text/plain": [
              "<Figure size 1152x1152 with 16 Axes>"
            ]
          },
          "metadata": {
            "tags": [],
            "needs_background": "light"
          }
        }
      ]
    },
    {
      "cell_type": "markdown",
      "metadata": {
        "id": "yQDsu8tBnRyp"
      },
      "source": [
        "Let's check the relationship between sales and customer data."
      ]
    },
    {
      "cell_type": "code",
      "metadata": {
        "colab": {
          "base_uri": "https://localhost:8080/",
          "height": 298
        },
        "id": "of_BS2cCnFNf",
        "outputId": "b43dac4a-9fda-4250-9d8b-0d3498f040ba"
      },
      "source": [
        "# plot relation between sales and customer\n",
        "sns.scatterplot(data=store_data_df,x='Customers_log_t',y='Sales_log_t')"
      ],
      "execution_count": null,
      "outputs": [
        {
          "output_type": "execute_result",
          "data": {
            "text/plain": [
              "<matplotlib.axes._subplots.AxesSubplot at 0x7fb6b111b650>"
            ]
          },
          "metadata": {
            "tags": []
          },
          "execution_count": 46
        },
        {
          "output_type": "display_data",
          "data": {
            "image/png": "[encoded data removed]",
            "text/plain": [
              "<Figure size 432x288 with 1 Axes>"
            ]
          },
          "metadata": {
            "tags": [],
            "needs_background": "light"
          }
        }
      ]
    },
    {
      "cell_type": "markdown",
      "metadata": {
        "id": "oXaIYM27no1q"
      },
      "source": [
        "Let's check the correlation between each variable."
      ]
    },
    {
      "cell_type": "code",
      "metadata": {
        "colab": {
          "base_uri": "https://localhost:8080/",
          "height": 698
        },
        "id": "pqaZeUvDnJuf",
        "outputId": "41e4577b-d723-401f-c716-ec031c192f5d"
      },
      "source": [
        "# plot correlation matrix\n",
        "plt.figure(figsize=(16,10))\n",
        "sns.heatmap(store_data_df.corr(),annot=True,cmap='coolwarm')\n",
        "plt.title('Correlation matrix')"
      ],
      "execution_count": null,
      "outputs": [
        {
          "output_type": "execute_result",
          "data": {
            "text/plain": [
              "Text(0.5, 1.0, 'Correlation matrix')"
            ]
          },
          "metadata": {
            "tags": []
          },
          "execution_count": 47
        },
        {
          "output_type": "display_data",
          "data": {
            "image/png": "[encoded data removed]",
            "text/plain": [
              "<Figure size 1152x720 with 2 Axes>"
            ]
          },
          "metadata": {
            "tags": [],
            "needs_background": "light"
          }
        }
      ]
    },
    {
      "cell_type": "markdown",
      "metadata": {
        "id": "qWDRinWgoJyA"
      },
      "source": [
        "We can see that some features have a high correlation. We need to remove this multicollinearity, but before we feed this data to our linear regression model we need to combine our datasets.\n",
        "\n",
        "We need to merge the data based on store id to form a single dataset."
      ]
    },
    {
      "cell_type": "code",
      "metadata": {
        "colab": {
          "base_uri": "https://localhost:8080/",
          "height": 226
        },
        "id": "KDrV6QT8nOlc",
        "outputId": "d17d3cf4-d1f1-475a-fffd-8f98ceaabc0b"
      },
      "source": [
        "# merge datasets\n",
        "sales_df = pd.merge(left=store_data_df, right=store_df, on='Store')\n",
        "sales_df.head()"
      ],
      "execution_count": null,
      "outputs": [
        {
          "output_type": "execute_result",
          "data": {
            "text/html": [
              "<div>\n",
              "<style scoped>\n",
              "    .dataframe tbody tr th:only-of-type {\n",
              "        vertical-align: middle;\n",
              "    }\n",
              "\n",
              "    .dataframe tbody tr th {\n",
              "        vertical-align: top;\n",
              "    }\n",
              "\n",
              "    .dataframe thead th {\n",
              "        text-align: right;\n",
              "    }\n",
              "</style>\n",
              "<table border=\"1\" class=\"dataframe\">\n",
              "  <thead>\n",
              "    <tr style=\"text-align: right;\">\n",
              "      <th></th>\n",
              "      <th>Store</th>\n",
              "      <th>DayOfWeek</th>\n",
              "      <th>Sales</th>\n",
              "      <th>Customers</th>\n",
              "      <th>Open</th>\n",
              "      <th>Promo</th>\n",
              "      <th>SchoolHoliday</th>\n",
              "      <th>public_holiday</th>\n",
              "      <th>easter_holiday</th>\n",
              "      <th>christmas</th>\n",
              "      <th>Year</th>\n",
              "      <th>Month</th>\n",
              "      <th>Day</th>\n",
              "      <th>Sales_log_t</th>\n",
              "      <th>Customers_log_t</th>\n",
              "      <th>CompetitionDistance</th>\n",
              "      <th>CompetitionOpenSinceMonth</th>\n",
              "      <th>CompetitionOpenSinceYear</th>\n",
              "      <th>Promo2</th>\n",
              "      <th>Promo2SinceWeek</th>\n",
              "      <th>Promo2SinceYear</th>\n",
              "      <th>PromoInterval1</th>\n",
              "      <th>PromoInterval2</th>\n",
              "      <th>PromoInterval3</th>\n",
              "      <th>Store_Type</th>\n",
              "      <th>Assortment_Level</th>\n",
              "    </tr>\n",
              "  </thead>\n",
              "  <tbody>\n",
              "    <tr>\n",
              "      <th>0</th>\n",
              "      <td>1</td>\n",
              "      <td>5</td>\n",
              "      <td>5263</td>\n",
              "      <td>555</td>\n",
              "      <td>1</td>\n",
              "      <td>1</td>\n",
              "      <td>1</td>\n",
              "      <td>0</td>\n",
              "      <td>0</td>\n",
              "      <td>0</td>\n",
              "      <td>2015</td>\n",
              "      <td>7</td>\n",
              "      <td>31</td>\n",
              "      <td>8.568646</td>\n",
              "      <td>6.320768</td>\n",
              "      <td>1270.0</td>\n",
              "      <td>9.0</td>\n",
              "      <td>2008.0</td>\n",
              "      <td>0</td>\n",
              "      <td>0.0</td>\n",
              "      <td>0.0</td>\n",
              "      <td>0</td>\n",
              "      <td>0</td>\n",
              "      <td>0</td>\n",
              "      <td>3</td>\n",
              "      <td>1</td>\n",
              "    </tr>\n",
              "    <tr>\n",
              "      <th>1</th>\n",
              "      <td>1</td>\n",
              "      <td>4</td>\n",
              "      <td>5020</td>\n",
              "      <td>546</td>\n",
              "      <td>1</td>\n",
              "      <td>1</td>\n",
              "      <td>1</td>\n",
              "      <td>0</td>\n",
              "      <td>0</td>\n",
              "      <td>0</td>\n",
              "      <td>2015</td>\n",
              "      <td>7</td>\n",
              "      <td>30</td>\n",
              "      <td>8.521384</td>\n",
              "      <td>6.304449</td>\n",
              "      <td>1270.0</td>\n",
              "      <td>9.0</td>\n",
              "      <td>2008.0</td>\n",
              "      <td>0</td>\n",
              "      <td>0.0</td>\n",
              "      <td>0.0</td>\n",
              "      <td>0</td>\n",
              "      <td>0</td>\n",
              "      <td>0</td>\n",
              "      <td>3</td>\n",
              "      <td>1</td>\n",
              "    </tr>\n",
              "    <tr>\n",
              "      <th>2</th>\n",
              "      <td>1</td>\n",
              "      <td>3</td>\n",
              "      <td>4782</td>\n",
              "      <td>523</td>\n",
              "      <td>1</td>\n",
              "      <td>1</td>\n",
              "      <td>1</td>\n",
              "      <td>0</td>\n",
              "      <td>0</td>\n",
              "      <td>0</td>\n",
              "      <td>2015</td>\n",
              "      <td>7</td>\n",
              "      <td>29</td>\n",
              "      <td>8.472823</td>\n",
              "      <td>6.261492</td>\n",
              "      <td>1270.0</td>\n",
              "      <td>9.0</td>\n",
              "      <td>2008.0</td>\n",
              "      <td>0</td>\n",
              "      <td>0.0</td>\n",
              "      <td>0.0</td>\n",
              "      <td>0</td>\n",
              "      <td>0</td>\n",
              "      <td>0</td>\n",
              "      <td>3</td>\n",
              "      <td>1</td>\n",
              "    </tr>\n",
              "    <tr>\n",
              "      <th>3</th>\n",
              "      <td>1</td>\n",
              "      <td>2</td>\n",
              "      <td>5011</td>\n",
              "      <td>560</td>\n",
              "      <td>1</td>\n",
              "      <td>1</td>\n",
              "      <td>1</td>\n",
              "      <td>0</td>\n",
              "      <td>0</td>\n",
              "      <td>0</td>\n",
              "      <td>2015</td>\n",
              "      <td>7</td>\n",
              "      <td>28</td>\n",
              "      <td>8.519590</td>\n",
              "      <td>6.329721</td>\n",
              "      <td>1270.0</td>\n",
              "      <td>9.0</td>\n",
              "      <td>2008.0</td>\n",
              "      <td>0</td>\n",
              "      <td>0.0</td>\n",
              "      <td>0.0</td>\n",
              "      <td>0</td>\n",
              "      <td>0</td>\n",
              "      <td>0</td>\n",
              "      <td>3</td>\n",
              "      <td>1</td>\n",
              "    </tr>\n",
              "    <tr>\n",
              "      <th>4</th>\n",
              "      <td>1</td>\n",
              "      <td>1</td>\n",
              "      <td>6102</td>\n",
              "      <td>612</td>\n",
              "      <td>1</td>\n",
              "      <td>1</td>\n",
              "      <td>1</td>\n",
              "      <td>0</td>\n",
              "      <td>0</td>\n",
              "      <td>0</td>\n",
              "      <td>2015</td>\n",
              "      <td>7</td>\n",
              "      <td>27</td>\n",
              "      <td>8.716536</td>\n",
              "      <td>6.418365</td>\n",
              "      <td>1270.0</td>\n",
              "      <td>9.0</td>\n",
              "      <td>2008.0</td>\n",
              "      <td>0</td>\n",
              "      <td>0.0</td>\n",
              "      <td>0.0</td>\n",
              "      <td>0</td>\n",
              "      <td>0</td>\n",
              "      <td>0</td>\n",
              "      <td>3</td>\n",
              "      <td>1</td>\n",
              "    </tr>\n",
              "  </tbody>\n",
              "</table>\n",
              "</div>"
            ],
            "text/plain": [
              "   Store  DayOfWeek  Sales  ...  PromoInterval3  Store_Type  Assortment_Level\n",
              "0      1          5   5263  ...               0           3                 1\n",
              "1      1          4   5020  ...               0           3                 1\n",
              "2      1          3   4782  ...               0           3                 1\n",
              "3      1          2   5011  ...               0           3                 1\n",
              "4      1          1   6102  ...               0           3                 1\n",
              "\n",
              "[5 rows x 26 columns]"
            ]
          },
          "metadata": {
            "tags": []
          },
          "execution_count": 48
        }
      ]
    },
    {
      "cell_type": "markdown",
      "metadata": {
        "id": "2Mm_Dux7pSDh"
      },
      "source": [
        "Now that we have a dataset, we can prepare it for our model.\n",
        "\n",
        "We have promo2 information that is a consecutive promotional offer that runs for a month at 2 months interval. But how we can use this information?\n",
        "\n",
        "Well, we have information about the date so we can calculate if promo2 is running on the particular date. This binary value will be useful information for training our model. "
      ]
    },
    {
      "cell_type": "code",
      "metadata": {
        "id": "2SRKRXFS_Ent"
      },
      "source": [
        "# updating promo2 for given date\n",
        "def continuous_promotion(data):\n",
        "  promo_month = False\n",
        "  # promo2 is valid for stores that participate in continuous and consecutive promotion\n",
        "  if data['Promo2'] == 1:\n",
        "    # promotion should be running on current month\n",
        "    current_month = data['Month']\n",
        "    if ((current_month % 3 == 1) and (data['PromoInterval1'] == 1)):\n",
        "      promo_month = True\n",
        "    if ((current_month % 3 == 2) and (data['PromoInterval2'] == 1)):\n",
        "      promo_month = True\n",
        "    if ((current_month % 3 == 0) and (data['PromoInterval3'] == 1)):\n",
        "      promo_month = True\n",
        "    # if current moth is promo month then promotion should start before current date\n",
        "    if promo_month:\n",
        "      if (data['Year'] > data['Promo2SinceYear']):\n",
        "        # promo2 start before current year\n",
        "        return 1\n",
        "      if (data['Year'] == data['Promo2SinceYear']):\n",
        "        # promo2 start on this year\n",
        "        if (current_month > ((data['Promo2SinceWeek']//4)+1)):\n",
        "          # promo2 start before current month\n",
        "          return 1\n",
        "  return 0"
      ],
      "execution_count": null,
      "outputs": []
    },
    {
      "cell_type": "code",
      "metadata": {
        "id": "LMXnG_4aHcjm"
      },
      "source": [
        "# combine features for promo2\n",
        "sales_df['Promo_cont'] = sales_df.apply(continuous_promotion, axis=1)"
      ],
      "execution_count": null,
      "outputs": []
    },
    {
      "cell_type": "code",
      "metadata": {
        "id": "_VTZq8tJOXmU"
      },
      "source": [
        "# remove columns\n",
        "sales_df.drop(columns=['Promo2', 'Promo2SinceWeek', 'Promo2SinceYear', 'PromoInterval1', 'PromoInterval2', 'PromoInterval3'], inplace=True)"
      ],
      "execution_count": null,
      "outputs": []
    },
    {
      "cell_type": "code",
      "metadata": {
        "colab": {
          "base_uri": "https://localhost:8080/",
          "height": 226
        },
        "id": "GGTVXUlJQC6U",
        "outputId": "8507df13-aa70-4b34-f1e5-44931fb6d137"
      },
      "source": [
        "sales_df.head()"
      ],
      "execution_count": null,
      "outputs": [
        {
          "output_type": "execute_result",
          "data": {
            "text/html": [
              "<div>\n",
              "<style scoped>\n",
              "    .dataframe tbody tr th:only-of-type {\n",
              "        vertical-align: middle;\n",
              "    }\n",
              "\n",
              "    .dataframe tbody tr th {\n",
              "        vertical-align: top;\n",
              "    }\n",
              "\n",
              "    .dataframe thead th {\n",
              "        text-align: right;\n",
              "    }\n",
              "</style>\n",
              "<table border=\"1\" class=\"dataframe\">\n",
              "  <thead>\n",
              "    <tr style=\"text-align: right;\">\n",
              "      <th></th>\n",
              "      <th>Store</th>\n",
              "      <th>DayOfWeek</th>\n",
              "      <th>Sales</th>\n",
              "      <th>Customers</th>\n",
              "      <th>Open</th>\n",
              "      <th>Promo</th>\n",
              "      <th>SchoolHoliday</th>\n",
              "      <th>public_holiday</th>\n",
              "      <th>easter_holiday</th>\n",
              "      <th>christmas</th>\n",
              "      <th>Year</th>\n",
              "      <th>Month</th>\n",
              "      <th>Day</th>\n",
              "      <th>Sales_log_t</th>\n",
              "      <th>Customers_log_t</th>\n",
              "      <th>CompetitionDistance</th>\n",
              "      <th>CompetitionOpenSinceMonth</th>\n",
              "      <th>CompetitionOpenSinceYear</th>\n",
              "      <th>Store_Type</th>\n",
              "      <th>Assortment_Level</th>\n",
              "      <th>Promo_cont</th>\n",
              "    </tr>\n",
              "  </thead>\n",
              "  <tbody>\n",
              "    <tr>\n",
              "      <th>0</th>\n",
              "      <td>1</td>\n",
              "      <td>5</td>\n",
              "      <td>5263</td>\n",
              "      <td>555</td>\n",
              "      <td>1</td>\n",
              "      <td>1</td>\n",
              "      <td>1</td>\n",
              "      <td>0</td>\n",
              "      <td>0</td>\n",
              "      <td>0</td>\n",
              "      <td>2015</td>\n",
              "      <td>7</td>\n",
              "      <td>31</td>\n",
              "      <td>8.568646</td>\n",
              "      <td>6.320768</td>\n",
              "      <td>1270.0</td>\n",
              "      <td>9.0</td>\n",
              "      <td>2008.0</td>\n",
              "      <td>3</td>\n",
              "      <td>1</td>\n",
              "      <td>0</td>\n",
              "    </tr>\n",
              "    <tr>\n",
              "      <th>1</th>\n",
              "      <td>1</td>\n",
              "      <td>4</td>\n",
              "      <td>5020</td>\n",
              "      <td>546</td>\n",
              "      <td>1</td>\n",
              "      <td>1</td>\n",
              "      <td>1</td>\n",
              "      <td>0</td>\n",
              "      <td>0</td>\n",
              "      <td>0</td>\n",
              "      <td>2015</td>\n",
              "      <td>7</td>\n",
              "      <td>30</td>\n",
              "      <td>8.521384</td>\n",
              "      <td>6.304449</td>\n",
              "      <td>1270.0</td>\n",
              "      <td>9.0</td>\n",
              "      <td>2008.0</td>\n",
              "      <td>3</td>\n",
              "      <td>1</td>\n",
              "      <td>0</td>\n",
              "    </tr>\n",
              "    <tr>\n",
              "      <th>2</th>\n",
              "      <td>1</td>\n",
              "      <td>3</td>\n",
              "      <td>4782</td>\n",
              "      <td>523</td>\n",
              "      <td>1</td>\n",
              "      <td>1</td>\n",
              "      <td>1</td>\n",
              "      <td>0</td>\n",
              "      <td>0</td>\n",
              "      <td>0</td>\n",
              "      <td>2015</td>\n",
              "      <td>7</td>\n",
              "      <td>29</td>\n",
              "      <td>8.472823</td>\n",
              "      <td>6.261492</td>\n",
              "      <td>1270.0</td>\n",
              "      <td>9.0</td>\n",
              "      <td>2008.0</td>\n",
              "      <td>3</td>\n",
              "      <td>1</td>\n",
              "      <td>0</td>\n",
              "    </tr>\n",
              "    <tr>\n",
              "      <th>3</th>\n",
              "      <td>1</td>\n",
              "      <td>2</td>\n",
              "      <td>5011</td>\n",
              "      <td>560</td>\n",
              "      <td>1</td>\n",
              "      <td>1</td>\n",
              "      <td>1</td>\n",
              "      <td>0</td>\n",
              "      <td>0</td>\n",
              "      <td>0</td>\n",
              "      <td>2015</td>\n",
              "      <td>7</td>\n",
              "      <td>28</td>\n",
              "      <td>8.519590</td>\n",
              "      <td>6.329721</td>\n",
              "      <td>1270.0</td>\n",
              "      <td>9.0</td>\n",
              "      <td>2008.0</td>\n",
              "      <td>3</td>\n",
              "      <td>1</td>\n",
              "      <td>0</td>\n",
              "    </tr>\n",
              "    <tr>\n",
              "      <th>4</th>\n",
              "      <td>1</td>\n",
              "      <td>1</td>\n",
              "      <td>6102</td>\n",
              "      <td>612</td>\n",
              "      <td>1</td>\n",
              "      <td>1</td>\n",
              "      <td>1</td>\n",
              "      <td>0</td>\n",
              "      <td>0</td>\n",
              "      <td>0</td>\n",
              "      <td>2015</td>\n",
              "      <td>7</td>\n",
              "      <td>27</td>\n",
              "      <td>8.716536</td>\n",
              "      <td>6.418365</td>\n",
              "      <td>1270.0</td>\n",
              "      <td>9.0</td>\n",
              "      <td>2008.0</td>\n",
              "      <td>3</td>\n",
              "      <td>1</td>\n",
              "      <td>0</td>\n",
              "    </tr>\n",
              "  </tbody>\n",
              "</table>\n",
              "</div>"
            ],
            "text/plain": [
              "   Store  DayOfWeek  Sales  ...  Store_Type  Assortment_Level  Promo_cont\n",
              "0      1          5   5263  ...           3                 1           0\n",
              "1      1          4   5020  ...           3                 1           0\n",
              "2      1          3   4782  ...           3                 1           0\n",
              "3      1          2   5011  ...           3                 1           0\n",
              "4      1          1   6102  ...           3                 1           0\n",
              "\n",
              "[5 rows x 21 columns]"
            ]
          },
          "metadata": {
            "tags": []
          },
          "execution_count": 52
        }
      ]
    },
    {
      "cell_type": "markdown",
      "metadata": {
        "id": "SVmQzHjgSHfQ"
      },
      "source": [
        "We can see that there is a high correlation between some variables. We need to remove this multicollinearity."
      ]
    },
    {
      "cell_type": "markdown",
      "metadata": {
        "id": "_qNOSXbLxU7l"
      },
      "source": [
        "**Removing Multicollinearity**"
      ]
    },
    {
      "cell_type": "code",
      "metadata": {
        "id": "yU2_xfOtpqSH"
      },
      "source": [
        "# function to calculate VIF\n",
        "def calculate_vif(data):\n",
        "  vif = pd.DataFrame()\n",
        "  vif[\"variables\"] = data.columns\n",
        "  vif[\"VIF\"] = [variance_inflation_factor(data.values, i) for i in range(data.shape[1])]\n",
        "  return vif"
      ],
      "execution_count": null,
      "outputs": []
    },
    {
      "cell_type": "code",
      "metadata": {
        "colab": {
          "base_uri": "https://localhost:8080/",
          "height": 582
        },
        "id": "OB5xl-7lvmIP",
        "outputId": "1a4692c2-e969-476f-ffca-51dd6bf751da"
      },
      "source": [
        "calculate_vif(sales_df.drop(columns=['Sales','Customers','Sales_log_t']))"
      ],
      "execution_count": null,
      "outputs": [
        {
          "output_type": "execute_result",
          "data": {
            "text/html": [
              "<div>\n",
              "<style scoped>\n",
              "    .dataframe tbody tr th:only-of-type {\n",
              "        vertical-align: middle;\n",
              "    }\n",
              "\n",
              "    .dataframe tbody tr th {\n",
              "        vertical-align: top;\n",
              "    }\n",
              "\n",
              "    .dataframe thead th {\n",
              "        text-align: right;\n",
              "    }\n",
              "</style>\n",
              "<table border=\"1\" class=\"dataframe\">\n",
              "  <thead>\n",
              "    <tr style=\"text-align: right;\">\n",
              "      <th></th>\n",
              "      <th>variables</th>\n",
              "      <th>VIF</th>\n",
              "    </tr>\n",
              "  </thead>\n",
              "  <tbody>\n",
              "    <tr>\n",
              "      <th>0</th>\n",
              "      <td>Store</td>\n",
              "      <td>4.016097</td>\n",
              "    </tr>\n",
              "    <tr>\n",
              "      <th>1</th>\n",
              "      <td>DayOfWeek</td>\n",
              "      <td>8.588702</td>\n",
              "    </tr>\n",
              "    <tr>\n",
              "      <th>2</th>\n",
              "      <td>Open</td>\n",
              "      <td>249.549734</td>\n",
              "    </tr>\n",
              "    <tr>\n",
              "      <th>3</th>\n",
              "      <td>Promo</td>\n",
              "      <td>2.066414</td>\n",
              "    </tr>\n",
              "    <tr>\n",
              "      <th>4</th>\n",
              "      <td>SchoolHoliday</td>\n",
              "      <td>1.348287</td>\n",
              "    </tr>\n",
              "    <tr>\n",
              "      <th>5</th>\n",
              "      <td>public_holiday</td>\n",
              "      <td>1.235592</td>\n",
              "    </tr>\n",
              "    <tr>\n",
              "      <th>6</th>\n",
              "      <td>easter_holiday</td>\n",
              "      <td>1.120277</td>\n",
              "    </tr>\n",
              "    <tr>\n",
              "      <th>7</th>\n",
              "      <td>christmas</td>\n",
              "      <td>1.080406</td>\n",
              "    </tr>\n",
              "    <tr>\n",
              "      <th>8</th>\n",
              "      <td>Year</td>\n",
              "      <td>44.109260</td>\n",
              "    </tr>\n",
              "    <tr>\n",
              "      <th>9</th>\n",
              "      <td>Month</td>\n",
              "      <td>4.219404</td>\n",
              "    </tr>\n",
              "    <tr>\n",
              "      <th>10</th>\n",
              "      <td>Day</td>\n",
              "      <td>4.322813</td>\n",
              "    </tr>\n",
              "    <tr>\n",
              "      <th>11</th>\n",
              "      <td>Customers_log_t</td>\n",
              "      <td>250.983047</td>\n",
              "    </tr>\n",
              "    <tr>\n",
              "      <th>12</th>\n",
              "      <td>CompetitionDistance</td>\n",
              "      <td>1.565752</td>\n",
              "    </tr>\n",
              "    <tr>\n",
              "      <th>13</th>\n",
              "      <td>Store_Type</td>\n",
              "      <td>3.986225</td>\n",
              "    </tr>\n",
              "    <tr>\n",
              "      <th>14</th>\n",
              "      <td>Assortment_Level</td>\n",
              "      <td>5.235128</td>\n",
              "    </tr>\n",
              "    <tr>\n",
              "      <th>15</th>\n",
              "      <td>Promo_cont</td>\n",
              "      <td>1.191653</td>\n",
              "    </tr>\n",
              "    <tr>\n",
              "      <th>16</th>\n",
              "      <td>CompetitionTime</td>\n",
              "      <td>1.433856</td>\n",
              "    </tr>\n",
              "  </tbody>\n",
              "</table>\n",
              "</div>"
            ],
            "text/plain": [
              "              variables         VIF\n",
              "0                 Store    4.016097\n",
              "1             DayOfWeek    8.588702\n",
              "2                  Open  249.549734\n",
              "3                 Promo    2.066414\n",
              "4         SchoolHoliday    1.348287\n",
              "5        public_holiday    1.235592\n",
              "6        easter_holiday    1.120277\n",
              "7             christmas    1.080406\n",
              "8                  Year   44.109260\n",
              "9                 Month    4.219404\n",
              "10                  Day    4.322813\n",
              "11      Customers_log_t  250.983047\n",
              "12  CompetitionDistance    1.565752\n",
              "13           Store_Type    3.986225\n",
              "14     Assortment_Level    5.235128\n",
              "15           Promo_cont    1.191653\n",
              "16      CompetitionTime    1.433856"
            ]
          },
          "metadata": {
            "tags": []
          },
          "execution_count": 60
        }
      ]
    },
    {
      "cell_type": "markdown",
      "metadata": {
        "id": "nQtDsbWSwKOa"
      },
      "source": [
        "We can see there are very high variation inflation factors. Let's try to remove some columns to reduce VIF."
      ]
    },
    {
      "cell_type": "code",
      "metadata": {
        "id": "W6LUiuEz_Ebz",
        "colab": {
          "base_uri": "https://localhost:8080/",
          "height": 520
        },
        "outputId": "0175ff88-0abe-4bda-fb2f-33268344f72d"
      },
      "source": [
        "calculate_vif(sales_df.drop(columns=['Sales','Customers','Year','Sales_log_t', 'Customers_log_t']))"
      ],
      "execution_count": null,
      "outputs": [
        {
          "output_type": "execute_result",
          "data": {
            "text/html": [
              "<div>\n",
              "<style scoped>\n",
              "    .dataframe tbody tr th:only-of-type {\n",
              "        vertical-align: middle;\n",
              "    }\n",
              "\n",
              "    .dataframe tbody tr th {\n",
              "        vertical-align: top;\n",
              "    }\n",
              "\n",
              "    .dataframe thead th {\n",
              "        text-align: right;\n",
              "    }\n",
              "</style>\n",
              "<table border=\"1\" class=\"dataframe\">\n",
              "  <thead>\n",
              "    <tr style=\"text-align: right;\">\n",
              "      <th></th>\n",
              "      <th>variables</th>\n",
              "      <th>VIF</th>\n",
              "    </tr>\n",
              "  </thead>\n",
              "  <tbody>\n",
              "    <tr>\n",
              "      <th>0</th>\n",
              "      <td>Store</td>\n",
              "      <td>3.730827</td>\n",
              "    </tr>\n",
              "    <tr>\n",
              "      <th>1</th>\n",
              "      <td>DayOfWeek</td>\n",
              "      <td>4.452981</td>\n",
              "    </tr>\n",
              "    <tr>\n",
              "      <th>2</th>\n",
              "      <td>Open</td>\n",
              "      <td>6.191915</td>\n",
              "    </tr>\n",
              "    <tr>\n",
              "      <th>3</th>\n",
              "      <td>Promo</td>\n",
              "      <td>1.872410</td>\n",
              "    </tr>\n",
              "    <tr>\n",
              "      <th>4</th>\n",
              "      <td>SchoolHoliday</td>\n",
              "      <td>1.342025</td>\n",
              "    </tr>\n",
              "    <tr>\n",
              "      <th>5</th>\n",
              "      <td>public_holiday</td>\n",
              "      <td>1.099311</td>\n",
              "    </tr>\n",
              "    <tr>\n",
              "      <th>6</th>\n",
              "      <td>easter_holiday</td>\n",
              "      <td>1.074031</td>\n",
              "    </tr>\n",
              "    <tr>\n",
              "      <th>7</th>\n",
              "      <td>christmas</td>\n",
              "      <td>1.072576</td>\n",
              "    </tr>\n",
              "    <tr>\n",
              "      <th>8</th>\n",
              "      <td>Month</td>\n",
              "      <td>3.904310</td>\n",
              "    </tr>\n",
              "    <tr>\n",
              "      <th>9</th>\n",
              "      <td>Day</td>\n",
              "      <td>3.965944</td>\n",
              "    </tr>\n",
              "    <tr>\n",
              "      <th>10</th>\n",
              "      <td>CompetitionDistance</td>\n",
              "      <td>1.530442</td>\n",
              "    </tr>\n",
              "    <tr>\n",
              "      <th>11</th>\n",
              "      <td>Store_Type</td>\n",
              "      <td>3.705991</td>\n",
              "    </tr>\n",
              "    <tr>\n",
              "      <th>12</th>\n",
              "      <td>Assortment_Level</td>\n",
              "      <td>4.908106</td>\n",
              "    </tr>\n",
              "    <tr>\n",
              "      <th>13</th>\n",
              "      <td>Promo_cont</td>\n",
              "      <td>1.176941</td>\n",
              "    </tr>\n",
              "    <tr>\n",
              "      <th>14</th>\n",
              "      <td>CompetitionTime</td>\n",
              "      <td>1.408883</td>\n",
              "    </tr>\n",
              "  </tbody>\n",
              "</table>\n",
              "</div>"
            ],
            "text/plain": [
              "              variables       VIF\n",
              "0                 Store  3.730827\n",
              "1             DayOfWeek  4.452981\n",
              "2                  Open  6.191915\n",
              "3                 Promo  1.872410\n",
              "4         SchoolHoliday  1.342025\n",
              "5        public_holiday  1.099311\n",
              "6        easter_holiday  1.074031\n",
              "7             christmas  1.072576\n",
              "8                 Month  3.904310\n",
              "9                   Day  3.965944\n",
              "10  CompetitionDistance  1.530442\n",
              "11           Store_Type  3.705991\n",
              "12     Assortment_Level  4.908106\n",
              "13           Promo_cont  1.176941\n",
              "14      CompetitionTime  1.408883"
            ]
          },
          "metadata": {
            "tags": []
          },
          "execution_count": 61
        }
      ]
    },
    {
      "cell_type": "markdown",
      "metadata": {
        "id": "cDQaHe7Jw2cM"
      },
      "source": [
        "Now we have VIF less than 7. So, we can drop unuseful columns and start building linear regression model."
      ]
    }
  ]
}